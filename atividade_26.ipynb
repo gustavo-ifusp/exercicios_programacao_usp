{
  "nbformat": 4,
  "nbformat_minor": 0,
  "metadata": {
    "colab": {
      "name": "atividade 26.ipynb",
      "provenance": [],
      "authorship_tag": "ABX9TyOk6/YiqUxj0hK1pIPw/NIM",
      "include_colab_link": true
    },
    "kernelspec": {
      "name": "python3",
      "display_name": "Python 3"
    }
  },
  "cells": [
    {
      "cell_type": "markdown",
      "metadata": {
        "id": "view-in-github",
        "colab_type": "text"
      },
      "source": [
        "<a href=\"https://colab.research.google.com/github/gustavo-ifusp/exercicios_programacao_usp/blob/main/atividade_26.ipynb\" target=\"_parent\"><img src=\"https://colab.research.google.com/assets/colab-badge.svg\" alt=\"Open In Colab\"/></a>"
      ]
    },
    {
      "cell_type": "code",
      "metadata": {
        "colab": {
          "base_uri": "https://localhost:8080/"
        },
        "id": "asucuajIbGgY",
        "outputId": "fd22ba53-8f8f-4527-c643-6bf3b7ce9e00"
      },
      "source": [
        "# -*- coding: utf-8 -*-\n",
        "\"\"\"\n",
        "Created on Mon Dec  7 13:54:49 2020\n",
        "\n",
        "@author: Usuario\n",
        "\"\"\"\n",
        "import numpy as np\n",
        "def rotina(N,x0,sx0):\n",
        "\n",
        "    x = x0 + sx0*np.random.randn(N)\n",
        "    xm = np.mean(x)\n",
        "    sxm = np.std(x, ddof = 1)/np.sqrt(N)\n",
        "    return x, xm, sxm\n",
        "\n",
        "x0 = 50\n",
        "sx0 = 10 \n",
        "N = 3\n",
        "x, xm, sxm = rotina(N, x0, sx0)\n",
        "\n",
        "print('--------LETRA A---------')\n",
        "t2 = [14, 4.53, 3.31, 2.65, 2.28, 2.13, 2.03, 2]\n",
        "print(f'\\na.1 - (N = {N}) Valor critico para teste t:\\n{t2[N-2]}')\n",
        "print(f'\\na.2 - (N = {N}) Valor critico para teste z:\\n{t2[-1]}')\n",
        "\n",
        "print('--------LETRA B e C---------')\n",
        "\n",
        "Nrep = 10000\n",
        "simu = []\n",
        "t = np.zeros(Nrep)\n",
        "z = np.zeros(Nrep)\n",
        "sxm0 = sx0/np.sqrt(N)\n",
        "for i in range(Nrep):\n",
        "    for j in range(N):\n",
        "        x, xm, sxm = rotina(N, x0, sx0)\n",
        "        t[i] = (xm-x0)/sxm\n",
        "        z[i] = (xm-x0)/sxm0\n",
        "\n",
        "f_t = np.count_nonzero(abs(t)<=t2[N-2])\n",
        "p = f_t/Nrep\n",
        "s_p_t = np.sqrt(Nrep*p*(1-p))/Nrep\n",
        "print(f'b - frequencia de t<t2:\\n{p}({s_p_t})')\n",
        "\n",
        "z_t = np.count_nonzero(abs(z)<=t2[-1])\n",
        "pz = z_t/Nrep\n",
        "s_pz_t = np.sqrt(Nrep*pz*(1-pz))/Nrep\n",
        "print(f'c - frequencia de z<z2:\\n{pz}({s_pz_t})')\n",
        "\n",
        "print('--------LETRA D---------')\n",
        "Nrep = 10000\n",
        "N = 101\n",
        "print(f'\\na1 - (N ={N}): {t2[-2]}')\n",
        "print(f'a2 - (N = {N}): {t2[-1]}')\n",
        "simu = []\n",
        "t = np.zeros(Nrep)\n",
        "z = np.zeros(Nrep)\n",
        "sxm0 = sx0/np.sqrt(N)\n",
        "for i in range(Nrep):\n",
        "    for j in range(N):\n",
        "        x, xm, sxm = rotina(N, x0, sx0)\n",
        "        t[i] = (xm-x0)/sxm\n",
        "        z[i] = (xm-x0)/sxm0\n",
        "\n",
        "f_t = np.count_nonzero(abs(t)<=t2[-2])\n",
        "p = f_t/Nrep\n",
        "s_p_t = np.sqrt(Nrep*p*(1-p))/Nrep\n",
        "print(f'b - frequencia de t<t2:\\n{p}({s_p_t})')\n",
        "\n",
        "z_t = np.count_nonzero(abs(z)<=t2[-1])\n",
        "pz = z_t/Nrep\n",
        "s_pz_t = np.sqrt(Nrep*pz*(1-pz))/Nrep\n",
        "print(f'c - frequencia de z<z2:\\n{pz}({s_pz_t})')"
      ],
      "execution_count": null,
      "outputs": [
        {
          "output_type": "stream",
          "text": [
            "--------LETRA A---------\n",
            "\n",
            "a.1 - (N = 3) Valor critico para teste t:\n",
            "4.53\n",
            "\n",
            "a.2 - (N = 3) Valor critico para teste z:\n",
            "2\n",
            "--------LETRA B e C---------\n",
            "b - frequencia de t<t2:\n",
            "0.9509(0.0021607681504502057)\n",
            "c - frequencia de z<z2:\n",
            "0.9544(0.0020861601089082298)\n",
            "--------LETRA D---------\n",
            "\n",
            "a1 - (N =101): 2.03\n",
            "a2 - (N = 101): 2\n",
            "b - frequencia de t<t2:\n",
            "0.9507(0.0021649367196294677)\n",
            "c - frequencia de z<z2:\n",
            "0.9526(0.0021249291752903202)\n"
          ],
          "name": "stdout"
        }
      ]
    }
  ]
}