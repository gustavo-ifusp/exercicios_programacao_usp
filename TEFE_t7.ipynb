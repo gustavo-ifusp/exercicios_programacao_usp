{
  "nbformat": 4,
  "nbformat_minor": 0,
  "metadata": {
    "colab": {
      "name": "TEFE_t7.ipynb",
      "provenance": [],
      "collapsed_sections": [],
      "include_colab_link": true
    },
    "kernelspec": {
      "name": "python3",
      "display_name": "Python 3"
    }
  },
  "cells": [
    {
      "cell_type": "markdown",
      "metadata": {
        "id": "view-in-github",
        "colab_type": "text"
      },
      "source": [
        "<a href=\"https://colab.research.google.com/github/gustavo-ifusp/exercicios_programacao_usp/blob/main/TEFE_t7.ipynb\" target=\"_parent\"><img src=\"https://colab.research.google.com/assets/colab-badge.svg\" alt=\"Open In Colab\"/></a>"
      ]
    },
    {
      "cell_type": "code",
      "metadata": {
        "id": "kAf90w8IC3L0"
      },
      "source": [
        "import numpy as np\n",
        "import matplotlib.pyplot as plt\n",
        "\n",
        "N = 10000"
      ],
      "execution_count": null,
      "outputs": []
    },
    {
      "cell_type": "code",
      "metadata": {
        "id": "qb01XkkWDRpE"
      },
      "source": [
        "# NxN candidatos a amostras\n",
        "x_s = np.random.default_rng().uniform(-1, 1, (N,N))\n",
        "f_s = np.random.default_rng().uniform(0, 3/4, (N,N))"
      ],
      "execution_count": null,
      "outputs": []
    },
    {
      "cell_type": "code",
      "metadata": {
        "id": "Bb6zOZ3SDTWi",
        "colab": {
          "base_uri": "https://localhost:8080/",
          "height": 34
        },
        "outputId": "070b4e7d-b3ae-4917-e5f8-2abd76168fbb"
      },
      "source": [
        "def f(x): return 3*(1-x**2)/4\n",
        "filtro_exclusao = f_s <= f(x_s)\n",
        "x_raw = x_s[filtro_exclusao]\n",
        "np.shape(x_raw)"
      ],
      "execution_count": null,
      "outputs": [
        {
          "output_type": "execute_result",
          "data": {
            "text/plain": [
              "(66664659,)"
            ]
          },
          "metadata": {
            "tags": []
          },
          "execution_count": 4
        }
      ]
    },
    {
      "cell_type": "code",
      "metadata": {
        "id": "zypalq_fDzZx"
      },
      "source": [
        "n_sym = len(x_raw)//N # Número de simulações completas com N amostras\n",
        "\n",
        "# Separando simulações completas\n",
        "x_raw = x_raw[:n_sym*N]\n",
        "x = x_raw.reshape((n_sym,N))"
      ],
      "execution_count": null,
      "outputs": []
    },
    {
      "cell_type": "code",
      "metadata": {
        "id": "tY07HRMMD2CU",
        "colab": {
          "base_uri": "https://localhost:8080/",
          "height": 34
        },
        "outputId": "c87dfbeb-bb87-4535-d91b-b0cd8fb80719"
      },
      "source": [
        "np.shape(x)"
      ],
      "execution_count": null,
      "outputs": [
        {
          "output_type": "execute_result",
          "data": {
            "text/plain": [
              "(6666, 10000)"
            ]
          },
          "metadata": {
            "tags": []
          },
          "execution_count": 6
        }
      ]
    },
    {
      "cell_type": "code",
      "metadata": {
        "id": "stegdC3ZD68g",
        "colab": {
          "base_uri": "https://localhost:8080/",
          "height": 469
        },
        "outputId": "0dd06c91-3cf2-4c17-fabc-2ea794eb8b42"
      },
      "source": [
        "plt.hist(x[:4].T)\n"
      ],
      "execution_count": null,
      "outputs": [
        {
          "output_type": "execute_result",
          "data": {
            "text/plain": [
              "(array([[ 297.,  775., 1153., 1333., 1457., 1478., 1358., 1112.,  743.,\n",
              "          294.],\n",
              "        [ 285.,  740., 1160., 1315., 1500., 1453., 1398., 1110.,  746.,\n",
              "          293.],\n",
              "        [ 287.,  775., 1114., 1422., 1464., 1384., 1284., 1122.,  836.,\n",
              "          312.],\n",
              "        [ 288.,  758., 1140., 1377., 1489., 1515., 1348., 1056.,  751.,\n",
              "          278.]]),\n",
              " array([-9.95956054e-01, -7.96825082e-01, -5.97694110e-01, -3.98563138e-01,\n",
              "        -1.99432166e-01, -3.01193876e-04,  1.98829778e-01,  3.97960750e-01,\n",
              "         5.97091722e-01,  7.96222695e-01,  9.95353667e-01]),\n",
              " <a list of 4 Lists of Patches objects>)"
            ]
          },
          "metadata": {
            "tags": []
          },
          "execution_count": 7
        },
        {
          "output_type": "display_data",
          "data": {
            "image/png": "[encoded data removed]",
            "text/plain": [
              "<Figure size 432x288 with 1 Axes>"
            ]
          },
          "metadata": {
            "tags": [],
            "needs_background": "light"
          }
        }
      ]
    },
    {
      "cell_type": "markdown",
      "metadata": {
        "id": "2W2IlB9vEMhJ"
      },
      "source": [
        "xm \n",
        "xm  é o valor médio de  x  obtido nas  N  simulações. A incerteza é pedida no próximo item"
      ]
    },
    {
      "cell_type": "code",
      "metadata": {
        "id": "mwrTOxLDEO-Y",
        "colab": {
          "base_uri": "https://localhost:8080/",
          "height": 34
        },
        "outputId": "c7e31028-b920-4d25-8909-eddf2a354939"
      },
      "source": [
        "x[0].mean()"
      ],
      "execution_count": null,
      "outputs": [
        {
          "output_type": "execute_result",
          "data": {
            "text/plain": [
              "-0.0035308386612820184"
            ]
          },
          "metadata": {
            "tags": []
          },
          "execution_count": 8
        }
      ]
    },
    {
      "cell_type": "markdown",
      "metadata": {
        "id": "9blkzaHxEVIQ"
      },
      "source": [
        "σxm \n",
        "σxm é a incerteza do valor médio de x obtido nas N simulações."
      ]
    },
    {
      "cell_type": "code",
      "metadata": {
        "id": "1-OCTgbAEWp9",
        "colab": {
          "base_uri": "https://localhost:8080/",
          "height": 34
        },
        "outputId": "0e60e332-ff97-4675-c0a9-aca20106ce1a"
      },
      "source": [
        "x_m = x.mean(axis=1)\n",
        "np.shape(x_m)"
      ],
      "execution_count": null,
      "outputs": [
        {
          "output_type": "execute_result",
          "data": {
            "text/plain": [
              "(6666,)"
            ]
          },
          "metadata": {
            "tags": []
          },
          "execution_count": 9
        }
      ]
    },
    {
      "cell_type": "code",
      "metadata": {
        "id": "7PKfoWQuEfQ5",
        "colab": {
          "base_uri": "https://localhost:8080/",
          "height": 34
        },
        "outputId": "fba0e17b-1f3a-4f9d-b8c6-d2987fc93ca5"
      },
      "source": [
        "x_m.std(ddof=1)"
      ],
      "execution_count": null,
      "outputs": [
        {
          "output_type": "execute_result",
          "data": {
            "text/plain": [
              "0.004506164664746087"
            ]
          },
          "metadata": {
            "tags": []
          },
          "execution_count": 10
        }
      ]
    },
    {
      "cell_type": "markdown",
      "metadata": {
        "id": "9WdWeo5-EoFD"
      },
      "source": [
        "σx \n",
        "σx é o desvio-padrão amostral dos N valores simulados de x. Escrever o valor calculado com 5 casas decimais. **negrito**"
      ]
    },
    {
      "cell_type": "code",
      "metadata": {
        "id": "cQreWGsgEsRy",
        "colab": {
          "base_uri": "https://localhost:8080/",
          "height": 34
        },
        "outputId": "a0fa1c55-c572-4b8c-c6f0-ae20cfc90f60"
      },
      "source": [
        "sigma_x = x[0].std(ddof=1)\n",
        "sigma_x"
      ],
      "execution_count": null,
      "outputs": [
        {
          "output_type": "execute_result",
          "data": {
            "text/plain": [
              "0.44771286458148973"
            ]
          },
          "metadata": {
            "tags": []
          },
          "execution_count": 11
        }
      ]
    },
    {
      "cell_type": "markdown",
      "metadata": {
        "id": "Py8-C_yAEvht"
      },
      "source": [
        "F1 \n",
        "F1 é a frequência relativa com que foram obtidos valores de x no intervalo entre xm−σx e xm+σx. Escrever o valor calculado com 5 casas decimais."
      ]
    },
    {
      "cell_type": "code",
      "metadata": {
        "id": "ZuLFsamjE7AQ",
        "colab": {
          "base_uri": "https://localhost:8080/",
          "height": 34
        },
        "outputId": "4a172a0c-e0e1-40d7-da45-44963da872ef"
      },
      "source": [
        "np.sum(np.abs(x[0])<sigma_x)/N"
      ],
      "execution_count": null,
      "outputs": [
        {
          "output_type": "execute_result",
          "data": {
            "text/plain": [
              "0.6243"
            ]
          },
          "metadata": {
            "tags": []
          },
          "execution_count": 12
        }
      ]
    },
    {
      "cell_type": "markdown",
      "metadata": {
        "id": "PDSgWX59GjaD"
      },
      "source": [
        "**exercicio 2**"
      ]
    },
    {
      "cell_type": "markdown",
      "metadata": {
        "id": "pGY393nKGmZE"
      },
      "source": [
        ""
      ]
    },
    {
      "cell_type": "code",
      "metadata": {
        "id": "swlK420eGugV"
      },
      "source": [
        "g = np.random.default_rng().uniform(0, 1, (N,N))\n",
        "\n",
        "y = np.arcsin(2*g - 1)"
      ],
      "execution_count": null,
      "outputs": []
    },
    {
      "cell_type": "code",
      "metadata": {
        "id": "4Swp8d9GGzD4",
        "colab": {
          "base_uri": "https://localhost:8080/",
          "height": 34
        },
        "outputId": "f2de6c4f-0691-4ae3-c9db-2562b712a785"
      },
      "source": [
        "np.shape(y)"
      ],
      "execution_count": null,
      "outputs": [
        {
          "output_type": "execute_result",
          "data": {
            "text/plain": [
              "(10000, 10000)"
            ]
          },
          "metadata": {
            "tags": []
          },
          "execution_count": 15
        }
      ]
    },
    {
      "cell_type": "code",
      "metadata": {
        "id": "obJ2a2QGG7YC",
        "colab": {
          "base_uri": "https://localhost:8080/",
          "height": 469
        },
        "outputId": "f0156c9e-437a-424e-90e0-cf9c69c08c11"
      },
      "source": [
        "plt.hist(y[:4].T)"
      ],
      "execution_count": null,
      "outputs": [
        {
          "output_type": "execute_result",
          "data": {
            "text/plain": [
              "(array([[ 259.,  729., 1120., 1424., 1491., 1578., 1330., 1113.,  723.,\n",
              "          233.],\n",
              "        [ 257.,  719., 1150., 1365., 1594., 1545., 1337., 1080.,  708.,\n",
              "          245.],\n",
              "        [ 256.,  676., 1165., 1398., 1551., 1500., 1452., 1036.,  728.,\n",
              "          238.],\n",
              "        [ 248.,  704., 1109., 1404., 1521., 1598., 1435., 1069.,  682.,\n",
              "          230.]]),\n",
              " array([-1.55884597e+00, -1.24680901e+00, -9.34772048e-01, -6.22735085e-01,\n",
              "        -3.10698122e-01,  1.33884042e-03,  3.13375803e-01,  6.25412766e-01,\n",
              "         9.37449729e-01,  1.24948669e+00,  1.56152365e+00]),\n",
              " <a list of 4 Lists of Patches objects>)"
            ]
          },
          "metadata": {
            "tags": []
          },
          "execution_count": 16
        },
        {
          "output_type": "display_data",
          "data": {
            "image/png": "[encoded data removed]",
            "text/plain": [
              "<Figure size 432x288 with 1 Axes>"
            ]
          },
          "metadata": {
            "tags": [],
            "needs_background": "light"
          }
        }
      ]
    },
    {
      "cell_type": "code",
      "metadata": {
        "id": "d3jQhD2nG-IN"
      },
      "source": [
        ""
      ],
      "execution_count": null,
      "outputs": []
    },
    {
      "cell_type": "markdown",
      "metadata": {
        "id": "SpF2yrS4HCn4"
      },
      "source": [
        "**ym \n",
        "ym  é o valor médio de  y  obtido nas  N  simulações. A incerteza é pedida no próximo item.**"
      ]
    },
    {
      "cell_type": "code",
      "metadata": {
        "id": "LuZqNcIJHEiF",
        "colab": {
          "base_uri": "https://localhost:8080/",
          "height": 34
        },
        "outputId": "b309b2f9-dc74-4905-8ad7-c71c805d5aa5"
      },
      "source": [
        "y[0].mean()"
      ],
      "execution_count": null,
      "outputs": [
        {
          "output_type": "execute_result",
          "data": {
            "text/plain": [
              "-0.007102755210162005"
            ]
          },
          "metadata": {
            "tags": []
          },
          "execution_count": 17
        }
      ]
    },
    {
      "cell_type": "markdown",
      "metadata": {
        "id": "DJNXXbRbHR2C"
      },
      "source": [
        "**σym \n",
        "σym é a incerteza do valor médio de y obtido nas N simulações.**"
      ]
    },
    {
      "cell_type": "code",
      "metadata": {
        "id": "Puzr7YQWHTy5",
        "colab": {
          "base_uri": "https://localhost:8080/",
          "height": 34
        },
        "outputId": "19028da6-8c99-4ebe-e396-d297a93e38aa"
      },
      "source": [
        "y_m = y.mean(axis=1)\n",
        "np.shape(y_m)"
      ],
      "execution_count": null,
      "outputs": [
        {
          "output_type": "execute_result",
          "data": {
            "text/plain": [
              "(10000,)"
            ]
          },
          "metadata": {
            "tags": []
          },
          "execution_count": 18
        }
      ]
    },
    {
      "cell_type": "code",
      "metadata": {
        "id": "ux2Z99dQHas1",
        "colab": {
          "base_uri": "https://localhost:8080/",
          "height": 34
        },
        "outputId": "d4ad917f-8a33-4197-eae5-f9209751d6c6"
      },
      "source": [
        "y_m.std(ddof=1)"
      ],
      "execution_count": null,
      "outputs": [
        {
          "output_type": "execute_result",
          "data": {
            "text/plain": [
              "0.006839459327935786"
            ]
          },
          "metadata": {
            "tags": []
          },
          "execution_count": 19
        }
      ]
    },
    {
      "cell_type": "markdown",
      "metadata": {
        "id": "S6uf9hqtHgaf"
      },
      "source": [
        "**σy \n",
        "σy é o desvio-padrão amostral dos N valores simulados de y. Escrever o valor calculado com 5 casas decimais.**"
      ]
    },
    {
      "cell_type": "code",
      "metadata": {
        "id": "nY6lpNOVHh5N",
        "colab": {
          "base_uri": "https://localhost:8080/",
          "height": 34
        },
        "outputId": "63f4d33b-fac8-4ed5-8754-974b32e99b25"
      },
      "source": [
        "sigma_y = y[0].std(ddof=1)\n",
        "sigma_y"
      ],
      "execution_count": null,
      "outputs": [
        {
          "output_type": "execute_result",
          "data": {
            "text/plain": [
              "0.6829603916029519"
            ]
          },
          "metadata": {
            "tags": []
          },
          "execution_count": 20
        }
      ]
    },
    {
      "cell_type": "markdown",
      "metadata": {
        "id": "saOqFytvHsDb"
      },
      "source": [
        "**F1 \n",
        "F1  é a frequência relativa com que foram obtidos valores de  y  no intervalo entre  ym−σy  e  ym+σy . Escrever o valor calculado com 5 casas decimais.**"
      ]
    },
    {
      "cell_type": "code",
      "metadata": {
        "id": "Q0FIZhd3HtSc",
        "colab": {
          "base_uri": "https://localhost:8080/",
          "height": 34
        },
        "outputId": "d496b9c4-11e2-47fb-d3f5-c804a1218a5c"
      },
      "source": [
        "np.sum(np.abs(y[0])<sigma_y)/N"
      ],
      "execution_count": null,
      "outputs": [
        {
          "output_type": "execute_result",
          "data": {
            "text/plain": [
              "0.631"
            ]
          },
          "metadata": {
            "tags": []
          },
          "execution_count": 21
        }
      ]
    }
  ]
}