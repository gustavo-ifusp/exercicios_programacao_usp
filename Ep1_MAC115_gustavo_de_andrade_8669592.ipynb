{
  "nbformat": 4,
  "nbformat_minor": 0,
  "metadata": {
    "colab": {
      "name": "Ep1-MAC115-gustavo-de-andrade-8669592.ipynb",
      "provenance": [],
      "authorship_tag": "ABX9TyPp72q2JDeZklxSo1d1uQX4",
      "include_colab_link": true
    },
    "kernelspec": {
      "name": "python3",
      "display_name": "Python 3"
    },
    "language_info": {
      "name": "python"
    }
  },
  "cells": [
    {
      "cell_type": "markdown",
      "metadata": {
        "id": "view-in-github",
        "colab_type": "text"
      },
      "source": [
        "<a href=\"https://colab.research.google.com/github/gustavo-ifusp/exercicios_programacao_usp/blob/main/Ep1_MAC115_gustavo_de_andrade_8669592.ipynb\" target=\"_parent\"><img src=\"https://colab.research.google.com/assets/colab-badge.svg\" alt=\"Open In Colab\"/></a>"
      ]
    },
    {
      "cell_type": "markdown",
      "metadata": {
        "id": "BvvkFz2A7CYZ"
      },
      "source": [
        "#**Jogo da Cobrinha em Python**\n",
        "[link do Enunciado](http://www.vision.ime.usp.br/~pmiranda/mac0115_2s21/EP1/)<br><br>\n",
        "**Gustavo de Andrade - 8669592**"
      ]
    },
    {
      "cell_type": "markdown",
      "metadata": {
        "id": "cC8u5-2YCNLn"
      },
      "source": [
        "#**Parte A**"
      ]
    },
    {
      "cell_type": "code",
      "metadata": {
        "id": "dnPcB0eQsdCi"
      },
      "source": [
        "\"\"\"\n",
        "  AO PREENCHER ESSE CABEÇALHO COM O MEU NOME E O MEU NÚMERO USP, \n",
        "  DECLARO QUE SOU O ÚNICO AUTOR E RESPONSÁVEL POR ESSE PROGRAMA. \n",
        "  TODAS AS PARTES ORIGINAIS DESSE EXERCÍCIO PROGRAMA (EP) FORAM \n",
        "  DESENVOLVIDAS E IMPLEMENTADAS POR MIM SEGUINDO AS INSTRUÇÕES\n",
        "  DESSE EP E QUE PORTANTO NÃO CONSTITUEM DESONESTIDADE ACADÊMICA\n",
        "  OU PLÁGIO.  \n",
        "  DECLARO TAMBÉM QUE SOU RESPONSÁVEL POR TODAS AS CÓPIAS\n",
        "  DESSE PROGRAMA E QUE EU NÃO DISTRIBUI OU FACILITEI A\n",
        "  SUA DISTRIBUIÇÃO. ESTOU CIENTE QUE OS CASOS DE PLÁGIO E\n",
        "  DESONESTIDADE ACADÊMICA SERÃO TRATADOS SEGUNDO OS CRITÉRIOS\n",
        "  DIVULGADOS NA PÁGINA DA DISCIPLINA.\n",
        "  ENTENDO QUE EPS SEM ASSINATURA NÃO SERÃO CORRIGIDOS E,\n",
        "  AINDA ASSIM, PODERÃO SER PUNIDOS POR DESONESTIDADE ACADÊMICA.\n",
        "\n",
        "  Nome : Gustavo de Andrade\n",
        "  NUSP : 8669592\n",
        "\n",
        "  Referências: Com exceção das rotinas fornecidas no enunciado\n",
        "  e em sala de aula, caso você tenha utilizado alguma refência,\n",
        "  liste-as abaixo para que o seu programa não seja considerado\n",
        "  plágio ou irregular.\n",
        "  \n",
        "  Exemplo:\n",
        "  - O algoritmo Quicksort foi baseado em\n",
        "  http://wiki.python.org.br/QuickSort\n",
        "\"\"\"\n"
      ],
      "execution_count": null,
      "outputs": []
    },
    {
      "cell_type": "code",
      "metadata": {
        "id": "FxsX7KPckpKs",
        "colab": {
          "base_uri": "https://localhost:8080/"
        },
        "outputId": "bb82ecb1-f82a-4a82-f11d-34a8482d2fe5"
      },
      "source": [
        "nlinhas = int(input('nlinhas: ')) \n",
        "ncolunas = int(input('ncolunas: ')) \n",
        "x = int(input('x: '))\n",
        "y = int(input('y: '))\n",
        "tam = int(input('tam: '))\n",
        "mov = int(input(\"mov: \"))\n",
        "\n",
        "#variáveis de controle\n",
        "\n",
        "xcab, ycab = x, y\n",
        "tam_c = tam\n",
        "mov_save = mov\n",
        "mov_inv_p = mov_inv =  0\n",
        "d = ''\n",
        "colisao_si = False\n",
        "colisao_pa = False\n",
        "mov_inv = 0\n",
        "\n",
        "#inversor do movimento\n",
        "\n",
        "while mov >= 1: #inversor do movimento\n",
        "    mov_inv_p = mov % 10\n",
        "    mov_inv = (mov_inv*10) + mov_inv_p\n",
        "    mov = mov//10\n",
        "\n",
        "#este é o tamanho do corpo, variavel de control\n",
        "n=0\n",
        "n = tam - 1\n",
        "move_control = mov_save\n",
        "while n > 0:\n",
        "    d = str(move_control % 10)+d\n",
        "    move_control = move_control // 10\n",
        "    if move_control < 1:\n",
        "        move_control = mov_save\n",
        "    n -= 1\n",
        "d = int(d)\n",
        "    \n",
        "#Fazendo o movimento da cabeça\n",
        "\n",
        "movn = 0\n",
        "mov_inv_s = int(mov_inv)\n",
        "while mov_inv_s >=1:\n",
        "    #Fazendo a posição  do corpo\n",
        "    d_t = d\n",
        "    if xcab == x and ycab == y:\n",
        "        xcorpo, ycorpo = xcab, ycab\n",
        "        while d_t >= 1:\n",
        "            if xcorpo > 0 and xcorpo <= ncolunas:\n",
        "                xcorpo -= 1\n",
        "            elif ycorpo == nlinhas and xcorpo == 1:\n",
        "                xcorpo += 1\n",
        "            else:\n",
        "                ycorpo += 1\n",
        "            if xcorpo == xcab and ycorpo == ycab:\n",
        "                colisao_si = True\n",
        "            if xcab < 0 or xcab > ncolunas-1 or ycab > nlinhas-1 or ycab < 0:\n",
        "                colisao_pa = True\n",
        "            d_t = d_t //10\n",
        "    #nova posição da cabeça da cobra        \n",
        "    movn = mov_inv_s % 10\n",
        "    x_controle = xcab\n",
        "    y_controle = ycab\n",
        "    if movn == 1:\n",
        "        xcab -= 1 \n",
        "    elif movn == 2:\n",
        "        xcab +=1\n",
        "    elif movn == 3:\n",
        "        ycab -= 1\n",
        "    else:\n",
        "        ycab +=1  \n",
        "    if xcab < 0 or xcab > ncolunas-1 or ycab > nlinhas-1 or ycab < 0:\n",
        "        colisao_pa = True\n",
        "    if xcab == x_controle-1 and ycab == y_controle:\n",
        "        colisao_si = True\n",
        "    xcorpo = x_controle\n",
        "    ycorpo = y_controle \n",
        "    d_t = d\n",
        "    while d_t//10 > 1:\n",
        "        if (xcorpo == xcab and ycorpo == ycab):\n",
        "            colisao_si = True\n",
        "            print(xcorpo,ycorpo,\"(\",xcab,\",\",ycab,\")\")\n",
        "        if xcorpo > 0 and xcorpo < ncolunas:\n",
        "            xcorpo -= 1\n",
        "        elif ycorpo == nlinhas - 1 and xcorpo == 0:\n",
        "            xcorpo += 1\n",
        "        elif ycorpo == nlinhas - 1 and xcorpo == 0 and xcab == xcorpo + 1:\n",
        "            ycorpo -= 1\n",
        "        else:\n",
        "            ycorpo += 1\n",
        "        d_t = d_t // 10\n",
        "    mov_inv_s = mov_inv_s // 10\n",
        "if colisao_pa is True:\n",
        "    print(\"COLISÃO COM A PAREDE\")\n",
        "elif colisao_si is True:\n",
        "    print(\"COLISÃO COM SI MESMA\")\n",
        "else:\n",
        "    print(\"cobra: d=\",d,\"(x,y)=(\",xcab,\",\",ycab,\")\", end=\"\")"
      ],
      "execution_count": null,
      "outputs": [
        {
          "output_type": "stream",
          "name": "stdout",
          "text": [
            "nlinhas: 4\n",
            "ncolunas: 8\n",
            "x: 4\n",
            "y: 1\n",
            "tam: 2322\n",
            "mov: 5464151\n",
            "3 5 ( 3 , 5 )\n",
            "2 6 ( 2 , 6 )\n",
            "COLISÃO COM A PAREDE\n"
          ]
        }
      ]
    },
    {
      "cell_type": "code",
      "metadata": {
        "id": "SOO-azfxkoeV",
        "colab": {
          "base_uri": "https://localhost:8080/"
        },
        "outputId": "c924b5a9-e1da-4e44-b0cd-67e1dcaf7849"
      },
      "source": [
        "nlinhas = int(input('nlinhas: ')) \n",
        "ncolunas = int(input('ncolunas: ')) \n",
        "x = int(input('x: '))\n",
        "y = int(input('y: '))\n",
        "tam = int(input('tam: '))\n",
        "mov = int(input(\"mov: \"))\n",
        "\n",
        "#variáveis de controle\n",
        "\n",
        "xcab, ycab = x, y\n",
        "tam_c = tam\n",
        "mov_save = mov\n",
        "mov_inv_p = mov_inv =  0\n",
        "d = ''\n",
        "colisao_si = False\n",
        "colisao_pa = False\n",
        "print(x,y)\n",
        "\n",
        "#inversor do movimento\n",
        "\n",
        "while mov >= 1: #inversor do movimento\n",
        "    mov_inv_p = mov % 10\n",
        "    mov_inv = (mov_inv*10) + mov_inv_p\n",
        "    mov = mov//10\n",
        "\n",
        "#este é o tamanho do corpo, variavel de control\n",
        "\n",
        "while tam_c - 1 > 0:\n",
        "    d = \"2\" + d\n",
        "    tam_c -= 1\n",
        "d = int(d)\n",
        "d_t = d\n",
        "print(d_t)\n",
        "#Fazendo o movimento da cabeça\n",
        "xcorpo, ycorpo = xcab, ycab\n",
        "while d  > 1:\n",
        "    if xcorpo > 0:\n",
        "        xcorpo -= 1\n",
        "    elif ycorpo == nlinhas and xcorpo == 1:\n",
        "        xcorpo += 1\n",
        "    else:\n",
        "       ycorpo += 1\n",
        "    if xcorpo == xcab and ycorpo == ycab:\n",
        "       colisao_si = True\n",
        "    if xcab < 0 or xcab > ncolunas-1 or ycab > nlinhas-1 or ycab < 0:\n",
        "       colisao_pa = True\n",
        "    print(\"(\",xcorpo,\",\",ycorpo,\")\")\n",
        "    d = d // 10\n",
        "    print(d)"
      ],
      "execution_count": null,
      "outputs": [
        {
          "output_type": "stream",
          "name": "stdout",
          "text": [
            "nlinhas: 4\n",
            "ncolunas: 8\n",
            "x: 4\n",
            "y: 3\n",
            "tam: 5\n",
            "mov: 22314\n",
            "4 3\n",
            "2222\n",
            "( 3 , 3 )\n",
            "222\n",
            "( 2 , 3 )\n",
            "22\n",
            "( 1 , 3 )\n",
            "2\n",
            "( 0 , 3 )\n",
            "0\n"
          ]
        }
      ]
    },
    {
      "cell_type": "markdown",
      "metadata": {
        "id": "EyCkWAshCZzN"
      },
      "source": [
        "#**Parte B**"
      ]
    },
    {
      "cell_type": "code",
      "metadata": {
        "id": "kgyOImVcCbhZ",
        "colab": {
          "base_uri": "https://localhost:8080/"
        },
        "outputId": "56321248-4d78-409c-fc2b-310ac4cf7e8e"
      },
      "source": [
        "nlinhas = int(input('nlinhas: ')) \n",
        "ncolunas = int(input('ncolunas: ')) \n",
        "x = int(input('x: '))\n",
        "y = int(input('y: '))\n",
        "d = int(input(\"d: \"))"
      ],
      "execution_count": null,
      "outputs": [
        {
          "name": "stdout",
          "output_type": "stream",
          "text": [
            "nlinhas: 4\n",
            "ncolunas: 8\n",
            "x: 4\n",
            "y: 1\n",
            "d: 2322\n"
          ]
        }
      ]
    },
    {
      "cell_type": "code",
      "metadata": {
        "colab": {
          "base_uri": "https://localhost:8080/"
        },
        "id": "L2XnxVTN3FnL",
        "outputId": "e7e599dc-03dd-47a7-cf4b-fdefec868c10"
      },
      "source": [
        "print(nlinhas)\n",
        "print(ncolunas)\n",
        "print(x)\n",
        "print(y)\n",
        "print(d)"
      ],
      "execution_count": null,
      "outputs": [
        {
          "output_type": "stream",
          "name": "stdout",
          "text": [
            "4\n",
            "8\n",
            "4\n",
            "1\n",
            "2322\n"
          ]
        }
      ]
    },
    {
      "cell_type": "code",
      "metadata": {
        "colab": {
          "base_uri": "https://localhost:8080/"
        },
        "id": "vNP1yOFtvPaA",
        "outputId": "5e7defe3-a15c-4421-dbee-9c7bae48a3e3"
      },
      "source": [
        "#variáveis de controle\n",
        "xp = yp = 0\n",
        "xp -= 1\n",
        "yp -= 1\n",
        "xcab, ycab = x, y\n",
        "xcorpo, ycorpo = x, y\n",
        "mov_inv_p = mov_inv_s = movn = 0\n",
        "mov = d\n",
        "mov_inv = 0\n",
        "\n",
        "\n",
        "xcorpo_r, ycorpo_r = xcorpo, ycorpo\n",
        "\n",
        "# processo de condições de print   \n",
        "while yp <= nlinhas:\n",
        "    xp = -1\n",
        "    while xp <= ncolunas:\n",
        "        mov_inv_s = mov\n",
        "        xcorpo, ycorpo = xcorpo_r, ycorpo_r\n",
        "        while mov_inv_s > 0:\n",
        "            movn =  mov_inv_s % 10\n",
        "            if movn == 1:\n",
        "                xcorpo += 1\n",
        "            elif movn == 2:\n",
        "                xcorpo -= 1       \n",
        "            elif movn == 3:\n",
        "                ycorpo += 1                \n",
        "            elif movn == 4:\n",
        "                ycorpo -= 1 \n",
        "            if xp == xcorpo and yp == ycorpo:\n",
        "                print(\"O\",end=\"\") \n",
        "                break\n",
        "            if mov_inv_s <= 4:\n",
        "                if xp == x and yp == y:\n",
        "                    print(\"C\",end=\"\")                     \n",
        "                elif (yp == -1 or xp == -1 or yp == nlinhas) and (xp < ncolunas):\n",
        "                    print(\"X\", end=\"\")\n",
        "                elif xp == ncolunas:\n",
        "                    print(\"X\")\n",
        "                else:\n",
        "                    print(\"L\",end=\"\")\n",
        "            mov_inv_s = mov_inv_s // 10\n",
        "        xp += 1\n",
        "    yp += 1"
      ],
      "execution_count": null,
      "outputs": [
        {
          "output_type": "stream",
          "name": "stdout",
          "text": [
            "XXXXXXXXXX\n",
            "XLLLLLLLLX\n",
            "XLLOOCLLLX\n",
            "XLOOLLLLLX\n",
            "XLLLLLLLLX\n",
            "XXXXXXXXXX\n"
          ]
        }
      ]
    },
    {
      "cell_type": "code",
      "metadata": {
        "colab": {
          "base_uri": "https://localhost:8080/"
        },
        "id": "ZWCKpl1hg3Gk",
        "outputId": "4b29cc9f-5102-497d-ab34-48258dcc78c0"
      },
      "source": [
        "#inversor do movimento\n",
        "while mov >= 1: \n",
        "    mov_inv_p = mov % 10\n",
        "    mov_inv = (mov_inv*10) + mov_inv_p\n",
        "    mov = mov//10\n",
        "print(mov_inv)\n",
        "print()    "
      ],
      "execution_count": null,
      "outputs": [
        {
          "output_type": "execute_result",
          "data": {
            "text/plain": [
              "1"
            ]
          },
          "metadata": {},
          "execution_count": 51
        }
      ]
    }
  ]
}