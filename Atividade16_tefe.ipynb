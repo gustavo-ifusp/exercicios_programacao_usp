{
  "nbformat": 4,
  "nbformat_minor": 0,
  "metadata": {
    "colab": {
      "name": "Atividade16-tefe.ipynb",
      "provenance": [],
      "collapsed_sections": [],
      "authorship_tag": "ABX9TyMz36QuOEhsc3fJBlRnev1q",
      "include_colab_link": true
    },
    "kernelspec": {
      "name": "python3",
      "display_name": "Python 3"
    }
  },
  "cells": [
    {
      "cell_type": "markdown",
      "metadata": {
        "id": "view-in-github",
        "colab_type": "text"
      },
      "source": [
        "<a href=\"https://colab.research.google.com/github/gustavo-ifusp/exercicios_programacao_usp/blob/main/Atividade16_tefe.ipynb\" target=\"_parent\"><img src=\"https://colab.research.google.com/assets/colab-badge.svg\" alt=\"Open In Colab\"/></a>"
      ]
    },
    {
      "cell_type": "markdown",
      "metadata": {
        "id": "1DbUX3uC8qSk"
      },
      "source": [
        "Exercicio 16 letra A"
      ]
    },
    {
      "cell_type": "code",
      "metadata": {
        "id": "RqW52gE58uqL",
        "colab": {
          "base_uri": "https://localhost:8080/",
          "height": 69
        },
        "outputId": "4d340584-223e-4edb-853f-efa27fa3a7ea"
      },
      "source": [
        "import numpy as np\n",
        "\n",
        "mu, sigma = 15.0, 2.0 \n",
        "N=10000 \n",
        "x=np.random.normal(mu, sigma, N)\n",
        "\n",
        "muu,sigmaa=40.0,3.0\n",
        "y=np.random.normal(muu,sigmaa,N)\n",
        "\n",
        "w=x*y\n",
        "\n",
        "wm=np.mean(w)\n",
        "sw=np.std(w)\n",
        "swm=sw/np.sqrt(N)\n",
        "\n",
        "print(\"A média Wm é\", wm)\n",
        "print(\"O desvio-padrão amostral é\", sw)\n",
        "print(\"O desvio-padrão médio é\", swm)"
      ],
      "execution_count": null,
      "outputs": [
        {
          "output_type": "stream",
          "text": [
            "A média Wm é 599.1092678394521\n",
            "O desvio-padrão amostral é 91.67897004689746\n",
            "O desvio-padrão médio é 0.9167897004689746\n"
          ],
          "name": "stdout"
        }
      ]
    },
    {
      "cell_type": "markdown",
      "metadata": {
        "id": "F1a8yCMh-DtV"
      },
      "source": [
        "exercicio 16 letra b - parte 1"
      ]
    },
    {
      "cell_type": "code",
      "metadata": {
        "id": "74vCzCQ5-FuV",
        "colab": {
          "base_uri": "https://localhost:8080/",
          "height": 69
        },
        "outputId": "7691c38d-2609-486e-fd1e-c4886f95f6d9"
      },
      "source": [
        "import numpy as np\n",
        "\n",
        "mu, sigma = 15.0, 2.0 \n",
        "N=10000\n",
        " \n",
        "x1=np.random.normal(mu, sigma, N)\n",
        "x2=np.random.normal(mu, sigma, N)\n",
        "\n",
        "muu,sigmaa=40.0,3.0\n",
        "\n",
        "y=np.random.normal(muu,sigmaa,N)\n",
        "\n",
        "x_m=(x1+x2)/(2)\n",
        "w=x_m*y\n",
        "wm=np.mean(w)\n",
        "sw=np.std(w)\n",
        "swm=sw/np.sqrt(N)\n",
        "\n",
        "\n",
        "print(\"A média Wm é\", wm)\n",
        "print(\"O desvio-padrão amostral é\", sw)\n",
        "print(\"O desvio-padrão médio é\", swm)"
      ],
      "execution_count": null,
      "outputs": [
        {
          "output_type": "stream",
          "text": [
            "A média Wm é 600.3828380807695\n",
            "O desvio-padrão amostral é 71.86421972762109\n",
            "O desvio-padrão médio é 0.7186421972762109\n"
          ],
          "name": "stdout"
        }
      ]
    },
    {
      "cell_type": "markdown",
      "metadata": {
        "id": "FvfNdCE7-hqf"
      },
      "source": [
        "exercicio 16 letra b - parte 2"
      ]
    },
    {
      "cell_type": "code",
      "metadata": {
        "id": "5k1ZIeEb-uaJ",
        "colab": {
          "base_uri": "https://localhost:8080/",
          "height": 69
        },
        "outputId": "2ad58448-266c-442f-a0a5-6bc830a2f4be"
      },
      "source": [
        "import numpy as np\n",
        "\n",
        "mu, sigma = 15.0, 2.0 \n",
        "N=10000\n",
        " \n",
        "x=np.random.normal(mu, sigma, N)\n",
        "\n",
        "\n",
        "muu,sigmaa=40.0,3.0\n",
        "\n",
        "y1=np.random.normal(muu,sigmaa,N)\n",
        "y2=np.random.normal(muu,sigmaa,N)\n",
        "\n",
        "y_m=(y1+y2)/(2)\n",
        "w=y_m*x\n",
        "wm=np.mean(w)\n",
        "sw=np.std(w)\n",
        "swm=sw/np.sqrt(N)\n",
        "\n",
        "\n",
        "print(\"A média Wm é\", wm)\n",
        "print(\"O desvio-padrão amostral é\", sw)\n",
        "print(\"O desvio-padrão médio é\", swm)"
      ],
      "execution_count": null,
      "outputs": [
        {
          "output_type": "stream",
          "text": [
            "A média Wm é 598.1623737189767\n",
            "O desvio-padrão amostral é 86.5380293178488\n",
            "O desvio-padrão médio é 0.865380293178488\n"
          ],
          "name": "stdout"
        }
      ]
    },
    {
      "cell_type": "markdown",
      "metadata": {
        "id": "thnqLvXc-_i0"
      },
      "source": [
        "exercicio 16 - letra c"
      ]
    },
    {
      "cell_type": "code",
      "metadata": {
        "id": "FywspamY_EZy",
        "colab": {
          "base_uri": "https://localhost:8080/",
          "height": 69
        },
        "outputId": "925d7171-6d5b-44db-b766-ccc9529f1a5b"
      },
      "source": [
        "import numpy as np\n",
        "\n",
        "mux, sigmax = 15.0, 2.0 \n",
        "muy,sigmay=40.0,3.0\n",
        "N=10000\n",
        "stdw = []\n",
        "\n",
        "BigY=0\n",
        "BigX=0\n",
        "Nx=0\n",
        "Ny=0\n",
        "\n",
        "for i in range(1,11):\n",
        "    Nx=i\n",
        "    Ny=11-Nx\n",
        "    for i in range(Nx):\n",
        "        Mx=np.random.normal(mux, sigmax, N)\n",
        "        BigX+=Mx\n",
        "    for i in range(Ny):\n",
        "        My=np.random.normal(muy, sigmay, N)\n",
        "        BigY+=My\n",
        "    BigX=BigX/Nx\n",
        "    BigY=BigY/Ny\n",
        "    stdw.append(np.std(BigX*BigY))\n",
        "    BigX=0\n",
        "    BigY=0\n",
        "    \n",
        "print(stdw)\n",
        "print(\"O menor valor é \" , np.amin(stdw) )\n",
        "print(\" A posição do menor valor, como pode-se ver é quando Nx=7\")\n",
        "    \n"
      ],
      "execution_count": null,
      "outputs": [
        {
          "output_type": "stream",
          "text": [
            "[80.98407567280344, 58.2060983219183, 49.38591792064382, 43.79083209584233, 40.173667045851936, 38.95973346466805, 37.687333921532066, 37.793010006040255, 41.64171900008473, 51.51583741541154]\n",
            "O menor valor é  37.687333921532066\n",
            " A posição do menor valor, como pode-se ver é quando Nx=7\n"
          ],
          "name": "stdout"
        }
      ]
    }
  ]
}