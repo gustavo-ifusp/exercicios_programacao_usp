{
  "nbformat": 4,
  "nbformat_minor": 0,
  "metadata": {
    "colab": {
      "name": "TEFE 2020 - Atividade 21.ipynb",
      "provenance": [],
      "include_colab_link": true
    },
    "kernelspec": {
      "name": "python3",
      "display_name": "Python 3"
    }
  },
  "cells": [
    {
      "cell_type": "markdown",
      "metadata": {
        "id": "view-in-github",
        "colab_type": "text"
      },
      "source": [
        "<a href=\"https://colab.research.google.com/github/gustavo-ifusp/exercicios_programacao_usp/blob/main/TEFE_2020_Atividade_21.ipynb\" target=\"_parent\"><img src=\"https://colab.research.google.com/assets/colab-badge.svg\" alt=\"Open In Colab\"/></a>"
      ]
    },
    {
      "cell_type": "code",
      "metadata": {
        "id": "4ceOtt9n6CDl",
        "colab": {
          "base_uri": "https://localhost:8080/"
        },
        "outputId": "6eb4712b-cb9d-40fe-9faa-bb68ae128b88"
      },
      "source": [
        "!pip install uncertainties"
      ],
      "execution_count": null,
      "outputs": [
        {
          "output_type": "stream",
          "text": [
            "Collecting uncertainties\n",
            "\u001b[?25l  Downloading https://files.pythonhosted.org/packages/b0/e0/fc200da8190729dcb685ae4877ed6936d31d64aeccb8cc355d9ec982681d/uncertainties-3.1.4-py2.py3-none-any.whl (246kB)\n",
            "\r\u001b[K     |█▎                              | 10kB 13.7MB/s eta 0:00:01\r\u001b[K     |██▋                             | 20kB 18.6MB/s eta 0:00:01\r\u001b[K     |████                            | 30kB 11.5MB/s eta 0:00:01\r\u001b[K     |█████▎                          | 40kB 8.0MB/s eta 0:00:01\r\u001b[K     |██████▋                         | 51kB 4.2MB/s eta 0:00:01\r\u001b[K     |████████                        | 61kB 4.8MB/s eta 0:00:01\r\u001b[K     |█████████▎                      | 71kB 5.0MB/s eta 0:00:01\r\u001b[K     |██████████▋                     | 81kB 5.3MB/s eta 0:00:01\r\u001b[K     |████████████                    | 92kB 5.5MB/s eta 0:00:01\r\u001b[K     |█████████████▎                  | 102kB 5.6MB/s eta 0:00:01\r\u001b[K     |██████████████▋                 | 112kB 5.6MB/s eta 0:00:01\r\u001b[K     |████████████████                | 122kB 5.6MB/s eta 0:00:01\r\u001b[K     |█████████████████▎              | 133kB 5.6MB/s eta 0:00:01\r\u001b[K     |██████████████████▋             | 143kB 5.6MB/s eta 0:00:01\r\u001b[K     |████████████████████            | 153kB 5.6MB/s eta 0:00:01\r\u001b[K     |█████████████████████▎          | 163kB 5.6MB/s eta 0:00:01\r\u001b[K     |██████████████████████▋         | 174kB 5.6MB/s eta 0:00:01\r\u001b[K     |████████████████████████        | 184kB 5.6MB/s eta 0:00:01\r\u001b[K     |█████████████████████████▎      | 194kB 5.6MB/s eta 0:00:01\r\u001b[K     |██████████████████████████▋     | 204kB 5.6MB/s eta 0:00:01\r\u001b[K     |████████████████████████████    | 215kB 5.6MB/s eta 0:00:01\r\u001b[K     |█████████████████████████████▎  | 225kB 5.6MB/s eta 0:00:01\r\u001b[K     |██████████████████████████████▋ | 235kB 5.6MB/s eta 0:00:01\r\u001b[K     |████████████████████████████████| 245kB 5.6MB/s eta 0:00:01\r\u001b[K     |████████████████████████████████| 256kB 5.6MB/s \n",
            "\u001b[?25hRequirement already satisfied: future in /usr/local/lib/python3.6/dist-packages (from uncertainties) (0.16.0)\n",
            "Installing collected packages: uncertainties\n",
            "Successfully installed uncertainties-3.1.4\n"
          ],
          "name": "stdout"
        }
      ]
    },
    {
      "cell_type": "code",
      "metadata": {
        "id": "iwz2eIVKoHOb"
      },
      "source": [
        "import numpy as np\n",
        "import matplotlib.pyplot as plt\n",
        "import pandas as pd\n",
        "from uncertainties import unumpy"
      ],
      "execution_count": null,
      "outputs": []
    },
    {
      "cell_type": "code",
      "metadata": {
        "id": "qcv69ourosoe"
      },
      "source": [
        "M, N = 10000, [100, 50, 10, 5, 4, 3, 2]\n",
        "\n",
        "x0, sigma0 = .0, 1. # mean and standard deviation\n",
        "dados = {\n",
        "    n: np.random.default_rng().normal(x0, sigma0, (M,n)) for n in N\n",
        "    }"
      ],
      "execution_count": null,
      "outputs": []
    },
    {
      "cell_type": "code",
      "metadata": {
        "id": "f2ULT6S9pw2F",
        "colab": {
          "base_uri": "https://localhost:8080/",
          "height": 514
        },
        "outputId": "704e7575-ba4e-4d94-a7f3-9b0c6c3a4915"
      },
      "source": [
        "fig, ax = plt.subplots(3,2, figsize=[8,8])\n",
        "\n",
        "s100 = dados[100].std(ddof=1,axis=1)\n",
        "ax[0,0].hist(s100)\n",
        "ax[0,0].grid()\n",
        "ax[0,0].set_ylabel('N=100')\n",
        "ax[0,1].hist(s100**2)\n",
        "ax[0,1].grid()\n",
        "\n",
        "s5 = dados[5].std(ddof=1,axis=1)\n",
        "ax[1,0].hist(s5)\n",
        "ax[1,0].grid()\n",
        "ax[1,0].set_ylabel('N=5')\n",
        "ax[1,1].hist(s5**2)\n",
        "ax[1,1].grid()\n",
        "\n",
        "s2 = dados[2].std(ddof=1,axis=1)\n",
        "ax[2,0].hist(s2)\n",
        "ax[2,0].grid()\n",
        "ax[2,0].set_xlabel('s')\n",
        "ax[2,0].set_ylabel('N=2')\n",
        "ax[2,1].hist(s2**2)\n",
        "ax[2,1].grid()\n",
        "ax[2,1].set_xlabel('V')"
      ],
      "execution_count": null,
      "outputs": [
        {
          "output_type": "execute_result",
          "data": {
            "text/plain": [
              "Text(0.5, 0, 'V')"
            ]
          },
          "metadata": {
            "tags": []
          },
          "execution_count": 35
        },
        {
          "output_type": "display_data",
          "data": {
            "image/png": "[encoded data removed]",
            "text/plain": [
              "<Figure size 576x576 with 6 Axes>"
            ]
          },
          "metadata": {
            "tags": [],
            "needs_background": "light"
          }
        }
      ]
    },
    {
      "cell_type": "code",
      "metadata": {
        "id": "gh-4-BwjueXf"
      },
      "source": [
        "s = np.array([dados[n].std(ddof=1,axis=1) for n in dados])\n",
        "s_m = s.mean(axis=1)\n",
        "s_s = s.std(ddof=1,axis=1)/s.shape[1]**(1/2)"
      ],
      "execution_count": null,
      "outputs": []
    },
    {
      "cell_type": "code",
      "metadata": {
        "id": "bSB-dLJN5vY7",
        "colab": {
          "base_uri": "https://localhost:8080/"
        },
        "outputId": "ad3c2705-663e-4412-ead1-dfd909050f20"
      },
      "source": [
        "unumpy.uarray(s_m, s_s)"
      ],
      "execution_count": null,
      "outputs": [
        {
          "output_type": "execute_result",
          "data": {
            "text/plain": [
              "array([0.9968906278822304+/-0.000706915398253121,\n",
              "       0.9933865247740165+/-0.0010137438296382443,\n",
              "       0.9733654034454648+/-0.0023344071596333115,\n",
              "       0.9368743706841098+/-0.0033926953053602642,\n",
              "       0.9253225965576272+/-0.0038798373708405307,\n",
              "       0.893651643846954+/-0.004661825117846147,\n",
              "       0.7947902968482813+/-0.005973062209571186], dtype=object)"
            ]
          },
          "metadata": {
            "tags": []
          },
          "execution_count": 43
        }
      ]
    },
    {
      "cell_type": "code",
      "metadata": {
        "id": "HWuwbEuh-qmh"
      },
      "source": [
        "V = s**2\n",
        "V_m = V.mean(axis=1)\n",
        "V_s = V.std(ddof=1,axis=1)/V.shape[1]**(1/2)"
      ],
      "execution_count": null,
      "outputs": []
    },
    {
      "cell_type": "code",
      "metadata": {
        "id": "47CTqAv6Apwe",
        "colab": {
          "base_uri": "https://localhost:8080/"
        },
        "outputId": "3287ca81-a9d9-4ec3-a180-ef4793c3ec1b"
      },
      "source": [
        "s_count = np.sum(s<=1,axis=1)\n",
        "s_count"
      ],
      "execution_count": null,
      "outputs": [
        {
          "output_type": "execute_result",
          "data": {
            "text/plain": [
              "array([5200, 5315, 5583, 5948, 6030, 6297, 6800])"
            ]
          },
          "metadata": {
            "tags": []
          },
          "execution_count": 65
        }
      ]
    },
    {
      "cell_type": "code",
      "metadata": {
        "id": "MvM-qMGYCv85",
        "colab": {
          "base_uri": "https://localhost:8080/"
        },
        "outputId": "969f597d-d3f3-4c1c-e332-983959ab73f6"
      },
      "source": [
        "p = s_count/s.shape[1]\n",
        "q = 1-p\n",
        "s_count_s = (s.shape[1]*p*q)**(1/2)\n",
        "s_count_s"
      ],
      "execution_count": null,
      "outputs": [
        {
          "output_type": "execute_result",
          "data": {
            "text/plain": [
              "array([49.95998399, 49.90067635, 49.65894783, 49.09307079, 48.92759957,\n",
              "       48.28849863, 46.64761516])"
            ]
          },
          "metadata": {
            "tags": []
          },
          "execution_count": 66
        }
      ]
    },
    {
      "cell_type": "code",
      "metadata": {
        "id": "cpTl2R2hBBQb",
        "colab": {
          "base_uri": "https://localhost:8080/"
        },
        "outputId": "3f7257f9-c3b2-45f0-b6ac-1e0f9703affa"
      },
      "source": [
        "V_count = np.sum(V<=1,axis=1)\n",
        "V_count"
      ],
      "execution_count": null,
      "outputs": [
        {
          "output_type": "execute_result",
          "data": {
            "text/plain": [
              "array([5200, 5315, 5583, 5948, 6030, 6297, 6800])"
            ]
          },
          "metadata": {
            "tags": []
          },
          "execution_count": 67
        }
      ]
    },
    {
      "cell_type": "code",
      "metadata": {
        "id": "0eYFM4tPE5bN",
        "colab": {
          "base_uri": "https://localhost:8080/"
        },
        "outputId": "8f737e2f-2a65-42e2-80e0-c27a8be401d1"
      },
      "source": [
        "p = V_count/V.shape[1]\n",
        "q = 1-p\n",
        "V_count_s = (V.shape[1]*p*q)**(1/2)\n",
        "V_count_s"
      ],
      "execution_count": null,
      "outputs": [
        {
          "output_type": "execute_result",
          "data": {
            "text/plain": [
              "array([49.95998399, 49.90067635, 49.65894783, 49.09307079, 48.92759957,\n",
              "       48.28849863, 46.64761516])"
            ]
          },
          "metadata": {
            "tags": []
          },
          "execution_count": 68
        }
      ]
    },
    {
      "cell_type": "code",
      "metadata": {
        "id": "QN-r8BbArKG1",
        "colab": {
          "base_uri": "https://localhost:8080/",
          "height": 312
        },
        "outputId": "e963c5a9-3433-45ca-e863-fd9ddd03cd16"
      },
      "source": [
        "pd.DataFrame([unumpy.uarray(s_m, s_s),\n",
        "              unumpy.uarray(V_m, V_s),\n",
        "              unumpy.uarray(s_count, s_count_s),\n",
        "              unumpy.uarray(V_count, V_count_s)], \n",
        "             index=['s_m (média de s)', 'V_m (média de V)',\n",
        "                    'Número de casos em que s<=sigma_0',\n",
        "                    'Número de casos em que V<=V_0'],\n",
        "             columns=['(1) N=100', '(2) N=50', '(3) N=10', \n",
        "                    '(4) N=5', '(5) N=4', '(6) N=3', '(7) N=2']\n",
        "             )"
      ],
      "execution_count": null,
      "outputs": [
        {
          "output_type": "execute_result",
          "data": {
            "text/html": [
              "<div>\n",
              "<style scoped>\n",
              "    .dataframe tbody tr th:only-of-type {\n",
              "        vertical-align: middle;\n",
              "    }\n",
              "\n",
              "    .dataframe tbody tr th {\n",
              "        vertical-align: top;\n",
              "    }\n",
              "\n",
              "    .dataframe thead th {\n",
              "        text-align: right;\n",
              "    }\n",
              "</style>\n",
              "<table border=\"1\" class=\"dataframe\">\n",
              "  <thead>\n",
              "    <tr style=\"text-align: right;\">\n",
              "      <th></th>\n",
              "      <th>(1) N=100</th>\n",
              "      <th>(2) N=50</th>\n",
              "      <th>(3) N=10</th>\n",
              "      <th>(4) N=5</th>\n",
              "      <th>(5) N=4</th>\n",
              "      <th>(6) N=3</th>\n",
              "      <th>(7) N=2</th>\n",
              "    </tr>\n",
              "  </thead>\n",
              "  <tbody>\n",
              "    <tr>\n",
              "      <th>s_m (média de s)</th>\n",
              "      <td>0.9969+/-0.0007</td>\n",
              "      <td>0.9934+/-0.0010</td>\n",
              "      <td>0.9734+/-0.0023</td>\n",
              "      <td>0.9369+/-0.0034</td>\n",
              "      <td>0.925+/-0.004</td>\n",
              "      <td>0.894+/-0.005</td>\n",
              "      <td>0.795+/-0.006</td>\n",
              "    </tr>\n",
              "    <tr>\n",
              "      <th>V_m (média de V)</th>\n",
              "      <td>0.9988+/-0.0014</td>\n",
              "      <td>0.9971+/-0.0020</td>\n",
              "      <td>1.002+/-0.005</td>\n",
              "      <td>0.993+/-0.007</td>\n",
              "      <td>1.007+/-0.008</td>\n",
              "      <td>1.016+/-0.010</td>\n",
              "      <td>0.988+/-0.014</td>\n",
              "    </tr>\n",
              "    <tr>\n",
              "      <th>Número de casos em que s&lt;=sigma_0</th>\n",
              "      <td>(5.20+/-0.05)e+03</td>\n",
              "      <td>(5.32+/-0.05)e+03</td>\n",
              "      <td>(5.58+/-0.05)e+03</td>\n",
              "      <td>(5.95+/-0.05)e+03</td>\n",
              "      <td>(6.03+/-0.05)e+03</td>\n",
              "      <td>(6.30+/-0.05)e+03</td>\n",
              "      <td>(6.80+/-0.05)e+03</td>\n",
              "    </tr>\n",
              "    <tr>\n",
              "      <th>Número de casos em que V&lt;=V_0</th>\n",
              "      <td>(5.20+/-0.05)e+03</td>\n",
              "      <td>(5.32+/-0.05)e+03</td>\n",
              "      <td>(5.58+/-0.05)e+03</td>\n",
              "      <td>(5.95+/-0.05)e+03</td>\n",
              "      <td>(6.03+/-0.05)e+03</td>\n",
              "      <td>(6.30+/-0.05)e+03</td>\n",
              "      <td>(6.80+/-0.05)e+03</td>\n",
              "    </tr>\n",
              "  </tbody>\n",
              "</table>\n",
              "</div>"
            ],
            "text/plain": [
              "                                           (1) N=100  ...            (7) N=2\n",
              "s_m (média de s)                     0.9969+/-0.0007  ...      0.795+/-0.006\n",
              "V_m (média de V)                     0.9988+/-0.0014  ...      0.988+/-0.014\n",
              "Número de casos em que s<=sigma_0  (5.20+/-0.05)e+03  ...  (6.80+/-0.05)e+03\n",
              "Número de casos em que V<=V_0      (5.20+/-0.05)e+03  ...  (6.80+/-0.05)e+03\n",
              "\n",
              "[4 rows x 7 columns]"
            ]
          },
          "metadata": {
            "tags": []
          },
          "execution_count": 71
        }
      ]
    },
    {
      "cell_type": "code",
      "metadata": {
        "id": "Iq4jMjV97PYH"
      },
      "source": [
        ""
      ],
      "execution_count": null,
      "outputs": []
    }
  ]
}