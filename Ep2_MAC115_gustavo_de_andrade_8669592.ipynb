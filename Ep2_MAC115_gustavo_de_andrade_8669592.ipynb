{
  "nbformat": 4,
  "nbformat_minor": 0,
  "metadata": {
    "colab": {
      "name": "Ep2-MAC115-gustavo-de-andrade-8669592.ipynb",
      "provenance": [],
      "collapsed_sections": [
        "3RjlilBNJS9R",
        "LWJND2srJMhJ",
        "9qM8_rxQwjM7",
        "_hheOjCmgEwr",
        "Td7dYiDPgAk8",
        "5Vh2G1PjvMKx",
        "YopBTWRhIgdA",
        "04L2STGYpR1T",
        "s5tVxe0BqCt-"
      ],
      "authorship_tag": "ABX9TyPyxpqhDUYq7+Raj/fcJYQ4",
      "include_colab_link": true
    },
    "kernelspec": {
      "name": "python3",
      "display_name": "Python 3"
    },
    "language_info": {
      "name": "python"
    }
  },
  "cells": [
    {
      "cell_type": "markdown",
      "metadata": {
        "id": "view-in-github",
        "colab_type": "text"
      },
      "source": [
        "<a href=\"https://colab.research.google.com/github/gustavo-ifusp/exercicios_programacao_usp/blob/main/Ep2_MAC115_gustavo_de_andrade_8669592.ipynb\" target=\"_parent\"><img src=\"https://colab.research.google.com/assets/colab-badge.svg\" alt=\"Open In Colab\"/></a>"
      ]
    },
    {
      "cell_type": "markdown",
      "metadata": {
        "id": "pkmmJrfdNfPx"
      },
      "source": [
        "#**EP2 - MAC115**<br>\n",
        "[link do Enunciado](http://www.vision.ime.usp.br/~pmiranda/mac0115_2s21/EP2/ep2.pdf)<br><br>\n",
        "**Gustavo de Andrade - 8669592**|<br>\n",
        "Nota: 9.2 - este EP só foi publicado posteriormente a data de entrega e a nota publicada, não havendo facilitação de plágio. "
      ]
    },
    {
      "cell_type": "markdown",
      "source": [
        "Versão da entrega:"
      ],
      "metadata": {
        "id": "tMipPV63LWPL"
      }
    },
    {
      "cell_type": "code",
      "source": [
        "\"\"\"\n",
        "  AO PREENCHER ESSE CABEÇALHO COM O MEU NOME E O MEU NÚMERO USP, \n",
        "  DECLARO QUE SOU O ÚNICO AUTOR E RESPONSÁVEL POR ESSE PROGRAMA. \n",
        "  TODAS AS PARTES ORIGINAIS DESSE EXERCÍCIO PROGRAMA (EP) FORAM \n",
        "  DESENVOLVIDAS E IMPLEMENTADAS POR MIM SEGUINDO AS INSTRUÇÕES\n",
        "  DESSE EP E QUE PORTANTO NÃO CONSTITUEM DESONESTIDADE ACADÊMICA\n",
        "  OU PLÁGIO.  \n",
        "  DECLARO TAMBÉM QUE SOU RESPONSÁVEL POR TODAS AS CÓPIAS\n",
        "  DESSE PROGRAMA E QUE EU NÃO DISTRIBUI OU FACILITEI A\n",
        "  SUA DISTRIBUIÇÃO. ESTOU CIENTE QUE OS CASOS DE PLÁGIO E\n",
        "  DESONESTIDADE ACADÊMICA SERÃO TRATADOS SEGUNDO OS CRITÉRIOS\n",
        "  DIVULGADOS NA PÁGINA DA DISCIPLINA.\n",
        "  ENTENDO QUE EPS SEM ASSINATURA NÃO SERÃO CORRIGIDOS E,\n",
        "  AINDA ASSIM, PODERÃO SER PUNIDOS POR DESONESTIDADE ACADÊMICA.\n",
        "\n",
        "  Nome : Gustavo de Andrade\n",
        "  NUSP : 8669592\n",
        "\n",
        "  Referências: Com exceção das rotinas fornecidas no enunciado\n",
        "  e em sala de aula, caso você tenha utilizado alguma refência,\n",
        "  liste-as abaixo para que o seu programa não seja considerado\n",
        "  plágio ou irregular.\n",
        "  \n",
        "  Exemplo:\n",
        "  - O algoritmo Quicksort foi baseado em\n",
        "  http://wiki.python.org.br/QuickSort\n",
        "\"\"\"\n",
        "\n",
        "# funções auxiliares e constantes declaradas\n",
        "\n",
        "G = 8.65e-13\n",
        "\n",
        "def versor(P1, P2): #do corpo 2 ao corpo 1\n",
        "    r_v_1 = P1[0]-P2[0]\n",
        "    r_v_2 = P1[1]-P2[1]\n",
        "    v = [r_v_1, r_v_2]\n",
        "    mod = ((((r_v_1)**2)+((r_v_2)**2))**(1/2))\n",
        "    r_v = [(v[0]/mod),(v[1]/mod)]\n",
        "    return r_v\n",
        "\n",
        "# Calula a distânia entre dois pontos fornecidos P1 = [x1, y1] e P2 = [x2, y2].\n",
        "\n",
        "def distancia(P1, P2):\n",
        "    dist = ((((P1[0]-P2[0])**2)+((P1[1]-P2[1])**2))**(1/2))\n",
        "    return dist\n",
        "\n",
        "# Calula e devolve a aceleração da atração gravitacional [ax, ay] exercida sobre a nave no ponto P = [x, y] pelo astro Astro \n",
        "\n",
        "def aceleracaoGravitacional(Astro, P):\n",
        "    P1, P2 = Astro[0], P\n",
        "    r_v = versor(P1, P2)\n",
        "    r = distancia(P1, P2)\n",
        "    m = Astro[1]\n",
        "    ax = (((G*m)/(r**2))*(r_v[0]))\n",
        "    ay = (((G*m)/(r**2))*(r_v[1]))\n",
        "    a = [ax,ay]\n",
        "    return a\n",
        "\n",
        "# Calcula e devolve a aceleração resultante [ax, ay] da soma das contribuições exercidas por cada um dos astros presentes na \n",
        "# lista Astros sobre a nave no ponto P = [x, y].\n",
        "\n",
        "def aceleracaoResultante(Astros, P):\n",
        "    a_resultante = [0,0]\n",
        "    n = 0\n",
        "    while n < len(Astros):\n",
        "        Astro = Astros[n]\n",
        "        a = aceleracaoGravitacional(Astro, P)\n",
        "        a_resultante[0] = a_resultante[0] + a[0]\n",
        "        a_resultante[1] = a_resultante[1] + a[1]\n",
        "        n += 1\n",
        "    return a_resultante\n",
        "\n",
        "# Verifica se ocorre sobreposição entre a nave fornecida com algum dos astros presentes na lista Astros. \n",
        "# Devolve True se a nave colidiu com algum astro, caso contrário a função retorna False.\n",
        "\n",
        "def deteccaoColisao(Nave, Astros):\n",
        "    n = 0  \n",
        "    colisao = False\n",
        "    while n < len(Astros):\n",
        "        nave_x, nave_y = Nave[0][0], Nave[0][1]\n",
        "        astro_x_max, astro_x_min = (Astros[n][0][0])+(Astros[n][2])+(Nave[2]),(Astros[n][0][0])-(Astros[n][2])-(Nave[2])\n",
        "        astro_y_max, astro_y_min = (Astros[n][0][1])+(Astros[n][2])+(Nave[2]),(Astros[n][0][1])-(Astros[n][2])-(Nave[2])\n",
        "        if (astro_x_min <= nave_x <= astro_x_max) and (astro_y_min <= nave_y <= astro_y_max):\n",
        "            colisao = True\n",
        "        n += 1\n",
        "    return colisao\n",
        "\n",
        "    \n",
        "# Calcula a distância da nave Nave em relação ao astro mais próximo dentre os astros presentes na lista Astros. \n",
        "# A distânia deve ser medida em relação a superfície do astro e da nave. Em caso de nave colidida, a distância deve ser zero.    \n",
        "\n",
        "def distanciaAstroMaisProximo(Nave, Astros):\n",
        "    n = dist = 0\n",
        "    dist_salv = 99999999999999e+999999999999\n",
        "    while n < len(Astros):\n",
        "        P1 = (Astros[n][0][0], Astros[n][0][1])\n",
        "        P2 = (Nave[0][0], Nave[0][1])\n",
        "        dist_relat = distancia(P1, P2)\n",
        "        dist_absol = dist_relat - (Astros[n][2]) - (Nave[2])\n",
        "        if dist_absol < 0:\n",
        "            dist_absol = 0\n",
        "        if dist_absol < dist_salv:\n",
        "            dist_salv = dist_absol\n",
        "        n += 1\n",
        "    return dist_salv\n",
        "    \n",
        "# Atualiza a posição e velocidade da nave em Nave sujeita às forças de atração gravitacional dos astros presentes na lista Astros, \n",
        "# após um intervalo de tempo delta_t.\n",
        "\n",
        "def atualizaNave(Nave, Astros, delta_t):\n",
        "        px , py = Nave[0][0], Nave[0][1]\n",
        "        P = [px, py]\n",
        "        vx , vy = Nave[1][0], Nave[1][1]\n",
        "        a_result = aceleracaoResultante(Astros, P)\n",
        "        Nave[0][0] = px + (vx) * delta_t + (((a_result[0])*(delta_t**2))/2)\n",
        "        Nave[0][1] = py + (vy) * delta_t + (((a_result[1])*(delta_t**2))/2)\n",
        "        Nave[1][0] = vx + ((a_result[0])*(delta_t))\n",
        "        Nave[1][1] = vy + ((a_result[1])*(delta_t))\n",
        "        return Nave\n",
        "\n",
        "def simulacao(Naves, Astros, niter, delta_t):\n",
        "    trajetorias = []\n",
        "    distancias = []\n",
        "    u = 0\n",
        "    while u < len(Naves):\n",
        "        i = 0\n",
        "        astros_proximos = []\n",
        "        trajetoria_list = []\n",
        "        while i < niter:\n",
        "            colisao = False\n",
        "            astro_proximo = 0\n",
        "            Nave = []\n",
        "            trajetoria_i = []\n",
        "            Nave = Naves[u]\n",
        "            colisao = deteccaoColisao(Nave, Astros)\n",
        "            if colisao is False:\n",
        "                Nave = atualizaNave(Nave, Astros, delta_t)\n",
        "                Naves[u] = Nave\n",
        "            else:\n",
        "                trajetoria_list = Nave[0]\n",
        "                break\n",
        "            trajetoria_i_x = Nave[0][0]\n",
        "            trajetoria_i_y = Nave[0][1]\n",
        "            trajetoria_list.insert(i, [trajetoria_i_x, trajetoria_i_y])\n",
        "            astro_proximo = distanciaAstroMaisProximo(Nave, Astros)\n",
        "            astros_proximos.insert(i, astro_proximo)\n",
        "            i += 1\n",
        "        distancias.insert(u, astros_proximos)\n",
        "        trajetorias.insert(u, trajetoria_list)\n",
        "        u += 1\n",
        "    return trajetorias, distancias\n",
        "\n",
        "def main():\n",
        "    niter = int(input(\"Número máximo de iterações: \"))    \n",
        "    delta_t = float(input(\"Delta t: \"))\n",
        "    nnaves = int(input(\"Número de naves: \"))\n",
        "    Naves = []\n",
        "    for i in range(nnaves):\n",
        "        print(\"*** Nave %d ***\"%(i+1))\n",
        "        x,y = input(\"Digite a posição (x,y): \").split()\n",
        "        x,y = float(x),float(y)\n",
        "        vx,vy = input(\"Digite a velocidade inicial (vx,vy): \").split()\n",
        "        vx,vy = float(vx),float(vy)\n",
        "        r = float(input(\"Digite o raio: \"))\n",
        "        Naves.append([[x,y], [vx,vy], r])\n",
        "\n",
        "    nastros = int(input(\"Número de astros: \"))\n",
        "    Astros = []\n",
        "    for i in range(nastros):\n",
        "        print(\"*** Astro %d ***\"%(i+1))\n",
        "        x,y = input(\"Digite a posição (x,y): \").split()\n",
        "        x,y = float(x),float(y)\n",
        "        massa = float(input(\"Digite a massa: \"))\n",
        "        R = float(input(\"Digite o raio: \"))        \n",
        "        Astros.append([[x,y], massa, R])\n",
        "\n",
        "    T, D = simulacao(Naves, Astros, niter, delta_t)\n",
        "    for i in range(niter):\n",
        "        print(\"********* iteração %d *********\"%(i+1))\n",
        "        for j in range(nnaves):\n",
        "            print(\"*** Nave %d ***\"%(j+1))\n",
        "            print(\"Posição: \",end=\"\")\n",
        "            P = T[j][i]\n",
        "            print(\"(%.3f,%.3f)\"%(P[0],P[1]))\n",
        "            print(\"Distância ao astro mais próximo: \",end=\"\")\n",
        "            print(\"%.3f\"%(D[j][i]))"
      ],
      "metadata": {
        "id": "5NkvNF8OLX4B"
      },
      "execution_count": 1,
      "outputs": []
    },
    {
      "cell_type": "markdown",
      "metadata": {
        "id": "3RjlilBNJS9R"
      },
      "source": [
        "#**0.0 - Funções auxiliares e constantes declaradas**"
      ]
    },
    {
      "cell_type": "code",
      "metadata": {
        "colab": {
          "base_uri": "https://localhost:8080/"
        },
        "id": "-1tHtOeicQxY",
        "outputId": "ee989e6b-72ed-465e-cbb9-b303958d8748"
      },
      "source": [
        "niter = int(input('Número máximo de iterações: '))"
      ],
      "execution_count": null,
      "outputs": [
        {
          "name": "stdout",
          "output_type": "stream",
          "text": [
            "Número máximo de iterações: 12\n"
          ]
        }
      ]
    },
    {
      "cell_type": "code",
      "metadata": {
        "colab": {
          "base_uri": "https://localhost:8080/"
        },
        "id": "hPFv_gWLb4lm",
        "outputId": "52f3c655-a187-40a8-a7f4-5de279383b85"
      },
      "source": [
        "delta_t = int(input('Delta t: '))"
      ],
      "execution_count": null,
      "outputs": [
        {
          "name": "stdout",
          "output_type": "stream",
          "text": [
            "Delta t: 5\n"
          ]
        }
      ]
    },
    {
      "cell_type": "code",
      "metadata": {
        "id": "n15f5RQ9Kruc"
      },
      "source": [
        "G = 8.65e-13"
      ],
      "execution_count": null,
      "outputs": []
    },
    {
      "cell_type": "code",
      "metadata": {
        "id": "m6rEs9mRJcYp"
      },
      "source": [
        "def cria_matriz(m,n,valor):\n",
        "    M = []\n",
        "    for i in range(m):\n",
        "        linha = []\n",
        "        for j in range(n):\n",
        "            linha.append(valor)\n",
        "        M.append(linha)\n",
        "    return M"
      ],
      "execution_count": null,
      "outputs": []
    },
    {
      "cell_type": "code",
      "metadata": {
        "id": "QqdIIzdVL-zt"
      },
      "source": [
        "def versor(P1, P2): #do corpo 2 ao corpo 1\n",
        "  r_v_1 = P1[0]-P2[0]\n",
        "  r_v_2 = P1[1]-P2[1]\n",
        "  v = [r_v_1, r_v_2]\n",
        "  mod = ((((r_v_1)**2)+((r_v_2)**2))**(1/2))\n",
        "  r_v = [(v[0]/mod),(v[1]/mod)]\n",
        "  return r_v"
      ],
      "execution_count": null,
      "outputs": []
    },
    {
      "cell_type": "markdown",
      "metadata": {
        "id": "LWJND2srJMhJ"
      },
      "source": [
        "#**0.1 - Dados das Naves:**"
      ]
    },
    {
      "cell_type": "code",
      "metadata": {
        "id": "NrJVLu2TJPLB"
      },
      "source": [
        "def leia_naves():\n",
        "    n, m = int(input(\"Digite o número de Naves na simulação: \")), 3\n",
        "    Naves = cria_matriz(n,m,0)\n",
        "    for i in range(n):\n",
        "        xn = float(input('Digite a posição x da Nave %d: '%(i+1)))\n",
        "        yn = float(input('Digite a posição y da Nave %d: '%(i+1)))\n",
        "        Naves[i][0] = [xn,yn]\n",
        "        vxn = float(input('Digite a velocidade inicial no eixo x da Nave %d: '%(i+1)))\n",
        "        vyn = float(input('Digite a velocidade inicial no eixo y da Nave %d: '%(i+1)))\n",
        "        Naves[i][1] = [vxn,vyn]\n",
        "        Naves[i][2] = float(input('Digite o Raio da Nave %d: '%(i+1)))\n",
        "    return Naves"
      ],
      "execution_count": null,
      "outputs": []
    },
    {
      "cell_type": "code",
      "metadata": {
        "colab": {
          "base_uri": "https://localhost:8080/"
        },
        "id": "_cXF5FyH60Sc",
        "outputId": "4b17589e-95b5-4f08-d66b-9beb6cc8e98c"
      },
      "source": [
        "Naves = leia_naves()"
      ],
      "execution_count": null,
      "outputs": [
        {
          "name": "stdout",
          "output_type": "stream",
          "text": [
            "Digite o número de Naves na simulação: 2\n",
            "Digite a posição x da Nave 1: 100\n",
            "Digite a posição y da Nave 1: 100\n",
            "Digite a velocidade inicial no eixo x da Nave 1: 10\n",
            "Digite a velocidade inicial no eixo y da Nave 1: 10\n",
            "Digite o Raio da Nave 1: 50\n",
            "Digite a posição x da Nave 2: 0\n",
            "Digite a posição y da Nave 2: 0\n",
            "Digite a velocidade inicial no eixo x da Nave 2: -56\n",
            "Digite a velocidade inicial no eixo y da Nave 2: -50\n",
            "Digite o Raio da Nave 2: 500\n"
          ]
        }
      ]
    },
    {
      "cell_type": "markdown",
      "metadata": {
        "id": "9qM8_rxQwjM7"
      },
      "source": [
        "#**0.2 - Dados dos Astros:**"
      ]
    },
    {
      "cell_type": "code",
      "metadata": {
        "id": "8GUZZPOowpyi"
      },
      "source": [
        "def leia_Astros():\n",
        "    n, m = int(input(\"Digite o número de Astros na simulação: \")), 3\n",
        "    Astros = cria_matriz(n,m,0)\n",
        "    for i in range(n):\n",
        "        xn = float(input('Digite a posição x do Astro %d: '%(i+1)))\n",
        "        yn = float(input('Digite a posição y do Astro %d: '%(i+1)))\n",
        "        Astros[i][0] = [xn,yn]\n",
        "        Astros[i][1] = float(input('Digite a massa do Astro %d: '%(i+1)))\n",
        "        Astros[i][2] = float(input('Digite o Raio do Astro %d: '%(i+1)))\n",
        "    return Astros"
      ],
      "execution_count": null,
      "outputs": []
    },
    {
      "cell_type": "code",
      "metadata": {
        "colab": {
          "base_uri": "https://localhost:8080/"
        },
        "id": "tEiS_OVGFVgt",
        "outputId": "8ec35bee-7e70-4509-f90a-a673da418789"
      },
      "source": [
        "Astros = leia_Astros()"
      ],
      "execution_count": null,
      "outputs": [
        {
          "name": "stdout",
          "output_type": "stream",
          "text": [
            "Digite o número de Astros na simulação: 2\n",
            "Digite a posição x do Astro 1: 0\n",
            "Digite a posição y do Astro 1: 0\n",
            "Digite a massa do Astro 1: 57.35e+22\n",
            "Digite o Raio do Astro 1: 3000\n",
            "Digite a posição x do Astro 2: 5000\n",
            "Digite a posição y do Astro 2: 300\n",
            "Digite a massa do Astro 2: 50000\n",
            "Digite o Raio do Astro 2: 3000\n"
          ]
        }
      ]
    },
    {
      "cell_type": "code",
      "metadata": {
        "colab": {
          "base_uri": "https://localhost:8080/"
        },
        "id": "94x95xfKZd9G",
        "outputId": "c0370a87-8c89-4680-cfad-a335120d7891"
      },
      "source": [
        "Astros = leia_Astros()"
      ],
      "execution_count": null,
      "outputs": [
        {
          "name": "stdout",
          "output_type": "stream",
          "text": [
            "Digite o número de Astros na simulação: 2\n",
            "Digite a posição x do Astro 1: 0\n",
            "Digite a posição y do Astro 1: 0\n",
            "Digite a massa do Astro 1: 57.35e+22\n",
            "Digite o Raio do Astro 1: 30000\n",
            "Digite a posição x do Astro 2: 1000\n",
            "Digite a posição y do Astro 2: 9000\n",
            "Digite a massa do Astro 2: 7.15e+18\n",
            "Digite o Raio do Astro 2: 5000\n"
          ]
        }
      ]
    },
    {
      "cell_type": "markdown",
      "metadata": {
        "id": "_hheOjCmgEwr"
      },
      "source": [
        "#**1.0 - Calula a distânia entre dois pontos fornecidos P1 = [x1, y1] e P2 = [x2, y2].**"
      ]
    },
    {
      "cell_type": "code",
      "metadata": {
        "id": "7uW5NtrFNj3A"
      },
      "source": [
        "def distancia(P1, P2): #do corpo 2 ao corpo 1\n",
        "  dist = ((((P1[0]-P2[0])**2)+((P1[1]-P2[1])**2))**(1/2))\n",
        "  return dist"
      ],
      "execution_count": null,
      "outputs": []
    },
    {
      "cell_type": "code",
      "metadata": {
        "id": "PRlZ8pBWN1F6"
      },
      "source": [
        "P1 = [x1,y1]\n",
        "P2 = [x2,y2]"
      ],
      "execution_count": null,
      "outputs": []
    },
    {
      "cell_type": "code",
      "metadata": {
        "colab": {
          "base_uri": "https://localhost:8080/"
        },
        "id": "H2PjDEbgPVE2",
        "outputId": "247470e4-1d19-46af-a526-0d580d6c72aa"
      },
      "source": [
        "r = distancia(P1, P2)\n",
        "r"
      ],
      "execution_count": null,
      "outputs": [
        {
          "output_type": "execute_result",
          "data": {
            "text/plain": [
              "2.23606797749979"
            ]
          },
          "metadata": {},
          "execution_count": 15
        }
      ]
    },
    {
      "cell_type": "markdown",
      "metadata": {
        "id": "Td7dYiDPgAk8"
      },
      "source": [
        "#**2.0 - Calula e devolve a aceleração da atração gravitacional [ax, ay] exercida sobre  a nave no ponto P = [x, y] pelo astro Astro**"
      ]
    },
    {
      "cell_type": "code",
      "metadata": {
        "id": "eFUOHfdoZUQy"
      },
      "source": [
        "def aceleracaoGravitacional(Astro, P):\n",
        "    P1, P2 = Astro[0], P\n",
        "    r_v = versor(P1, P2)\n",
        "    r = distancia(P1, P2)\n",
        "    m = Astro[1]\n",
        "    ax = (((G*m)/(r**2))*(r_v[0]))\n",
        "    ay = (((G*m)/(r**2))*(r_v[1]))\n",
        "    a = [ax,ay]\n",
        "    return a"
      ],
      "execution_count": null,
      "outputs": []
    },
    {
      "cell_type": "code",
      "metadata": {
        "colab": {
          "base_uri": "https://localhost:8080/"
        },
        "id": "k9fG1Qjhag4M",
        "outputId": "e7992ebb-2fc2-4dfb-c908-f794c087e504"
      },
      "source": [
        "Astro = [[0,0],5.97e+24,500]\n",
        "Astro"
      ],
      "execution_count": null,
      "outputs": [
        {
          "output_type": "execute_result",
          "data": {
            "text/plain": [
              "[[0, 0], 5.97e+24, 500]"
            ]
          },
          "metadata": {},
          "execution_count": 39
        }
      ]
    },
    {
      "cell_type": "code",
      "metadata": {
        "id": "JwxWyQjqhGjg"
      },
      "source": [
        "P1, P2 = Astro[0], P"
      ],
      "execution_count": null,
      "outputs": []
    },
    {
      "cell_type": "code",
      "metadata": {
        "colab": {
          "base_uri": "https://localhost:8080/"
        },
        "id": "IfqGSUjIanAT",
        "outputId": "74507044-2856-4040-ca42-73f35a9b02d9"
      },
      "source": [
        "P = [6563,0]\n",
        "P"
      ],
      "execution_count": null,
      "outputs": [
        {
          "output_type": "execute_result",
          "data": {
            "text/plain": [
              "[6563, 0]"
            ]
          },
          "metadata": {},
          "execution_count": 40
        }
      ]
    },
    {
      "cell_type": "code",
      "metadata": {
        "colab": {
          "base_uri": "https://localhost:8080/"
        },
        "id": "htgzdHZuZUUA",
        "outputId": "3a2bd2c8-cee5-4966-f357-dc4a8ebd44a4"
      },
      "source": [
        "aceleracaoGravitacional(Astro, P)"
      ],
      "execution_count": null,
      "outputs": [
        {
          "output_type": "execute_result",
          "data": {
            "text/plain": [
              "[-119890.73704206462, 0.0]"
            ]
          },
          "metadata": {},
          "execution_count": 50
        }
      ]
    },
    {
      "cell_type": "markdown",
      "metadata": {
        "id": "5Vh2G1PjvMKx"
      },
      "source": [
        "#**3.0 - Calcula e devolve a aceleração resultante [ax, ay] da soma das contribuições exercidas por cada um dos astros presentes na lista Astros sobre a nave no ponto P = [x, y].**"
      ]
    },
    {
      "cell_type": "code",
      "metadata": {
        "id": "YO6VEOqmZUXA"
      },
      "source": [
        "def aceleracaoResultante(Astros, P):\n",
        "    a_resultante = [0,0]\n",
        "    n = 0\n",
        "    while n < len(Astros):\n",
        "        Astro = Astros[n]\n",
        "        a = aceleracaoGravitacional(Astro, P)\n",
        "        a_resultante[0] = a_resultante[0] + a[0]\n",
        "        a_resultante[1] = a_resultante[1] + a[1]\n",
        "        n += 1\n",
        "    return a_resultante"
      ],
      "execution_count": null,
      "outputs": []
    },
    {
      "cell_type": "code",
      "metadata": {
        "colab": {
          "base_uri": "https://localhost:8080/"
        },
        "id": "GHm8ctMOvf1w",
        "outputId": "148c948f-98a6-4fb5-f040-e8f91bff2f23"
      },
      "source": [
        "Astros"
      ],
      "execution_count": null,
      "outputs": [
        {
          "output_type": "execute_result",
          "data": {
            "text/plain": [
              "[[[0.0, 0.0], 5.735e+23, 30000.0], [[1000.0, 9000.0], 7.15e+18, 5000.0]]"
            ]
          },
          "metadata": {},
          "execution_count": 52
        }
      ]
    },
    {
      "cell_type": "code",
      "metadata": {
        "colab": {
          "base_uri": "https://localhost:8080/"
        },
        "id": "LR3e4cafvf7B",
        "outputId": "aee52d58-5763-4086-94ff-e6eadfc1c818"
      },
      "source": [
        "aceleracaoResultante(Astros, P)"
      ],
      "execution_count": null,
      "outputs": [
        {
          "output_type": "execute_result",
          "data": {
            "text/plain": [
              "[-11517.17103999534, 0.04699440437808629]"
            ]
          },
          "metadata": {},
          "execution_count": 53
        }
      ]
    },
    {
      "cell_type": "markdown",
      "metadata": {
        "id": "YopBTWRhIgdA"
      },
      "source": [
        "#**4.0 - Verifica se ocorre sobreposição entre a nave fornecida com algum dos astros presentes na lista Astros. Devolve True se a nave colidiu com algum astro, caso contrário a função retorna False.**"
      ]
    },
    {
      "cell_type": "code",
      "metadata": {
        "id": "iYBfVh2WI_1w"
      },
      "source": [
        "def deteccaoColisao(Nave, Astros):\n",
        "    n = 0  \n",
        "    colisao = False\n",
        "    while n < len(Astros):\n",
        "        nave_x, nave_y = Nave[0][0], Nave[0][1]\n",
        "        astro_x_max, astro_x_min = (Astros[n][0][0])+(Astros[n][2])+(Nave[2]), (Astros[n][0][0])-(Astros[n][2])-(Nave[2])\n",
        "        astro_y_max, astro_y_min = (Astros[n][0][1])+(Astros[n][2])+(Nave[2]), (Astros[n][0][1])-(Astros[n][2])-(Nave[2])\n",
        "        if (astro_x_min <= nave_x <= astro_x_max) and (astro_y_min <= nave_y <= astro_y_max):\n",
        "            colisao = True\n",
        "        n += 1\n",
        "    return colisao"
      ],
      "execution_count": null,
      "outputs": []
    },
    {
      "cell_type": "code",
      "metadata": {
        "colab": {
          "base_uri": "https://localhost:8080/"
        },
        "id": "dk1a0ofYJc9O",
        "outputId": "f6c9ebd6-fb1b-4341-b80d-40f340d811a0"
      },
      "source": [
        "deteccaoColisao([[-800, 0], [9, 4], 70], [[[0, 0], 8e+22, 10], [[-900, 10], 5e+21, 60]])"
      ],
      "execution_count": null,
      "outputs": [
        {
          "output_type": "execute_result",
          "data": {
            "text/plain": [
              "False"
            ]
          },
          "metadata": {},
          "execution_count": 27
        }
      ]
    },
    {
      "cell_type": "code",
      "metadata": {
        "colab": {
          "base_uri": "https://localhost:8080/"
        },
        "id": "elrYXieZHQ8E",
        "outputId": "066556ec-11b4-49b4-997d-15cc29d54120"
      },
      "source": [
        "Astros[0][0]"
      ],
      "execution_count": null,
      "outputs": [
        {
          "output_type": "execute_result",
          "data": {
            "text/plain": [
              "[1000, 1000]"
            ]
          },
          "metadata": {},
          "execution_count": 25
        }
      ]
    },
    {
      "cell_type": "code",
      "metadata": {
        "colab": {
          "base_uri": "https://localhost:8080/"
        },
        "id": "g3PIOBlWHSZE",
        "outputId": "bd5836b5-f3c9-4cf4-87c3-45d777a437e9"
      },
      "source": [
        "Astros"
      ],
      "execution_count": null,
      "outputs": [
        {
          "output_type": "execute_result",
          "data": {
            "text/plain": [
              "[[[1000, 1000], 8.2e+22, 75],\n",
              " [[0, 1000], 3e+23, 17],\n",
              " [[1000, 0], 3e+23, 35],\n",
              " [[-1000, 0], 3e+23, 53]]"
            ]
          },
          "metadata": {},
          "execution_count": 23
        }
      ]
    },
    {
      "cell_type": "code",
      "metadata": {
        "id": "6GM9MaMRGa6W"
      },
      "source": [
        "Astros = [[[1000, 1000], 8.2e+22, 75], [[0, 1000], 3e+23, 17], [[1000, 0], 3e+23, 35], [[-1000, 0], 3e+23, 53]]"
      ],
      "execution_count": null,
      "outputs": []
    },
    {
      "cell_type": "code",
      "metadata": {
        "colab": {
          "base_uri": "https://localhost:8080/"
        },
        "id": "FwXOIT_5qqXG",
        "outputId": "2b919b06-e9c7-49a1-db85-f31b54aa1f48"
      },
      "source": [
        "Astros"
      ],
      "execution_count": null,
      "outputs": [
        {
          "output_type": "execute_result",
          "data": {
            "text/plain": [
              "[[[0.0, 0.0], 5.735e+23, 3000.0], [[5000.0, 300.0], 50000.0, 3000.0]]"
            ]
          },
          "metadata": {},
          "execution_count": 13
        }
      ]
    },
    {
      "cell_type": "markdown",
      "metadata": {
        "id": "TwQpNcyaUY8M"
      },
      "source": [
        "testes"
      ]
    },
    {
      "cell_type": "code",
      "metadata": {
        "id": "ze1syBwII_6g"
      },
      "source": [
        "Astros = [[[0, 0], 5.97e+24, 150], [[384400, 0], 7.35e+22, 1]]"
      ],
      "execution_count": null,
      "outputs": []
    },
    {
      "cell_type": "code",
      "metadata": {
        "colab": {
          "base_uri": "https://localhost:8080/"
        },
        "id": "4DTk_dQzJAnI",
        "outputId": "e344f77a-e98c-49be-cfd2-9f2c89419e69"
      },
      "source": [
        "Nave = [[100, -50], [7, 4], 100]\n",
        "Nave"
      ],
      "execution_count": null,
      "outputs": [
        {
          "output_type": "execute_result",
          "data": {
            "text/plain": [
              "[[100, -50], [7, 4], 100]"
            ]
          },
          "metadata": {},
          "execution_count": 12
        }
      ]
    },
    {
      "cell_type": "code",
      "metadata": {
        "id": "fxl32d1LJAqP"
      },
      "source": [
        "colidiu = deteccaoColisao(Nave, Astros)"
      ],
      "execution_count": null,
      "outputs": []
    },
    {
      "cell_type": "code",
      "metadata": {
        "colab": {
          "base_uri": "https://localhost:8080/"
        },
        "id": "YfHNi7hfRPy9",
        "outputId": "d7d74dc4-db37-413b-a676-f838094116ea"
      },
      "source": [
        "if colidiu:\n",
        "    print(\"Bateu! iii morreu!!!\")\n",
        "else:\n",
        "    print('continua filho')"
      ],
      "execution_count": null,
      "outputs": [
        {
          "output_type": "stream",
          "name": "stdout",
          "text": [
            "continua filho\n"
          ]
        }
      ]
    },
    {
      "cell_type": "markdown",
      "metadata": {
        "id": "nz5qGZgGUqyd"
      },
      "source": [
        "#**5.0 - Atualiza a posição e velocidade da nave em Nave sujeita às forças de atração gravitacional dos astros presentes na lista Astros, após um intervalo de tempo delta_t.**"
      ]
    },
    {
      "cell_type": "markdown",
      "metadata": {
        "id": "3YPrL3ZmhL2T"
      },
      "source": [
        "Aqui existe uma questão logica, pois a atualização do espaço pelo tempo e da velocidade altera o trajeto a cada fração de tempo, logo, deveriamos conferir a colisao a cada fração de tempo realizando uma nova atualização"
      ]
    },
    {
      "cell_type": "code",
      "metadata": {
        "id": "qbG9dFzSvf9z"
      },
      "source": [
        "def atualizaNave(Nave, Astros, delta_t):\n",
        "        px , py = Nave[0][0], Nave[0][1]\n",
        "        P = [px, py]\n",
        "        vx , vy = Nave[1][0], Nave[1][1]\n",
        "        a_result = aceleracaoResultante(Astros, P)\n",
        "        Nave[0][0] = px + (vx) * delta_t + (((a_result[0])*(delta_t**2))/2)\n",
        "        Nave[0][1] = py + (vy) * delta_t + (((a_result[1])*(delta_t**2))/2)\n",
        "        Nave[1][0] = vx + ((a_result[0])*(delta_t))\n",
        "        Nave[1][1] = vy + ((a_result[1])*(delta_t))\n",
        "        return Nave"
      ],
      "execution_count": null,
      "outputs": []
    },
    {
      "cell_type": "code",
      "metadata": {
        "colab": {
          "base_uri": "https://localhost:8080/"
        },
        "id": "4xYweW1Y4Grw",
        "outputId": "7df95989-b79c-4c52-9c70-7f82d79da00d"
      },
      "source": [
        "atualizaNave([[1000, -50], [7, 4], 10], [[[0, 0], 5.97e+24, 15], [[384400, 0], 7.35e+22, 1]], 0.75)"
      ],
      "execution_count": null,
      "outputs": [
        {
          "output_type": "execute_result",
          "data": {
            "text/plain": [
              "[[-1445954.2025526867, 72300.97872571304],\n",
              " [-3858551.540140498, 192931.94326856808],\n",
              " 10]"
            ]
          },
          "metadata": {},
          "execution_count": 18
        }
      ]
    },
    {
      "cell_type": "code",
      "metadata": {
        "colab": {
          "base_uri": "https://localhost:8080/"
        },
        "id": "eT9nclR73SOT",
        "outputId": "330d572c-578a-4efc-c78a-333a4d994401"
      },
      "source": [
        "atualizaNave([[300000, 300000], [8, 5], 10], [[[0, 0], 5.97e+24, 5]], 0.5)"
      ],
      "execution_count": null,
      "outputs": [
        {
          "output_type": "execute_result",
          "data": {
            "text/plain": [
              "[[300000, 300000], [8, 5], 10]"
            ]
          },
          "metadata": {},
          "execution_count": 10
        }
      ]
    },
    {
      "cell_type": "markdown",
      "metadata": {
        "id": "TYlNMj2Kje-c"
      },
      "source": [
        "testes"
      ]
    },
    {
      "cell_type": "code",
      "metadata": {
        "colab": {
          "base_uri": "https://localhost:8080/"
        },
        "id": "Yb_Y8eWlvgAY",
        "outputId": "50d63336-fe99-4036-aac5-a967c888a3a4"
      },
      "source": [
        "a_result = aceleracaoResultante(Astros, P)\n",
        "a_result "
      ],
      "execution_count": null,
      "outputs": [
        {
          "output_type": "execute_result",
          "data": {
            "text/plain": [
              "[-98966964302.99823, -98966964302.99823]"
            ]
          },
          "metadata": {},
          "execution_count": 119
        }
      ]
    },
    {
      "cell_type": "code",
      "metadata": {
        "colab": {
          "base_uri": "https://localhost:8080/"
        },
        "id": "PpoNKdH7bfzl",
        "outputId": "82d2d885-711c-4b57-b47a-2c38639c6969"
      },
      "source": [
        "Naves"
      ],
      "execution_count": null,
      "outputs": [
        {
          "output_type": "execute_result",
          "data": {
            "text/plain": [
              "[[[100.0, 100.0], [10.0, 10.0], 50.0], [[0.0, 0.0], [-5.0, -10.0], 300.0]]"
            ]
          },
          "metadata": {},
          "execution_count": 104
        }
      ]
    },
    {
      "cell_type": "code",
      "metadata": {
        "colab": {
          "base_uri": "https://localhost:8080/"
        },
        "id": "KTTfZ9nLh9OO",
        "outputId": "8cc8be2f-f104-476b-dee8-c6b8b7d79c35"
      },
      "source": [
        "Nave"
      ],
      "execution_count": null,
      "outputs": [
        {
          "output_type": "execute_result",
          "data": {
            "text/plain": [
              "[[100.0, 100.0], [10.0, 10.0], 50.0]"
            ]
          },
          "metadata": {},
          "execution_count": 120
        }
      ]
    },
    {
      "cell_type": "code",
      "metadata": {
        "id": "z5xl3MSibf2b"
      },
      "source": [
        "Nave = Naves[0]"
      ],
      "execution_count": null,
      "outputs": []
    },
    {
      "cell_type": "code",
      "metadata": {
        "colab": {
          "base_uri": "https://localhost:8080/"
        },
        "id": "Fi_B73_Bbf5V",
        "outputId": "06218b88-72e8-481f-f85d-3b9873756d89"
      },
      "source": [
        "Astros"
      ],
      "execution_count": null,
      "outputs": [
        {
          "output_type": "execute_result",
          "data": {
            "text/plain": [
              "[[[0.0, 0.0], 5.735e+23, 30000.0], [[1000.0, 1000.0], 7.15e+18, 5000.0]]"
            ]
          },
          "metadata": {},
          "execution_count": 110
        }
      ]
    },
    {
      "cell_type": "code",
      "metadata": {
        "colab": {
          "base_uri": "https://localhost:8080/"
        },
        "id": "iQcpXhKUbf8F",
        "outputId": "f574bf65-8ec0-46e6-a6ec-41ca7c3a1e24"
      },
      "source": [
        "atualizaNave(Nave, Astros, delta_t)"
      ],
      "execution_count": null,
      "outputs": [
        {
          "output_type": "execute_result",
          "data": {
            "text/plain": [
              "[[-82679582908.33334, -82679582908.33334],\n",
              " [-11023944344.444448, -11023944344.444448],\n",
              " 50.0]"
            ]
          },
          "metadata": {},
          "execution_count": 124
        }
      ]
    },
    {
      "cell_type": "markdown",
      "metadata": {
        "id": "Re35F4hbjgNk"
      },
      "source": [
        "#**6.0 - Calcula a distância da nave Nave em relação ao astro mais próximo dentre os astros presentes na lista Astros. A distânia deve ser medida em relação a superfície do astro e da nave. Em caso de nave colidida, a distância deve ser zero.**"
      ]
    },
    {
      "cell_type": "code",
      "metadata": {
        "id": "jlsK5rmrIJJq"
      },
      "source": [
        "def distanciaAstroMaisProximo(Nave, Astros):\n",
        "    n = dist = 0\n",
        "    dist_salv = 99999999999999e+999999999999\n",
        "    while n < len(Astros):\n",
        "        P1 = (Astros[n][0][0], Astros[n][0][1])\n",
        "        P2 = (Nave[0][0], Nave[0][1])\n",
        "        dist_relat = distancia(P1, P2)\n",
        "        dist_absol = dist_relat - (Astros[n][2]) - (Nave[2])\n",
        "        if dist_absol < 0:\n",
        "            dist_absol = 0\n",
        "        if dist_absol < dist_salv:\n",
        "            dist_salv = dist_absol\n",
        "        n += 1\n",
        "    return dist_salv"
      ],
      "execution_count": null,
      "outputs": []
    },
    {
      "cell_type": "markdown",
      "metadata": {
        "id": "Hq_M1ah8K1I6"
      },
      "source": [
        "Teste"
      ]
    },
    {
      "cell_type": "code",
      "metadata": {
        "colab": {
          "base_uri": "https://localhost:8080/"
        },
        "id": "YEC7M5EXzufB",
        "outputId": "4ffd371d-4708-46d1-9d0b-75d010fb2d81"
      },
      "source": [
        "(Nave[0][1] + Nave[2]) "
      ],
      "execution_count": null,
      "outputs": [
        {
          "output_type": "execute_result",
          "data": {
            "text/plain": [
              "50"
            ]
          },
          "metadata": {},
          "execution_count": 55
        }
      ]
    },
    {
      "cell_type": "code",
      "metadata": {
        "colab": {
          "base_uri": "https://localhost:8080/"
        },
        "id": "9WvqEWfv1Xlv",
        "outputId": "0f451068-f10f-4204-fe83-bc9ffa428bd1"
      },
      "source": [
        "Nave"
      ],
      "execution_count": null,
      "outputs": [
        {
          "output_type": "execute_result",
          "data": {
            "text/plain": [
              "[[100, -50], [7, 4], 100]"
            ]
          },
          "metadata": {},
          "execution_count": 20
        }
      ]
    },
    {
      "cell_type": "code",
      "metadata": {
        "colab": {
          "base_uri": "https://localhost:8080/"
        },
        "id": "7Rs72FuRZY9_",
        "outputId": "e6446932-1b71-4b74-d6a7-f26e1f8efa8d"
      },
      "source": [
        "distanciaAstroMaisProximo([[300000, 300000], [8, 5], 10], [[[0, 0], 5.97e+24, 5]])"
      ],
      "execution_count": null,
      "outputs": [
        {
          "output_type": "execute_result",
          "data": {
            "text/plain": [
              "424249.0687119285"
            ]
          },
          "metadata": {},
          "execution_count": 62
        }
      ]
    },
    {
      "cell_type": "code",
      "metadata": {
        "colab": {
          "base_uri": "https://localhost:8080/"
        },
        "id": "ok0oVaCLoX0o",
        "outputId": "ede5be37-ceaf-4d18-c8ec-6872543902c5"
      },
      "source": [
        "distanciaAstroMaisProximo(Nave, Astros)"
      ],
      "execution_count": null,
      "outputs": [
        {
          "output_type": "execute_result",
          "data": {
            "text/plain": [
              "116926587480.31577"
            ]
          },
          "metadata": {},
          "execution_count": 141
        }
      ]
    },
    {
      "cell_type": "code",
      "metadata": {
        "colab": {
          "base_uri": "https://localhost:8080/"
        },
        "id": "E2M-j6uVZnB0",
        "outputId": "9f215516-c19f-4450-8d30-9d0812c41f76"
      },
      "source": [
        "Nave"
      ],
      "execution_count": null,
      "outputs": [
        {
          "output_type": "execute_result",
          "data": {
            "text/plain": [
              "[[100, -50], [7, 4], 100]"
            ]
          },
          "metadata": {},
          "execution_count": 13
        }
      ]
    },
    {
      "cell_type": "code",
      "metadata": {
        "colab": {
          "base_uri": "https://localhost:8080/"
        },
        "id": "3YpSfrmBkZcS",
        "outputId": "e89c67ed-63a1-457c-ab25-afe904f16dcc"
      },
      "source": [
        "Astros"
      ],
      "execution_count": null,
      "outputs": [
        {
          "output_type": "execute_result",
          "data": {
            "text/plain": [
              "[[[0, 0], 5.97e+24, 150], [[384400, 0], 7.35e+22, 1]]"
            ]
          },
          "metadata": {},
          "execution_count": 14
        }
      ]
    },
    {
      "cell_type": "markdown",
      "metadata": {
        "id": "wL0r0dKuK3Z7"
      },
      "source": [
        "versao anterior q não dava totalmente correto"
      ]
    },
    {
      "cell_type": "code",
      "metadata": {
        "id": "8Z-V2G5BK710"
      },
      "source": [
        "#def distanciaAstroMaisProximo(Nave, Astros):\n",
        "    n = 0\n",
        "    dist_list = [0,0,0,0, 99999999999e+999999999] # lista com as 4 distancias possiveis zeradas e a dist min atualizado tendendo ao infinito \n",
        "    while n < len(Astros):\n",
        "        P1 = P2 = P3 = P4 = (0,0)\n",
        "        P1 = (Astros[n][0][0] + Astros[n][2], Astros[n][0][1] + Astros[n][2]) #posição x,y do astro + raio\n",
        "        P3 = (Astros[n][0][0] - Astros[n][2], Astros[n][0][1] - Astros[n][2]) #posição xy do astro - raio\n",
        "        P2 = (Nave[0][0] + Nave[2], Nave[0][1] + Nave[2]) #posição xy da nave + raio\n",
        "        P4 = (Nave[0][0] - Nave[2], Nave[0][1] - Nave[2]) #posição xy da nave - raio\n",
        "        #agora temos os 4 pontos, sendo maximos e minimos dos dois corpos independentes do sinal do ponto central inicial em relação aos eixos x,y\n",
        "        dist_list[0] = distancia(P1, P2) #distancia do max da nave em relação ao max do astro\n",
        "        dist_list[1] = distancia(P1, P4) #distancia do min da nave em relação ao max do astro\n",
        "        dist_list[2] = distancia(P3, P2) #distancia do max da nave em relação ao min do astro\n",
        "        dist_list[3] = distancia(P3, P4) #distancia do min da nave em relação ao min do astro\n",
        "        j = 0\n",
        "        while j < 4:\n",
        "            if dist_list[j] < dist_list[4]:\n",
        "                dist_list[4] = dist_list[j]\n",
        "            j += 1\n",
        "        n += 1\n",
        "    return dist_list[4]"
      ],
      "execution_count": null,
      "outputs": []
    },
    {
      "cell_type": "markdown",
      "metadata": {
        "id": "04L2STGYpR1T"
      },
      "source": [
        "#**7.0 - simulação.**"
      ]
    },
    {
      "cell_type": "code",
      "metadata": {
        "id": "vd4syZv658yC"
      },
      "source": [
        "def simulacao(Naves, Astros, niter, delta_t):\n",
        "    trajetorias = []\n",
        "    distancias = []\n",
        "    u = 0\n",
        "    while u < len(Naves):\n",
        "        i = 0\n",
        "        astros_proximos = []\n",
        "        trajetoria_list = []\n",
        "        while i < niter:\n",
        "            colisao = False\n",
        "            astro_proximo = 0\n",
        "            Nave = trajetoria_i = []\n",
        "            Nave = Naves[u]\n",
        "            colisao = deteccaoColisao(Nave, Astros)\n",
        "            if colisao is False:\n",
        "                Nave = atualizaNave(Nave, Astros, delta_t)\n",
        "                Naves[u] = Nave\n",
        "            else:\n",
        "                astros_proximos = [0,0]\n",
        "                trajetoria_list = Nave[0]\n",
        "                break\n",
        "            trajetoria_i_x = Nave[0][0]\n",
        "            trajetoria_i_y = Nave[0][1]\n",
        "            trajetoria_list.insert(i, [trajetoria_i_x, trajetoria_i_y])\n",
        "            astro_proximo = distanciaAstroMaisProximo(Nave, Astros)\n",
        "            astros_proximos.insert(i, astro_proximo)\n",
        "            i += 1\n",
        "        distancias.insert(u, astros_proximos)\n",
        "        trajetorias.insert(u, trajetoria_list)\n",
        "        u += 1\n",
        "    return trajetorias, distancias"
      ],
      "execution_count": null,
      "outputs": []
    },
    {
      "cell_type": "code",
      "metadata": {
        "id": "t8jZ-1ZflFl0",
        "colab": {
          "base_uri": "https://localhost:8080/"
        },
        "outputId": "969bf7e5-4f0d-426c-ec09-c9ad31c281ae"
      },
      "source": [
        "simulacao([[[-10143, -14032], [80, 40], 50]], [[[0, 0], 5.97e+24, 15], [[384400, 0], 7.35e+22, 1]], 2, 0.75)"
      ],
      "execution_count": null,
      "outputs": [
        {
          "output_type": "execute_result",
          "data": {
            "text/plain": [
              "([[12344.698505631539,\n",
              "   6705.937450041651,\n",
              "   [3997.955581557643, 5464.608414174671],\n",
              "   [3997.955581557643, 5464.608414174671]]],\n",
              " [[12344.698505631539,\n",
              "   6705.937450041651,\n",
              "   [3997.955581557643, 5464.608414174671],\n",
              "   [3997.955581557643, 5464.608414174671]]])"
            ]
          },
          "metadata": {},
          "execution_count": 14
        }
      ]
    },
    {
      "cell_type": "code",
      "metadata": {
        "colab": {
          "base_uri": "https://localhost:8080/"
        },
        "id": "Wi7Zc_yGlOUP",
        "outputId": "9a1e2af2-2945-4254-b321-1e88c01351ac"
      },
      "source": [
        "distancias"
      ],
      "execution_count": null,
      "outputs": [
        {
          "output_type": "execute_result",
          "data": {
            "text/plain": [
              "[[12344.698505631539,\n",
              "  6705.937450041651,\n",
              "  [3997.955581557643, 5464.608414174671],\n",
              "  [3997.955581557643, 5464.608414174671]]]"
            ]
          },
          "metadata": {},
          "execution_count": 79
        }
      ]
    },
    {
      "cell_type": "code",
      "metadata": {
        "colab": {
          "base_uri": "https://localhost:8080/"
        },
        "id": "epr9Ru-QlMv_",
        "outputId": "4280a29a-696e-4401-fd64-a27e0eef89be"
      },
      "source": [
        "trajetorias"
      ],
      "execution_count": null,
      "outputs": [
        {
          "output_type": "execute_result",
          "data": {
            "text/plain": [
              "[[12344.698505631539,\n",
              "  6705.937450041651,\n",
              "  [3997.955581557643, 5464.608414174671],\n",
              "  [3997.955581557643, 5464.608414174671]]]"
            ]
          },
          "metadata": {},
          "execution_count": 81
        }
      ]
    },
    {
      "cell_type": "code",
      "metadata": {
        "colab": {
          "base_uri": "https://localhost:8080/"
        },
        "id": "cvoC1gcSjZ_1",
        "outputId": "7f95c46e-c4fc-4981-b504-11a3f153b11b"
      },
      "source": [
        "simulacao([[[-10143, -14032], [80, 40], 50]], [[[0, 0], 5.97e+24, 15], [[384400, 0], 7.35e+22, 1]], 2, 0.75)"
      ],
      "execution_count": null,
      "outputs": [
        {
          "output_type": "execute_result",
          "data": {
            "text/plain": [
              "([[12344.698505631539,\n",
              "   6705.937450041651,\n",
              "   [3997.955581557643, 5464.608414174671],\n",
              "   [3997.955581557643, 5464.608414174671]]],\n",
              " [[12344.698505631539,\n",
              "   6705.937450041651,\n",
              "   [3997.955581557643, 5464.608414174671],\n",
              "   [3997.955581557643, 5464.608414174671]]])"
            ]
          },
          "metadata": {},
          "execution_count": 15
        }
      ]
    },
    {
      "cell_type": "code",
      "metadata": {
        "id": "jHW6sckakZfE"
      },
      "source": [
        "def simulacao(Naves, Astros, niter, delta_t):\n",
        "    trajetorias = []\n",
        "    distancias = []\n",
        "    while niter >= 1:\n",
        "        astros_proximos = []\n",
        "        i = u = 0\n",
        "        while i < len(Naves):\n",
        "            astro_proximo = distancia_list = []\n",
        "            Nave = Naves[i]\n",
        "            Naves[i] = atualizaNave(Nave, Astros, delta_t)\n",
        "            distancia_list.insert(i,Naves[i][0])\n",
        "            astro_proximo = distanciaAstroMaisProximo(Nave, Astros)\n",
        "            astros_proximos.insert(i, astro_proximo)\n",
        "            i += 1\n",
        "        distancias.insert(u, astros_proximos)\n",
        "        trajetorias.insert(u, distancia_list)\n",
        "        niter -= 1\n",
        "        u += 1\n",
        "    return trajetorias, distancias"
      ],
      "execution_count": null,
      "outputs": []
    },
    {
      "cell_type": "code",
      "metadata": {
        "colab": {
          "base_uri": "https://localhost:8080/"
        },
        "id": "OcNutxANABc5",
        "outputId": "d8de17b4-54c4-40a4-b111-2292d058b053"
      },
      "source": [
        "simulacao([[[-10143, -14032], [80, 40], 50]], [[[0, 0], 5.97e+24, 15], [[384400, 0], 7.35e+22, 1]], 2, 0.75)"
      ],
      "execution_count": null,
      "outputs": [
        {
          "output_type": "execute_result",
          "data": {
            "text/plain": [
              "([[[3997.955581557643, 5464.608414174671]],\n",
              "  [[3997.955581557643, 5464.608414174671]]],\n",
              " [[], []])"
            ]
          },
          "metadata": {},
          "execution_count": 60
        }
      ]
    },
    {
      "cell_type": "code",
      "metadata": {
        "id": "bhlaIPiP462n"
      },
      "source": [
        "def simulacao(Naves, Astros, niter, delta_t):\n",
        "    '''(lista de naves, lista de astros, int, float) -> (Trajetorias, Distancias)\n",
        "\n",
        "    Recebe: \n",
        "        - uma lista de naves em 'Naves',\n",
        "        - uma lista de astros em 'Astros',\n",
        "        - o número de iterações 'niter' da simulação,\n",
        "        - intervalo de tempo 'delta_t'\n",
        "\n",
        "    e simula as trajetórias das naves em 'Naves'\n",
        "    sob o efeito da força gravitacional exercida pelos\n",
        "    astros em 'Astros'. \n",
        "\n",
        "    Devolve:\n",
        "        - Trajetorias: Uma lista [T1, T2, ..., Tn] das trajetórias\n",
        "                       de cada nave, sendo n o número total de naves.\n",
        "                       Cada trajetória Ti é por sua vez uma lista das\n",
        "                       posições da i-ésima nave ao longo da simulação.\n",
        "        - Distancias:  Uma lista [D1, D2, ..., Dn], em que n é\n",
        "                       o número total de naves e Di representa\n",
        "                       uma lista com as distâncias da i-ésima nave\n",
        "                       em relação ao seu astro mais próximo a cada iteração.\n",
        "\n",
        "    O instante inicial da simulação é zero e a cada \n",
        "    passo da simulação o tempo de simulação é acrescido\n",
        "    de 'delta_t'. \n",
        "\n",
        "    As posições das naves serão atualizadas em cada passo da \n",
        "    simulação. Uma nave será desativada assim que colodir\n",
        "    com algum astro. Neste caso a nave conserva a posição\n",
        "    em que ocorreu a colisão ao longo das próximas iterações.\n",
        "\n",
        "    Não serão consideradas colisões entre naves.\n",
        "\n",
        "    A simulação termina quando o número de iterações\n",
        "    executadas atingir 'niter'.\n",
        "\n",
        "    Esta função DEVE usar as funções 'atualizaNave',\n",
        "    'deteccaoColisao' e 'distanciaAstroMaisProximo'.\n",
        "\n",
        "    Exemplos:\n",
        "     >>> simulacao([[[20000,0],[0,0],500], [[0,25000],[100,-200],200]], [[[0,0],5.97e+24, 5000], [[384400,0],7.35e+22, 4000]], 2, 1)\n",
        "    ([[[13545.176895903343, 0.0], [-13437.380528213638, 0.0]], [[100.21377507987808, 20668.746096834035], [171.5514201156242, 6162.332357329415]]], [[8045.176895903343, 7937.380528213638], [15468.989041946581, 964.7197804874131]])\n",
        "    '''\n",
        "    return [], []"
      ],
      "execution_count": null,
      "outputs": []
    },
    {
      "cell_type": "markdown",
      "metadata": {
        "id": "s5tVxe0BqCt-"
      },
      "source": [
        "#**8.0 - Função main**"
      ]
    },
    {
      "cell_type": "code",
      "metadata": {
        "id": "JZlSwm43nOpA"
      },
      "source": [
        "def main():\n",
        "    niter = int(input(\"Número máximo de iterações: \"))    \n",
        "    delta_t = float(input(\"Delta t: \"))\n",
        "    nnaves = int(input(\"Número de naves: \"))\n",
        "    Naves = []\n",
        "    for i in range(nnaves):\n",
        "        print(\"*** Nave %d ***\"%(i+1))\n",
        "        x,y = input(\"Digite a posição (x,y): \").split()\n",
        "        x,y = float(x),float(y)\n",
        "        vx,vy = input(\"Digite a velocidade inicial (vx,vy): \").split()\n",
        "        vx,vy = float(vx),float(vy)\n",
        "        r = float(input(\"Digite o raio: \"))\n",
        "        Naves.append([[x,y], [vx,vy], r])\n",
        "\n",
        "    nastros = int(input(\"Número de astros: \"))\n",
        "    Astros = []\n",
        "    for i in range(nastros):\n",
        "        print(\"*** Astro %d ***\"%(i+1))\n",
        "        x,y = input(\"Digite a posição (x,y): \").split()\n",
        "        x,y = float(x),float(y)\n",
        "        massa = float(input(\"Digite a massa: \"))\n",
        "        R = float(input(\"Digite o raio: \"))        \n",
        "        Astros.append([[x,y], massa, R])\n",
        "\n",
        "    T, D = simulacao(Naves, Astros, niter, delta_t)\n",
        "    for i in range(niter):\n",
        "        print(\"********* iteração %d *********\"%(i+1))\n",
        "        for j in range(nnaves):\n",
        "            print(\"*** Nave %d ***\"%(j+1))\n",
        "            print(\"Posição: \",end=\"\")\n",
        "            P = T[j][i]\n",
        "            print(\"(%.3f,%.3f)\"%(P[0],P[1]))\n",
        "            print(\"Distância ao astro mais próximo: \",end=\"\")\n",
        "            print(\"%.3f\"%(D[j][i]))\n",
        "\n",
        "\n",
        "if __name__ == \"__main__\":\n",
        "    main()"
      ],
      "execution_count": null,
      "outputs": []
    },
    {
      "cell_type": "code",
      "metadata": {
        "id": "oHV4SegdnOrs"
      },
      "source": [
        ""
      ],
      "execution_count": null,
      "outputs": []
    }
  ]
}