{
  "nbformat": 4,
  "nbformat_minor": 0,
  "metadata": {
    "colab": {
      "name": "Atividade-25-TEFE.ipynb",
      "provenance": [],
      "authorship_tag": "ABX9TyPYFcQp/2qSlVDkZRyO0774",
      "include_colab_link": true
    },
    "kernelspec": {
      "name": "python3",
      "display_name": "Python 3"
    }
  },
  "cells": [
    {
      "cell_type": "markdown",
      "metadata": {
        "id": "view-in-github",
        "colab_type": "text"
      },
      "source": [
        "<a href=\"https://colab.research.google.com/github/gustavo-ifusp/exercicios_programacao_usp/blob/main/Atividade_25_TEFE.ipynb\" target=\"_parent\"><img src=\"https://colab.research.google.com/assets/colab-badge.svg\" alt=\"Open In Colab\"/></a>"
      ]
    },
    {
      "cell_type": "code",
      "metadata": {
        "id": "_K4Nw8R3U0Ms"
      },
      "source": [
        "import numpy as np\n",
        "import pandas as pd\n",
        "import matplotlib.pyplot as plt"
      ],
      "execution_count": null,
      "outputs": []
    },
    {
      "cell_type": "code",
      "metadata": {
        "id": "HcMoZBqdVAgz"
      },
      "source": [
        "#Definição de Funções\n",
        "\n",
        "def mmq(g,y,sy):\n",
        "    D = np.zeros((2,1))\n",
        "    M = np.zeros((2,2))\n",
        "    for i in range(len(M[:][0])):\n",
        "        D[i] = np.sum(y*g[i]/sy**2)\n",
        "        for j in range(len(M[0][:])):\n",
        "            M[i][j] = np.sum(g[i]*g[j]/sy**2)\n",
        "    A = np.matmul(np.linalg.inv(M),D) #Vetor coeficiente\n",
        "    MCov = np.linalg.inv(M) #Matriz de Covariância \n",
        "    \n",
        "    return A,MCov\n",
        "def f(x,A):\n",
        "    return A[0][0] + A[1][0]*x"
      ],
      "execution_count": null,
      "outputs": []
    },
    {
      "cell_type": "code",
      "metadata": {
        "id": "3nKnyrJdVBr0"
      },
      "source": [
        ""
      ],
      "execution_count": null,
      "outputs": []
    },
    {
      "cell_type": "markdown",
      "metadata": {
        "id": "HvyvWHEkVEid"
      },
      "source": [
        "# **Resolução de exercício**"
      ]
    },
    {
      "cell_type": "code",
      "metadata": {
        "colab": {
          "base_uri": "https://localhost:8080/",
          "height": 1000
        },
        "id": "MsgO-hqaVHA8",
        "outputId": "74935264-a116-4326-d3a5-6f4c3bfff913"
      },
      "source": [
        "sLexp = np.zeros(11)\n",
        "sLexp[:] = 0.5#cm\n",
        "\n",
        "t = np.linspace(0,10,11) #s\n",
        "L = np.zeros(len(t))\n",
        "v0 = np.zeros(len(t))\n",
        "#s(t) = s(0) + v(0)*t\n",
        "g = [1,t]\n",
        "M = np.zeros((2,2))\n",
        "for i in range(len(M[:][0])):\n",
        "    for j in range(len(M[0][:])):\n",
        "        M[i][j] = np.sum(g[i]*[g[j]]/sLexp**2)\n",
        "        \n",
        "cov = np.linalg.inv(M)\n",
        "sig_ang  = np.sqrt(cov[1][1])\n",
        "sig_lin = np.sqrt(cov[0][0])\n",
        "coef_corr = cov[1][0]/(sig_ang*sig_lin)\n",
        "print('a)')\n",
        "print('Sb: %.2f cm/s' %(sig_ang))\n",
        "print('Sa: %.2f cm' %(sig_lin))\n",
        "print('Coef. de Correlação: %.3f' %(coef_corr))\n",
        "\n",
        "a0 = 20 #cm\n",
        "b0 = 3 #cm/s\n",
        "\n",
        "for i in range(len(t)):\n",
        "    sL = 0.5*np.random.normal(0,1)\n",
        "    L[i] = a0 + b0*t[i] + sL\n",
        "    \n",
        "A, cov= mmq(g,L,sLexp)\n",
        "Q = ((L - f(t,A))/sLexp)**2 \n",
        "chi2 = np.sum(Q)\n",
        "NGL = len(t) - len(A)\n",
        "\n",
        "print('\\nb)')\n",
        "print('a = %.2f +/- %.2f cm' %(A[0][0], sig_lin))\n",
        "print('b = %.2f +/- %.2f cm/s' %(A[1][0], sig_ang))\n",
        "print('Chi² = %f' %(chi2))\n",
        "print('NGL = %d' %NGL)\n",
        "plt.plot(t,L,'ro')\n",
        "plt.plot(t,f(t,A))\n",
        "plt.xlabel('t(s)')\n",
        "plt.ylabel('L (cm)')\n",
        "plt.show()\n",
        "\n",
        "print('c)')\n",
        "N = 10**4\n",
        "a = np.zeros(N)\n",
        "b = np.zeros(N)\n",
        "chi2 = np.zeros(N)\n",
        "for j in range(N):\n",
        "    a0 = 20 #cm\n",
        "    b0 = 3 #cm/s\n",
        "\n",
        "    for i in range(len(t)): #sortealndo valores de L\n",
        "        sL = 0.5*np.random.normal()\n",
        "        L[i] = a0 + b0*t[i] + sL\n",
        "\n",
        "    A, cov= mmq(g,L,sLexp)\n",
        "    a[j] = A[0][0] # atualiza vetores dos a\n",
        "    b[j] = A[1][0] # atualiza vetores dos b\n",
        "    \n",
        "    #Calcula chi² a cada rodada\n",
        "    Q = ((L - f(t,A))/sLexp)**2 \n",
        "    chi2[j] = np.sum(Q)\n",
        "\n",
        "plt.hist(a,bins = 60, color ='red')\n",
        "plt.xlabel(r'$\\alpha$(cm)')\n",
        "plt.ylabel('Contagens')\n",
        "plt.savefig('a.png', dpi = 200)\n",
        "plt.show()\n",
        "sstda = np.std(a)/np.sqrt(N-1)\n",
        "print('desv_pad a = %.4f +/- %.4f'%(np.std(a), sstda))\n",
        "\n",
        "plt.hist(b,bins = 60, color = 'red')\n",
        "plt.xlabel(r'$\\beta$(cm/s)')\n",
        "plt.ylabel('Contagens')\n",
        "plt.savefig('b.png', dpi = 200)\n",
        "plt.show()\n",
        "sstdb = np.std(b)/np.sqrt(N-1)\n",
        "print('desv_pad b = %.4f +/- %.4f' %(np.std(b),sstdb))\n",
        "\n",
        "plt.plot(a,b,'ro')\n",
        "plt.xlabel(r'$\\alpha$(cm)')\n",
        "plt.ylabel(r'$\\beta$(cm/s)')\n",
        "plt.savefig('correlacao.png', dpi = 200)\n",
        "plt.show()\n",
        "\n",
        "plt.hist(chi2,bins = 60, color = 'red')\n",
        "plt.xlabel(r'$\\chi$²')\n",
        "plt.ylabel('Contagens')\n",
        "plt.savefig('chi2.png', dpi = 200)\n",
        "plt.show()\n",
        "print('chi² médio = %f +/- %f' %(chi2.mean(), np.std(chi2)/np.sqrt(N)))\n",
        "    "
      ],
      "execution_count": null,
      "outputs": [
        {
          "output_type": "stream",
          "text": [
            "a)\n",
            "Sb: 0.05 cm/s\n",
            "Sa: 0.28 cm\n",
            "Coef. de Correlação: -0.845\n",
            "\n",
            "b)\n",
            "a = 20.08 +/- 0.28 cm\n",
            "b = 2.97 +/- 0.05 cm/s\n",
            "Chi² = 16.652202\n",
            "NGL = 9\n"
          ],
          "name": "stdout"
        },
        {
          "output_type": "display_data",
          "data": {
            "image/png": "[encoded data removed]",
            "text/plain": [
              "<Figure size 432x288 with 1 Axes>"
            ]
          },
          "metadata": {
            "tags": [],
            "needs_background": "light"
          }
        },
        {
          "output_type": "stream",
          "text": [
            "c)\n"
          ],
          "name": "stdout"
        },
        {
          "output_type": "display_data",
          "data": {
            "image/png": "[encoded data removed]",
            "text/plain": [
              "<Figure size 432x288 with 1 Axes>"
            ]
          },
          "metadata": {
            "tags": [],
            "needs_background": "light"
          }
        },
        {
          "output_type": "stream",
          "text": [
            "desv_pad a = 0.2813 +/- 0.0028\n"
          ],
          "name": "stdout"
        },
        {
          "output_type": "display_data",
          "data": {
            "image/png": "[encoded data removed]",
            "text/plain": [
              "<Figure size 432x288 with 1 Axes>"
            ]
          },
          "metadata": {
            "tags": [],
            "needs_background": "light"
          }
        },
        {
          "output_type": "stream",
          "text": [
            "desv_pad b = 0.0479 +/- 0.0005\n"
          ],
          "name": "stdout"
        },
        {
          "output_type": "display_data",
          "data": {
            "image/png": "[encoded data removed]",
            "text/plain": [
              "<Figure size 432x288 with 1 Axes>"
            ]
          },
          "metadata": {
            "tags": [],
            "needs_background": "light"
          }
        },
        {
          "output_type": "display_data",
          "data": {
            "image/png": "[encoded data removed]",
            "text/plain": [
              "<Figure size 432x288 with 1 Axes>"
            ]
          },
          "metadata": {
            "tags": [],
            "needs_background": "light"
          }
        },
        {
          "output_type": "stream",
          "text": [
            "chi² médio = 8.942817 +/- 0.042476\n"
          ],
          "name": "stdout"
        }
      ]
    },
    {
      "cell_type": "code",
      "metadata": {
        "id": "y3wfL5fNWR3y",
        "colab": {
          "base_uri": "https://localhost:8080/"
        },
        "outputId": "939c629e-6e9f-445d-e619-9a2a1e1894a5"
      },
      "source": [
        "g = [1,t]\n",
        "A, cov=  mmq(g,L,sLexp)\n",
        "A"
      ],
      "execution_count": null,
      "outputs": [
        {
          "output_type": "execute_result",
          "data": {
            "text/plain": [
              "array([[19.91279375],\n",
              "       [ 3.01585861]])"
            ]
          },
          "metadata": {
            "tags": []
          },
          "execution_count": 5
        }
      ]
    },
    {
      "cell_type": "code",
      "metadata": {
        "id": "slNWKBDTWVIy",
        "colab": {
          "base_uri": "https://localhost:8080/",
          "height": 163
        },
        "outputId": "f2168d93-bd1b-4cd9-b290-5a2256ccf1a0"
      },
      "source": [
        "A, cov = mmq(g)"
      ],
      "execution_count": null,
      "outputs": [
        {
          "output_type": "error",
          "ename": "TypeError",
          "evalue": "ignored",
          "traceback": [
            "\u001b[0;31m---------------------------------------------------------------------------\u001b[0m",
            "\u001b[0;31mTypeError\u001b[0m                                 Traceback (most recent call last)",
            "\u001b[0;32m<ipython-input-6-6acdb36136db>\u001b[0m in \u001b[0;36m<module>\u001b[0;34m()\u001b[0m\n\u001b[0;32m----> 1\u001b[0;31m \u001b[0mA\u001b[0m\u001b[0;34m,\u001b[0m \u001b[0mcov\u001b[0m \u001b[0;34m=\u001b[0m \u001b[0mmmq\u001b[0m\u001b[0;34m(\u001b[0m\u001b[0mg\u001b[0m\u001b[0;34m)\u001b[0m\u001b[0;34m\u001b[0m\u001b[0;34m\u001b[0m\u001b[0m\n\u001b[0m",
            "\u001b[0;31mTypeError\u001b[0m: mmq() missing 2 required positional arguments: 'y' and 'sy'"
          ]
        }
      ]
    }
  ]
}