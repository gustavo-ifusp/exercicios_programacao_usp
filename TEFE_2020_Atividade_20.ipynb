{
  "nbformat": 4,
  "nbformat_minor": 0,
  "metadata": {
    "colab": {
      "name": "TEFE 2020 - Atividade 20.ipynb",
      "provenance": [],
      "include_colab_link": true
    },
    "kernelspec": {
      "name": "python3",
      "display_name": "Python 3"
    }
  },
  "cells": [
    {
      "cell_type": "markdown",
      "metadata": {
        "id": "view-in-github",
        "colab_type": "text"
      },
      "source": [
        "<a href=\"https://colab.research.google.com/github/gustavo-ifusp/exercicios_programacao_usp/blob/main/TEFE_2020_Atividade_20.ipynb\" target=\"_parent\"><img src=\"https://colab.research.google.com/assets/colab-badge.svg\" alt=\"Open In Colab\"/></a>"
      ]
    },
    {
      "cell_type": "code",
      "metadata": {
        "id": "4EcsUm5BnEep"
      },
      "source": [
        "import numpy as np\n",
        "import matplotlib.pyplot as plt"
      ],
      "execution_count": null,
      "outputs": []
    },
    {
      "cell_type": "markdown",
      "metadata": {
        "id": "v0gxEQg-kjGu"
      },
      "source": [
        "# a"
      ]
    },
    {
      "cell_type": "code",
      "metadata": {
        "id": "r25ALSCYkZx3"
      },
      "source": [
        "N, x_0, sigma_0, nREP = 100, 50, 1, 10000\n",
        "\n",
        "x = np.random.default_rng().normal(x_0, sigma_0, (N, nREP))\n",
        "\n",
        "x_m, x_M = x.mean(axis=0), np.median(x, axis=0)\n",
        "s_x = x.std(axis=0, ddof=1)\n",
        "n = np.sum(np.abs(x-x_0)<=sigma_0, axis=0)\n",
        "m = np.sum(np.abs(x-x_m)<=s_x, axis=0)"
      ],
      "execution_count": null,
      "outputs": []
    },
    {
      "cell_type": "markdown",
      "metadata": {
        "id": "WwS_73_Gng5h"
      },
      "source": [
        "## 1"
      ]
    },
    {
      "cell_type": "code",
      "metadata": {
        "id": "_ucscYusnBiH"
      },
      "source": [
        "s_xm, s_xM = x_m.std(ddof=1), x_M.std(ddof=1)"
      ],
      "execution_count": null,
      "outputs": []
    },
    {
      "cell_type": "markdown",
      "metadata": {
        "id": "tPwcILa_o_rv"
      },
      "source": [
        "### 1"
      ]
    },
    {
      "cell_type": "code",
      "metadata": {
        "id": "Vd9As7tFnqVL",
        "colab": {
          "base_uri": "https://localhost:8080/"
        },
        "outputId": "5ed31fcf-4bea-40df-fe98-00bde106057d"
      },
      "source": [
        "print(s_xm)\n",
        "print(s_xm/((2*(nREP-1))**(1/2)))"
      ],
      "execution_count": null,
      "outputs": [
        {
          "output_type": "stream",
          "text": [
            "0.10122728700066184\n",
            "0.0007158208027278055\n"
          ],
          "name": "stdout"
        }
      ]
    },
    {
      "cell_type": "markdown",
      "metadata": {
        "id": "uONrmdD3riN_"
      },
      "source": [
        "### 2"
      ]
    },
    {
      "cell_type": "code",
      "metadata": {
        "id": "0ybfDiZMrVBc",
        "colab": {
          "base_uri": "https://localhost:8080/"
        },
        "outputId": "7b3e7d10-2f53-4eb2-f025-acd41a1cda33"
      },
      "source": [
        "print(s_xM)\n",
        "print(s_xM/((2*(nREP-1))**(1/2)))"
      ],
      "execution_count": null,
      "outputs": [
        {
          "output_type": "stream",
          "text": [
            "0.12621981168043792\n",
            "0.0008925534763828332\n"
          ],
          "name": "stdout"
        }
      ]
    },
    {
      "cell_type": "markdown",
      "metadata": {
        "id": "N5cAsvSIsRfj"
      },
      "source": [
        "## 2"
      ]
    },
    {
      "cell_type": "code",
      "metadata": {
        "id": "HccKXykrroNI",
        "colab": {
          "base_uri": "https://localhost:8080/"
        },
        "outputId": "4113158c-1b47-4294-ef38-3736ecb31311"
      },
      "source": [
        "z = (x_m+x_M)/2\n",
        "stda_z = z.std(ddof=1)\n",
        "print(stda_z)\n",
        "\n",
        "inc_stda_z = stda_z/((2*(nREP-1))**(1/2))\n",
        "print(inc_stda_z)"
      ],
      "execution_count": null,
      "outputs": [
        {
          "output_type": "stream",
          "text": [
            "0.10837219193800002\n",
            "0.0007663454363438959\n"
          ],
          "name": "stdout"
        }
      ]
    },
    {
      "cell_type": "markdown",
      "metadata": {
        "id": "fEP_gS-kto_6"
      },
      "source": [
        "# b\n",
        "\n",
        "## 1"
      ]
    },
    {
      "cell_type": "code",
      "metadata": {
        "id": "0SOltHLFtOh0"
      },
      "source": [
        "n_m, m_m = n.mean(), m.mean()\n",
        "n_s, m_s = (n_m*(1-n_m/N))**(1/2), (m_m*(1-m_m/N))**(1/2)"
      ],
      "execution_count": null,
      "outputs": []
    },
    {
      "cell_type": "markdown",
      "metadata": {
        "id": "fURbsqoy0Ivd"
      },
      "source": [
        "### 1"
      ]
    },
    {
      "cell_type": "code",
      "metadata": {
        "id": "c5weFegOv6Zl",
        "colab": {
          "base_uri": "https://localhost:8080/"
        },
        "outputId": "14e33ca5-dea6-4483-a45b-e1d104c27326"
      },
      "source": [
        "print(n_m)\n",
        "print(n_s/(nREP**(1/2)))"
      ],
      "execution_count": null,
      "outputs": [
        {
          "output_type": "stream",
          "text": [
            "68.2837\n",
            "0.04653714983010885\n"
          ],
          "name": "stdout"
        }
      ]
    },
    {
      "cell_type": "markdown",
      "metadata": {
        "id": "2rJ0_ygf0cXe"
      },
      "source": [
        "### 2"
      ]
    },
    {
      "cell_type": "code",
      "metadata": {
        "id": "OEYwqgiKv9cD",
        "colab": {
          "base_uri": "https://localhost:8080/"
        },
        "outputId": "9bca0829-1af8-4e8e-a3c2-85cefd441e08"
      },
      "source": [
        "print(m_m)\n",
        "print(m_s/(nREP**(1/2)))"
      ],
      "execution_count": null,
      "outputs": [
        {
          "output_type": "stream",
          "text": [
            "68.2275\n",
            "0.04655919075488748\n"
          ],
          "name": "stdout"
        }
      ]
    },
    {
      "cell_type": "markdown",
      "metadata": {
        "id": "cUe4Eoc70qhA"
      },
      "source": [
        "## 2"
      ]
    },
    {
      "cell_type": "code",
      "metadata": {
        "id": "ir-YsPpJwiZE",
        "colab": {
          "base_uri": "https://localhost:8080/"
        },
        "outputId": "b6dc9c45-b005-4ce7-f3eb-cae056f607b9"
      },
      "source": [
        "p = 0.6826\n",
        "print(N*p)\n",
        "s_p = (N*p*(1-p))**(1/2)\n",
        "print(s_p)"
      ],
      "execution_count": null,
      "outputs": [
        {
          "output_type": "stream",
          "text": [
            "68.26\n",
            "4.654645421511718\n"
          ],
          "name": "stdout"
        }
      ]
    },
    {
      "cell_type": "markdown",
      "metadata": {
        "id": "ZB7HEbrW2LB1"
      },
      "source": [
        "## 3"
      ]
    },
    {
      "cell_type": "code",
      "metadata": {
        "id": "ObnUBUVl5_rq"
      },
      "source": [
        "std_n, std_m = n.std(ddof=1), m.std(ddof=1)"
      ],
      "execution_count": null,
      "outputs": []
    },
    {
      "cell_type": "markdown",
      "metadata": {
        "id": "sU7ud7Rr5-TV"
      },
      "source": [
        "### 1"
      ]
    },
    {
      "cell_type": "code",
      "metadata": {
        "id": "6jvb2HcVyx4z",
        "colab": {
          "base_uri": "https://localhost:8080/"
        },
        "outputId": "602822ae-d327-4bfa-d46b-6a2175f3c298"
      },
      "source": [
        "print(std_n)\n",
        "print(std_n/((2*(N-1))**(1/2)))"
      ],
      "execution_count": null,
      "outputs": [
        {
          "output_type": "stream",
          "text": [
            "4.674269909827522\n",
            "0.33218589773823415\n"
          ],
          "name": "stdout"
        }
      ]
    },
    {
      "cell_type": "markdown",
      "metadata": {
        "id": "n5Ah0HgI35sn"
      },
      "source": [
        "### 2"
      ]
    },
    {
      "cell_type": "code",
      "metadata": {
        "id": "Et3OHRI1yrcc",
        "colab": {
          "base_uri": "https://localhost:8080/"
        },
        "outputId": "4dbfc001-e002-4c04-cd59-acda2eb3c882"
      },
      "source": [
        "print(std_m)\n",
        "print(std_m/((2*(N-1))**(1/2)))"
      ],
      "execution_count": null,
      "outputs": [
        {
          "output_type": "stream",
          "text": [
            "3.1351438025497753\n",
            "0.22280496819382153\n"
          ],
          "name": "stdout"
        }
      ]
    },
    {
      "cell_type": "markdown",
      "metadata": {
        "id": "L-9tIB5i448v"
      },
      "source": [
        "## 4"
      ]
    },
    {
      "cell_type": "code",
      "metadata": {
        "id": "AjOQdnFq38YP",
        "colab": {
          "base_uri": "https://localhost:8080/"
        },
        "outputId": "954a26aa-6ee3-414b-81d4-7ec78f1ae1b2"
      },
      "source": [
        "print(s_p)\n",
        "print(s_p/((2*(N-1))**(1/2)))"
      ],
      "execution_count": null,
      "outputs": [
        {
          "output_type": "stream",
          "text": [
            "4.654645421511718\n",
            "0.33079124608255356\n"
          ],
          "name": "stdout"
        }
      ]
    }
  ]
}