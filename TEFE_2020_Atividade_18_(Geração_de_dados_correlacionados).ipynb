{
  "nbformat": 4,
  "nbformat_minor": 0,
  "metadata": {
    "colab": {
      "name": "TEFE 2020 - Atividade 18 (Geração de dados correlacionados).ipynb",
      "provenance": [],
      "collapsed_sections": [],
      "include_colab_link": true
    },
    "kernelspec": {
      "name": "python3",
      "display_name": "Python 3"
    }
  },
  "cells": [
    {
      "cell_type": "markdown",
      "metadata": {
        "id": "view-in-github",
        "colab_type": "text"
      },
      "source": [
        "<a href=\"https://colab.research.google.com/github/gustavo-ifusp/exercicios_programacao_usp/blob/main/TEFE_2020_Atividade_18_(Gera%C3%A7%C3%A3o_de_dados_correlacionados).ipynb\" target=\"_parent\"><img src=\"https://colab.research.google.com/assets/colab-badge.svg\" alt=\"Open In Colab\"/></a>"
      ]
    },
    {
      "cell_type": "code",
      "metadata": {
        "id": "QT4clrsmc0Lk"
      },
      "source": [
        "import numpy as np\n",
        "import matplotlib.pyplot as plt"
      ],
      "execution_count": null,
      "outputs": []
    },
    {
      "cell_type": "code",
      "metadata": {
        "id": "H14HS25enzvW"
      },
      "source": [
        "a0, b0 = 30, 20\n",
        "sigma_a = sigma_b = 2"
      ],
      "execution_count": null,
      "outputs": []
    },
    {
      "cell_type": "markdown",
      "metadata": {
        "id": "LjpKEnPxvx7h"
      },
      "source": [
        "# a"
      ]
    },
    {
      "cell_type": "code",
      "metadata": {
        "id": "1fRkSfatgvE1",
        "colab": {
          "base_uri": "https://localhost:8080/",
          "height": 295
        },
        "outputId": "5bd86f0d-69ae-467e-c81a-e4d7b1b90d40"
      },
      "source": [
        "N = 500\n",
        "rho = .75\n",
        "\n",
        "mu, sigma = 0, 1 # mean and standard deviation\n",
        "r = np.random.normal(mu, sigma, (2,N))\n",
        "\n",
        "a = a0 + sigma_a*r[0]\n",
        "b = b0 + sigma_b*(rho*r[0] + (1-rho**2)**(1/2) *r[1])\n",
        "\n",
        "plt.plot(a, b, '.')\n",
        "plt.title('Dispersão rho=+0.75')\n",
        "plt.xlabel('a')\n",
        "plt.ylabel('b')\n",
        "plt.show()"
      ],
      "execution_count": null,
      "outputs": [
        {
          "output_type": "display_data",
          "data": {
            "image/png": "[encoded data removed]",
            "text/plain": [
              "<Figure size 432x288 with 1 Axes>"
            ]
          },
          "metadata": {
            "tags": [],
            "needs_background": "light"
          }
        }
      ]
    },
    {
      "cell_type": "markdown",
      "metadata": {
        "id": "vjaKtjtsyMzh"
      },
      "source": [
        "## 1"
      ]
    },
    {
      "cell_type": "code",
      "metadata": {
        "id": "E-RQ5T7LqXj1",
        "colab": {
          "base_uri": "https://localhost:8080/"
        },
        "outputId": "03f75231-3e04-49c8-b5d8-eeff1eb9c7f5"
      },
      "source": [
        "n = np.sum((a>=a0)==(b>=b0))\n",
        "print(n)\n",
        "\n",
        "p = n/N\n",
        "q = (1-p)\n",
        "sigma_n = (N*p*q)**(1/2)\n",
        "print(sigma_n)"
      ],
      "execution_count": null,
      "outputs": [
        {
          "output_type": "stream",
          "text": [
            "382\n",
            "9.494840704298309\n"
          ],
          "name": "stdout"
        }
      ]
    },
    {
      "cell_type": "markdown",
      "metadata": {
        "id": "9aMP4V8Q1Ger"
      },
      "source": [
        "## 2"
      ]
    },
    {
      "cell_type": "code",
      "metadata": {
        "id": "fUbG8jxIyauZ",
        "colab": {
          "base_uri": "https://localhost:8080/"
        },
        "outputId": "a318be09-3158-4a05-85a1-e0c86da651cb"
      },
      "source": [
        "print(p)\n",
        "\n",
        "print(sigma_n/N)"
      ],
      "execution_count": null,
      "outputs": [
        {
          "output_type": "stream",
          "text": [
            "0.764\n",
            "0.018989681408596616\n"
          ],
          "name": "stdout"
        }
      ]
    },
    {
      "cell_type": "markdown",
      "metadata": {
        "id": "aS1nTpgsXNtL"
      },
      "source": [
        "## 3"
      ]
    },
    {
      "cell_type": "markdown",
      "metadata": {
        "id": "ZOQoMvB5fk5s"
      },
      "source": [
        "### 1"
      ]
    },
    {
      "cell_type": "code",
      "metadata": {
        "id": "PY9zJNPAXILU",
        "colab": {
          "base_uri": "https://localhost:8080/"
        },
        "outputId": "3a8b1641-a1a7-4084-9ae6-b28adcc9ada7"
      },
      "source": [
        "V_ab = np.sum((a-a.mean())*(b-b.mean()))/(N-1)\n",
        "print(V_ab)\n",
        "\n",
        "s_a, s_b = a.std(ddof=1), b.std(ddof=1)\n",
        "R = V_ab/(s_a*s_b)\n",
        "inc_V = s_a*s_b*((1+R**2)/(N-1))**(1/2)\n",
        "print(inc_V)"
      ],
      "execution_count": null,
      "outputs": [
        {
          "output_type": "stream",
          "text": [
            "2.911428993619758\n",
            "0.2160887200936651\n"
          ],
          "name": "stdout"
        }
      ]
    },
    {
      "cell_type": "markdown",
      "metadata": {
        "id": "u0wfFi2lhTKB"
      },
      "source": [
        "### 2"
      ]
    },
    {
      "cell_type": "code",
      "metadata": {
        "id": "8mdRQM9OdTrH",
        "colab": {
          "base_uri": "https://localhost:8080/"
        },
        "outputId": "e4c598d0-fc9d-4e31-89a9-a90e5aad8391"
      },
      "source": [
        "print(R)\n",
        "\n",
        "inc_R = (1-R**2)/((N-1)**(1/2))\n",
        "print(inc_R)"
      ],
      "execution_count": null,
      "outputs": [
        {
          "output_type": "stream",
          "text": [
            "0.7561756760152355\n",
            "0.01916879061964197\n"
          ],
          "name": "stdout"
        }
      ]
    },
    {
      "cell_type": "markdown",
      "metadata": {
        "id": "Li4azRhjJEHo"
      },
      "source": [
        "## 4"
      ]
    },
    {
      "cell_type": "code",
      "metadata": {
        "id": "QNOpMZCdhp4S",
        "colab": {
          "base_uri": "https://localhost:8080/"
        },
        "outputId": "bab0a3f6-e107-4880-d984-4facb9ccd535"
      },
      "source": [
        "w = a + b\n",
        "s_w = w.std(ddof=1)\n",
        "print(s_w)\n",
        "\n",
        "inc_s = s_w/((2*(N-1))**(1/2))\n",
        "print(inc_s)"
      ],
      "execution_count": null,
      "outputs": [
        {
          "output_type": "stream",
          "text": [
            "3.678509751039304\n",
            "0.1164411915546753\n"
          ],
          "name": "stdout"
        }
      ]
    },
    {
      "cell_type": "markdown",
      "metadata": {
        "id": "D1rsMcCqNcbd"
      },
      "source": [
        "## 5"
      ]
    },
    {
      "cell_type": "code",
      "metadata": {
        "id": "KqhLTq3zNEcb",
        "colab": {
          "base_uri": "https://localhost:8080/"
        },
        "outputId": "7a2efdf9-d6a7-4b23-e062-34dc739ebaa7"
      },
      "source": [
        "z = a - b\n",
        "s_z = z.std(ddof=1)\n",
        "print(s_z)\n",
        "\n",
        "inc_s = s_z/((2*(N-1))**(1/2))\n",
        "print(inc_s)"
      ],
      "execution_count": null,
      "outputs": [
        {
          "output_type": "stream",
          "text": [
            "1.3732144821593644\n",
            "0.04346834489635265\n"
          ],
          "name": "stdout"
        }
      ]
    },
    {
      "cell_type": "markdown",
      "metadata": {
        "id": "lX-CQ7a5Oq-c"
      },
      "source": [
        "## 6"
      ]
    },
    {
      "cell_type": "code",
      "metadata": {
        "id": "Ge5IoRskOnsT",
        "colab": {
          "base_uri": "https://localhost:8080/"
        },
        "outputId": "7fa29c17-2f23-4e51-bb46-5647db6c69e9"
      },
      "source": [
        "s = (s_a**2 + s_b**2)**(1/2)\n",
        "print(s)\n",
        "\n",
        "inc_s = s/((2*(N-1))**(1/2))\n",
        "print(inc_s)"
      ],
      "execution_count": null,
      "outputs": [
        {
          "output_type": "stream",
          "text": [
            "2.776432243230821\n",
            "0.08788642699160337\n"
          ],
          "name": "stdout"
        }
      ]
    },
    {
      "cell_type": "markdown",
      "metadata": {
        "id": "or_ygovtTgXc"
      },
      "source": [
        "# b"
      ]
    },
    {
      "cell_type": "code",
      "metadata": {
        "id": "0wAjve3KTgXm",
        "colab": {
          "base_uri": "https://localhost:8080/",
          "height": 295
        },
        "outputId": "06e0f6a2-7964-4926-ba20-d66c23871d9a"
      },
      "source": [
        "N = 500\n",
        "rho = -.75\n",
        "\n",
        "mu, sigma = 0, 1 # mean and standard deviation\n",
        "r = np.random.normal(mu, sigma, (2,N))\n",
        "\n",
        "a = a0 + sigma_a*r[0]\n",
        "b = b0 + sigma_b*(rho*r[0] + (1-rho**2)**(1/2) *r[1])\n",
        "\n",
        "plt.plot(a, b, '.')\n",
        "plt.title('Dispersão rho=-0.75')\n",
        "plt.xlabel('a')\n",
        "plt.ylabel('b')\n",
        "plt.show()"
      ],
      "execution_count": null,
      "outputs": [
        {
          "output_type": "display_data",
          "data": {
            "image/png": "[encoded data removed]",
            "text/plain": [
              "<Figure size 432x288 with 1 Axes>"
            ]
          },
          "metadata": {
            "tags": [],
            "needs_background": "light"
          }
        }
      ]
    },
    {
      "cell_type": "markdown",
      "metadata": {
        "id": "VsIfooEfTgXv"
      },
      "source": [
        "## 1"
      ]
    },
    {
      "cell_type": "code",
      "metadata": {
        "id": "oreQBdckTgXw",
        "colab": {
          "base_uri": "https://localhost:8080/"
        },
        "outputId": "93cae472-5e54-4815-fd7b-83e0eead5c25"
      },
      "source": [
        "n = np.sum((a>=a0)==(b>=b0))\n",
        "print(n)\n",
        "\n",
        "p = n/N\n",
        "q = (1-p)\n",
        "sigma_n = (N*p*q)**(1/2)\n",
        "print(sigma_n)"
      ],
      "execution_count": null,
      "outputs": [
        {
          "output_type": "stream",
          "text": [
            "118\n",
            "9.494840704298309\n"
          ],
          "name": "stdout"
        }
      ]
    },
    {
      "cell_type": "markdown",
      "metadata": {
        "id": "bJ9TsuMETgX0"
      },
      "source": [
        "## 2"
      ]
    },
    {
      "cell_type": "code",
      "metadata": {
        "id": "ubC32hwzTgX1",
        "colab": {
          "base_uri": "https://localhost:8080/"
        },
        "outputId": "90b36354-31c6-414d-faa5-05654eeddd19"
      },
      "source": [
        "print(p)\n",
        "\n",
        "print(sigma_n/N)"
      ],
      "execution_count": null,
      "outputs": [
        {
          "output_type": "stream",
          "text": [
            "0.236\n",
            "0.018989681408596616\n"
          ],
          "name": "stdout"
        }
      ]
    },
    {
      "cell_type": "markdown",
      "metadata": {
        "id": "dhWSp_QjTgX5"
      },
      "source": [
        "## 3"
      ]
    },
    {
      "cell_type": "markdown",
      "metadata": {
        "id": "UByDP2b0TgX6"
      },
      "source": [
        "### 1"
      ]
    },
    {
      "cell_type": "code",
      "metadata": {
        "id": "tY_KUhYNTgX7",
        "colab": {
          "base_uri": "https://localhost:8080/"
        },
        "outputId": "6633b28a-e0c2-4b40-bbc2-12ad57ae3325"
      },
      "source": [
        "V_ab = np.sum((a-a.mean())*(b-b.mean()))/(N-1)\n",
        "print(V_ab)\n",
        "\n",
        "s_a, s_b = a.std(ddof=1), b.std(ddof=1)\n",
        "R = V_ab/(s_a*s_b)\n",
        "inc_V = s_a*s_b*((1+R**2)/(N-1))**(1/2)\n",
        "print(inc_V)"
      ],
      "execution_count": null,
      "outputs": [
        {
          "output_type": "stream",
          "text": [
            "-2.910168109386649\n",
            "0.2168600122372063\n"
          ],
          "name": "stdout"
        }
      ]
    },
    {
      "cell_type": "markdown",
      "metadata": {
        "id": "uS5x9BVNTgYA"
      },
      "source": [
        "### 2"
      ]
    },
    {
      "cell_type": "code",
      "metadata": {
        "id": "qaZfO0hHTgYA",
        "colab": {
          "base_uri": "https://localhost:8080/"
        },
        "outputId": "2825cdc2-7356-4f7a-f83b-0c9e2dd4361d"
      },
      "source": [
        "print(R)\n",
        "\n",
        "inc_R = (1-R**2)/((N-1)**(1/2))\n",
        "print(inc_R)"
      ],
      "execution_count": null,
      "outputs": [
        {
          "output_type": "stream",
          "text": [
            "-0.7514516278779658\n",
            "0.019487619780174652\n"
          ],
          "name": "stdout"
        }
      ]
    },
    {
      "cell_type": "markdown",
      "metadata": {
        "id": "TnZJXlyxTgYE"
      },
      "source": [
        "## 4"
      ]
    },
    {
      "cell_type": "code",
      "metadata": {
        "id": "HHLCOA8STgYF",
        "colab": {
          "base_uri": "https://localhost:8080/"
        },
        "outputId": "9630e3d8-0be9-4cf2-fe1b-862decb293ae"
      },
      "source": [
        "w = a + b\n",
        "s_w = w.std(ddof=1)\n",
        "print(s_w)\n",
        "\n",
        "inc_s = s_w/((2*(N-1))**(1/2))\n",
        "print(inc_s)"
      ],
      "execution_count": null,
      "outputs": [
        {
          "output_type": "stream",
          "text": [
            "1.3874872098795423\n",
            "0.04392014019796995\n"
          ],
          "name": "stdout"
        }
      ]
    },
    {
      "cell_type": "markdown",
      "metadata": {
        "id": "2T4kTewiTgYJ"
      },
      "source": [
        "## 5"
      ]
    },
    {
      "cell_type": "code",
      "metadata": {
        "id": "u0KabMsUTgYK",
        "colab": {
          "base_uri": "https://localhost:8080/"
        },
        "outputId": "9da73077-e004-4cf0-b328-0cffd07994cd"
      },
      "source": [
        "z = a - b\n",
        "s_z = z.std(ddof=1)\n",
        "print(s_z)\n",
        "\n",
        "inc_s = s_z/((2*(N-1))**(1/2))\n",
        "print(inc_s)"
      ],
      "execution_count": null,
      "outputs": [
        {
          "output_type": "stream",
          "text": [
            "3.683177051829835\n",
            "0.1165889323796765\n"
          ],
          "name": "stdout"
        }
      ]
    },
    {
      "cell_type": "markdown",
      "metadata": {
        "id": "7h4H5uYaTgYQ"
      },
      "source": [
        "## 6"
      ]
    },
    {
      "cell_type": "code",
      "metadata": {
        "id": "fa0R9z3BTgYQ",
        "colab": {
          "base_uri": "https://localhost:8080/"
        },
        "outputId": "289d63e6-f6ea-4258-8fda-fbd2be8974ec"
      },
      "source": [
        "s = (s_a**2 + s_b**2)**(1/2)\n",
        "print(s)\n",
        "\n",
        "inc_s = s/((2*(N-1))**(1/2))\n",
        "print(inc_s)"
      ],
      "execution_count": null,
      "outputs": [
        {
          "output_type": "stream",
          "text": [
            "2.7830661106687016\n",
            "0.08809641839610198\n"
          ],
          "name": "stdout"
        }
      ]
    },
    {
      "cell_type": "markdown",
      "metadata": {
        "id": "w__k_zd5Z1ak"
      },
      "source": [
        "# c"
      ]
    },
    {
      "cell_type": "code",
      "metadata": {
        "id": "nSi7uHBxQaP1",
        "colab": {
          "base_uri": "https://localhost:8080/",
          "height": 600
        },
        "outputId": "79ab8b5d-ef64-48d9-fbb4-31486d29a668"
      },
      "source": [
        "fig, axs = plt.subplots(5, 1, sharex=True, figsize=[6.4, 9.6])\n",
        "\n",
        "rho_ls = [.0, -.25, .5, -.9, .95]\n",
        "\n",
        "for i, ax in enumerate(axs):\n",
        "    rho = rho_ls[i]\n",
        "\n",
        "    r = np.random.normal(mu, sigma, (2,N))\n",
        "\n",
        "    a = a0 + sigma_a*r[0]\n",
        "    b = b0 + sigma_b*(rho*r[0] + (1-rho**2)**(1/2) *r[1])\n",
        "\n",
        "    ax.plot(a, b, '.', markersize=4)\n",
        "    ax.set_title(f'rho={rho}')\n",
        "\n",
        "plt.xlabel('a')\n",
        "plt.ylabel('b')\n",
        "plt.show()"
      ],
      "execution_count": null,
      "outputs": [
        {
          "output_type": "display_data",
          "data": {
            "image/png": "[encoded data removed]",
            "text/plain": [
              "<Figure size 460.8x691.2 with 5 Axes>"
            ]
          },
          "metadata": {
            "tags": [],
            "needs_background": "light"
          }
        }
      ]
    }
  ]
}