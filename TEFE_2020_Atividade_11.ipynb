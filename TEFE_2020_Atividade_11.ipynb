{
  "nbformat": 4,
  "nbformat_minor": 0,
  "metadata": {
    "colab": {
      "name": "TEFE 2020 - Atividade 11.ipynb",
      "provenance": [],
      "collapsed_sections": [],
      "toc_visible": true,
      "include_colab_link": true
    },
    "kernelspec": {
      "name": "python3",
      "display_name": "Python 3"
    }
  },
  "cells": [
    {
      "cell_type": "markdown",
      "metadata": {
        "id": "view-in-github",
        "colab_type": "text"
      },
      "source": [
        "<a href=\"https://colab.research.google.com/github/gustavo-ifusp/exercicios_programacao_usp/blob/main/TEFE_2020_Atividade_11.ipynb\" target=\"_parent\"><img src=\"https://colab.research.google.com/assets/colab-badge.svg\" alt=\"Open In Colab\"/></a>"
      ]
    },
    {
      "cell_type": "code",
      "metadata": {
        "id": "eu3pSkj6TD-l",
        "colab": {
          "base_uri": "https://localhost:8080/",
          "height": 68
        },
        "outputId": "ec1acf43-1334-431b-b77f-7f6aebbe8eec"
      },
      "source": [
        "import numpy as np\n",
        "import matplotlib.pyplot as plt\n",
        "import pandas as pd\n",
        "\n",
        "ind = pd.Index(['[0, 1[','[1, 2[','[2, 3[','[3, 4[','[4, 5['], \n",
        "               name='[x_a,x_b[')\n",
        "df = pd.DataFrame(index=ind,\n",
        "             columns=['(1) P(x_a<=x<=x_b)','(2) n_0','(3) n','(4) n',\n",
        "                      '(5) n','(6) nh','(7) sig_nh','(8) s_n'])\n",
        "df.columns"
      ],
      "execution_count": null,
      "outputs": [
        {
          "output_type": "execute_result",
          "data": {
            "text/plain": [
              "Index(['(1) P(x_a<=x<=x_b)', '(2) n_0', '(3) n', '(4) n', '(5) n', '(6) nh',\n",
              "       '(7) sig_nh', '(8) s_n'],\n",
              "      dtype='object')"
            ]
          },
          "metadata": {
            "tags": []
          },
          "execution_count": 1
        }
      ]
    },
    {
      "cell_type": "markdown",
      "metadata": {
        "id": "BLIvrHGTLMTC"
      },
      "source": [
        "# Considere a função densidade de probabilidade $f(x)=\\frac{3}{125} x^2$, para $x \\in [0,5]$."
      ]
    },
    {
      "cell_type": "code",
      "metadata": {
        "id": "Nv0f23aCPsuY"
      },
      "source": [
        "def cum_f(x): return (x**3)/125"
      ],
      "execution_count": null,
      "outputs": []
    },
    {
      "cell_type": "markdown",
      "metadata": {
        "id": "va-yBNXqLzWr"
      },
      "source": [
        "## a) \n",
        "\n",
        "Preencha a coluna (1) do quadro abaixo com as probabilidades deseobtervalores de $x$ em cada um dos intervalos indicados. Escreva cada probabilidade com 5 casas decimais."
      ]
    },
    {
      "cell_type": "code",
      "metadata": {
        "id": "trMFhobEK7db",
        "colab": {
          "base_uri": "https://localhost:8080/",
          "height": 235
        },
        "outputId": "59d8d752-beeb-478b-fffe-96bd6c0c79cf"
      },
      "source": [
        "df['(1) P(x_a<=x<=x_b)'] = [cum_f(i+1)-cum_f(i) for i in range(5)]\n",
        "df"
      ],
      "execution_count": null,
      "outputs": [
        {
          "output_type": "execute_result",
          "data": {
            "text/html": [
              "<div>\n",
              "<style scoped>\n",
              "    .dataframe tbody tr th:only-of-type {\n",
              "        vertical-align: middle;\n",
              "    }\n",
              "\n",
              "    .dataframe tbody tr th {\n",
              "        vertical-align: top;\n",
              "    }\n",
              "\n",
              "    .dataframe thead th {\n",
              "        text-align: right;\n",
              "    }\n",
              "</style>\n",
              "<table border=\"1\" class=\"dataframe\">\n",
              "  <thead>\n",
              "    <tr style=\"text-align: right;\">\n",
              "      <th></th>\n",
              "      <th>(1) P(x_a&lt;=x&lt;=x_b)</th>\n",
              "      <th>(2) n_0</th>\n",
              "      <th>(3) n</th>\n",
              "      <th>(4) n</th>\n",
              "      <th>(5) n</th>\n",
              "      <th>(6) nh</th>\n",
              "      <th>(7) sig_nh</th>\n",
              "      <th>(8) s_n</th>\n",
              "    </tr>\n",
              "    <tr>\n",
              "      <th>[x_a,x_b[</th>\n",
              "      <th></th>\n",
              "      <th></th>\n",
              "      <th></th>\n",
              "      <th></th>\n",
              "      <th></th>\n",
              "      <th></th>\n",
              "      <th></th>\n",
              "      <th></th>\n",
              "    </tr>\n",
              "  </thead>\n",
              "  <tbody>\n",
              "    <tr>\n",
              "      <th>[0, 1[</th>\n",
              "      <td>0.008</td>\n",
              "      <td>NaN</td>\n",
              "      <td>NaN</td>\n",
              "      <td>NaN</td>\n",
              "      <td>NaN</td>\n",
              "      <td>NaN</td>\n",
              "      <td>NaN</td>\n",
              "      <td>NaN</td>\n",
              "    </tr>\n",
              "    <tr>\n",
              "      <th>[1, 2[</th>\n",
              "      <td>0.056</td>\n",
              "      <td>NaN</td>\n",
              "      <td>NaN</td>\n",
              "      <td>NaN</td>\n",
              "      <td>NaN</td>\n",
              "      <td>NaN</td>\n",
              "      <td>NaN</td>\n",
              "      <td>NaN</td>\n",
              "    </tr>\n",
              "    <tr>\n",
              "      <th>[2, 3[</th>\n",
              "      <td>0.152</td>\n",
              "      <td>NaN</td>\n",
              "      <td>NaN</td>\n",
              "      <td>NaN</td>\n",
              "      <td>NaN</td>\n",
              "      <td>NaN</td>\n",
              "      <td>NaN</td>\n",
              "      <td>NaN</td>\n",
              "    </tr>\n",
              "    <tr>\n",
              "      <th>[3, 4[</th>\n",
              "      <td>0.296</td>\n",
              "      <td>NaN</td>\n",
              "      <td>NaN</td>\n",
              "      <td>NaN</td>\n",
              "      <td>NaN</td>\n",
              "      <td>NaN</td>\n",
              "      <td>NaN</td>\n",
              "      <td>NaN</td>\n",
              "    </tr>\n",
              "    <tr>\n",
              "      <th>[4, 5[</th>\n",
              "      <td>0.488</td>\n",
              "      <td>NaN</td>\n",
              "      <td>NaN</td>\n",
              "      <td>NaN</td>\n",
              "      <td>NaN</td>\n",
              "      <td>NaN</td>\n",
              "      <td>NaN</td>\n",
              "      <td>NaN</td>\n",
              "    </tr>\n",
              "  </tbody>\n",
              "</table>\n",
              "</div>"
            ],
            "text/plain": [
              "           (1) P(x_a<=x<=x_b) (2) n_0 (3) n  ... (6) nh (7) sig_nh (8) s_n\n",
              "[x_a,x_b[                                    ...                          \n",
              "[0, 1[                  0.008     NaN   NaN  ...    NaN        NaN     NaN\n",
              "[1, 2[                  0.056     NaN   NaN  ...    NaN        NaN     NaN\n",
              "[2, 3[                  0.152     NaN   NaN  ...    NaN        NaN     NaN\n",
              "[3, 4[                  0.296     NaN   NaN  ...    NaN        NaN     NaN\n",
              "[4, 5[                  0.488     NaN   NaN  ...    NaN        NaN     NaN\n",
              "\n",
              "[5 rows x 8 columns]"
            ]
          },
          "metadata": {
            "tags": []
          },
          "execution_count": 3
        }
      ]
    },
    {
      "cell_type": "markdown",
      "metadata": {
        "id": "iU0afQHIYPuz"
      },
      "source": [
        "## b) \n",
        "\n",
        "Preencha acoluna (2) do quadro abaixo com o número esperado de ocorrências, $n_0$, em cada um dos intervalos em um experimento com $𝑁=200$ dados. Escreva cada $n_0$ com 2 casas decimais."
      ]
    },
    {
      "cell_type": "code",
      "metadata": {
        "id": "z7QuCW_iRUK2",
        "colab": {
          "base_uri": "https://localhost:8080/",
          "height": 235
        },
        "outputId": "c111c067-1ab0-493f-dbdf-68451393f0d5"
      },
      "source": [
        "df['(2) n_0'] = df['(1) P(x_a<=x<=x_b)']*200\n",
        "df"
      ],
      "execution_count": null,
      "outputs": [
        {
          "output_type": "execute_result",
          "data": {
            "text/html": [
              "<div>\n",
              "<style scoped>\n",
              "    .dataframe tbody tr th:only-of-type {\n",
              "        vertical-align: middle;\n",
              "    }\n",
              "\n",
              "    .dataframe tbody tr th {\n",
              "        vertical-align: top;\n",
              "    }\n",
              "\n",
              "    .dataframe thead th {\n",
              "        text-align: right;\n",
              "    }\n",
              "</style>\n",
              "<table border=\"1\" class=\"dataframe\">\n",
              "  <thead>\n",
              "    <tr style=\"text-align: right;\">\n",
              "      <th></th>\n",
              "      <th>(1) P(x_a&lt;=x&lt;=x_b)</th>\n",
              "      <th>(2) n_0</th>\n",
              "      <th>(3) n</th>\n",
              "      <th>(4) n</th>\n",
              "      <th>(5) n</th>\n",
              "      <th>(6) nh</th>\n",
              "      <th>(7) sig_nh</th>\n",
              "      <th>(8) s_n</th>\n",
              "    </tr>\n",
              "    <tr>\n",
              "      <th>[x_a,x_b[</th>\n",
              "      <th></th>\n",
              "      <th></th>\n",
              "      <th></th>\n",
              "      <th></th>\n",
              "      <th></th>\n",
              "      <th></th>\n",
              "      <th></th>\n",
              "      <th></th>\n",
              "    </tr>\n",
              "  </thead>\n",
              "  <tbody>\n",
              "    <tr>\n",
              "      <th>[0, 1[</th>\n",
              "      <td>0.008</td>\n",
              "      <td>1.6</td>\n",
              "      <td>NaN</td>\n",
              "      <td>NaN</td>\n",
              "      <td>NaN</td>\n",
              "      <td>NaN</td>\n",
              "      <td>NaN</td>\n",
              "      <td>NaN</td>\n",
              "    </tr>\n",
              "    <tr>\n",
              "      <th>[1, 2[</th>\n",
              "      <td>0.056</td>\n",
              "      <td>11.2</td>\n",
              "      <td>NaN</td>\n",
              "      <td>NaN</td>\n",
              "      <td>NaN</td>\n",
              "      <td>NaN</td>\n",
              "      <td>NaN</td>\n",
              "      <td>NaN</td>\n",
              "    </tr>\n",
              "    <tr>\n",
              "      <th>[2, 3[</th>\n",
              "      <td>0.152</td>\n",
              "      <td>30.4</td>\n",
              "      <td>NaN</td>\n",
              "      <td>NaN</td>\n",
              "      <td>NaN</td>\n",
              "      <td>NaN</td>\n",
              "      <td>NaN</td>\n",
              "      <td>NaN</td>\n",
              "    </tr>\n",
              "    <tr>\n",
              "      <th>[3, 4[</th>\n",
              "      <td>0.296</td>\n",
              "      <td>59.2</td>\n",
              "      <td>NaN</td>\n",
              "      <td>NaN</td>\n",
              "      <td>NaN</td>\n",
              "      <td>NaN</td>\n",
              "      <td>NaN</td>\n",
              "      <td>NaN</td>\n",
              "    </tr>\n",
              "    <tr>\n",
              "      <th>[4, 5[</th>\n",
              "      <td>0.488</td>\n",
              "      <td>97.6</td>\n",
              "      <td>NaN</td>\n",
              "      <td>NaN</td>\n",
              "      <td>NaN</td>\n",
              "      <td>NaN</td>\n",
              "      <td>NaN</td>\n",
              "      <td>NaN</td>\n",
              "    </tr>\n",
              "  </tbody>\n",
              "</table>\n",
              "</div>"
            ],
            "text/plain": [
              "           (1) P(x_a<=x<=x_b)  (2) n_0 (3) n  ... (6) nh (7) sig_nh (8) s_n\n",
              "[x_a,x_b[                                     ...                          \n",
              "[0, 1[                  0.008      1.6   NaN  ...    NaN        NaN     NaN\n",
              "[1, 2[                  0.056     11.2   NaN  ...    NaN        NaN     NaN\n",
              "[2, 3[                  0.152     30.4   NaN  ...    NaN        NaN     NaN\n",
              "[3, 4[                  0.296     59.2   NaN  ...    NaN        NaN     NaN\n",
              "[4, 5[                  0.488     97.6   NaN  ...    NaN        NaN     NaN\n",
              "\n",
              "[5 rows x 8 columns]"
            ]
          },
          "metadata": {
            "tags": []
          },
          "execution_count": 4
        }
      ]
    },
    {
      "cell_type": "markdown",
      "metadata": {
        "id": "RmkJp5vquc6b"
      },
      "source": [
        "## c."
      ]
    },
    {
      "cell_type": "markdown",
      "metadata": {
        "id": "f8Rgeu-guhZp"
      },
      "source": [
        "### 1)\n",
        "\n",
        "Faça um programa para gerar dados que sigam essa função densidade de probabilidade. Em seguida, gere um conjuntode $N=200$ dados e preencha  acoluna (3) do quadro com o número de ocorrências, $n$, obtido em cada intervalo."
      ]
    },
    {
      "cell_type": "code",
      "metadata": {
        "id": "ASqQEHaYYpdo",
        "colab": {
          "base_uri": "https://localhost:8080/",
          "height": 268
        },
        "outputId": "23f1920f-d82d-4651-fd1b-e0281e6a0043"
      },
      "source": [
        "rng = np.random.default_rng()\n",
        "N = 200\n",
        "b = [0,1,2,3,4,5]\n",
        " \n",
        "c1_3 = (125 * rng.random(N))**(1/3)\n",
        "df['(3) n'] = plt.hist(c1_3,bins=b)[0]"
      ],
      "execution_count": null,
      "outputs": [
        {
          "output_type": "display_data",
          "data": {
            "image/png": "[encoded data removed]",
            "text/plain": [
              "<Figure size 432x288 with 1 Axes>"
            ]
          },
          "metadata": {
            "tags": [],
            "needs_background": "light"
          }
        }
      ]
    },
    {
      "cell_type": "code",
      "metadata": {
        "id": "tqEK8AMNx1li",
        "colab": {
          "base_uri": "https://localhost:8080/",
          "height": 235
        },
        "outputId": "7b6dcc21-9041-4d1b-d3f4-ceb16fa5fbc1"
      },
      "source": [
        "df"
      ],
      "execution_count": null,
      "outputs": [
        {
          "output_type": "execute_result",
          "data": {
            "text/html": [
              "<div>\n",
              "<style scoped>\n",
              "    .dataframe tbody tr th:only-of-type {\n",
              "        vertical-align: middle;\n",
              "    }\n",
              "\n",
              "    .dataframe tbody tr th {\n",
              "        vertical-align: top;\n",
              "    }\n",
              "\n",
              "    .dataframe thead th {\n",
              "        text-align: right;\n",
              "    }\n",
              "</style>\n",
              "<table border=\"1\" class=\"dataframe\">\n",
              "  <thead>\n",
              "    <tr style=\"text-align: right;\">\n",
              "      <th></th>\n",
              "      <th>(1) P(x_a&lt;=x&lt;=x_b)</th>\n",
              "      <th>(2) n_0</th>\n",
              "      <th>(3) n</th>\n",
              "      <th>(4) n</th>\n",
              "      <th>(5) n</th>\n",
              "      <th>(6) nh</th>\n",
              "      <th>(7) sig_nh</th>\n",
              "      <th>(8) s_n</th>\n",
              "    </tr>\n",
              "    <tr>\n",
              "      <th>[x_a,x_b[</th>\n",
              "      <th></th>\n",
              "      <th></th>\n",
              "      <th></th>\n",
              "      <th></th>\n",
              "      <th></th>\n",
              "      <th></th>\n",
              "      <th></th>\n",
              "      <th></th>\n",
              "    </tr>\n",
              "  </thead>\n",
              "  <tbody>\n",
              "    <tr>\n",
              "      <th>[0, 1[</th>\n",
              "      <td>0.008</td>\n",
              "      <td>1.6</td>\n",
              "      <td>3.0</td>\n",
              "      <td>3.0</td>\n",
              "      <td>3.0</td>\n",
              "      <td>NaN</td>\n",
              "      <td>NaN</td>\n",
              "      <td>NaN</td>\n",
              "    </tr>\n",
              "    <tr>\n",
              "      <th>[1, 2[</th>\n",
              "      <td>0.056</td>\n",
              "      <td>11.2</td>\n",
              "      <td>15.0</td>\n",
              "      <td>16.0</td>\n",
              "      <td>10.0</td>\n",
              "      <td>NaN</td>\n",
              "      <td>NaN</td>\n",
              "      <td>NaN</td>\n",
              "    </tr>\n",
              "    <tr>\n",
              "      <th>[2, 3[</th>\n",
              "      <td>0.152</td>\n",
              "      <td>30.4</td>\n",
              "      <td>31.0</td>\n",
              "      <td>22.0</td>\n",
              "      <td>23.0</td>\n",
              "      <td>NaN</td>\n",
              "      <td>NaN</td>\n",
              "      <td>NaN</td>\n",
              "    </tr>\n",
              "    <tr>\n",
              "      <th>[3, 4[</th>\n",
              "      <td>0.296</td>\n",
              "      <td>59.2</td>\n",
              "      <td>55.0</td>\n",
              "      <td>67.0</td>\n",
              "      <td>67.0</td>\n",
              "      <td>NaN</td>\n",
              "      <td>NaN</td>\n",
              "      <td>NaN</td>\n",
              "    </tr>\n",
              "    <tr>\n",
              "      <th>[4, 5[</th>\n",
              "      <td>0.488</td>\n",
              "      <td>97.6</td>\n",
              "      <td>96.0</td>\n",
              "      <td>92.0</td>\n",
              "      <td>97.0</td>\n",
              "      <td>NaN</td>\n",
              "      <td>NaN</td>\n",
              "      <td>NaN</td>\n",
              "    </tr>\n",
              "  </tbody>\n",
              "</table>\n",
              "</div>"
            ],
            "text/plain": [
              "           (1) P(x_a<=x<=x_b)  (2) n_0  (3) n  ...  (6) nh  (7) sig_nh (8) s_n\n",
              "[x_a,x_b[                                      ...                            \n",
              "[0, 1[                  0.008      1.6    3.0  ...     NaN         NaN     NaN\n",
              "[1, 2[                  0.056     11.2   15.0  ...     NaN         NaN     NaN\n",
              "[2, 3[                  0.152     30.4   31.0  ...     NaN         NaN     NaN\n",
              "[3, 4[                  0.296     59.2   55.0  ...     NaN         NaN     NaN\n",
              "[4, 5[                  0.488     97.6   96.0  ...     NaN         NaN     NaN\n",
              "\n",
              "[5 rows x 8 columns]"
            ]
          },
          "metadata": {
            "tags": []
          },
          "execution_count": 28
        }
      ]
    },
    {
      "cell_type": "markdown",
      "metadata": {
        "id": "pJ5VjwES1f-2"
      },
      "source": [
        "### 2)\n",
        "\n",
        "Gere outros dois conjuntosde $n=200$ dados e preencha as colunas (4) e (5) do quadro."
      ]
    },
    {
      "cell_type": "code",
      "metadata": {
        "id": "MCeQbDvn1NEN",
        "colab": {
          "base_uri": "https://localhost:8080/",
          "height": 265
        },
        "outputId": "76a8c653-6494-407e-c07e-da06a4c6ce90"
      },
      "source": [
        "c2_4 = (125 * rng.random(N))**(1/3)\n",
        "df['(4) n'] = plt.hist(c2_4,bins=b)[0]"
      ],
      "execution_count": null,
      "outputs": [
        {
          "output_type": "display_data",
          "data": {
            "image/png": "[encoded data removed]",
            "text/plain": [
              "<Figure size 432x288 with 1 Axes>"
            ]
          },
          "metadata": {
            "tags": [],
            "needs_background": "light"
          }
        }
      ]
    },
    {
      "cell_type": "code",
      "metadata": {
        "id": "ZKcSyjAM5bWo",
        "colab": {
          "base_uri": "https://localhost:8080/",
          "height": 265
        },
        "outputId": "e2052749-30ee-4fa9-8b03-9780d198ea90"
      },
      "source": [
        "c2_5 = (125 * rng.random(N))**(1/3)\n",
        "df['(5) n'] = plt.hist(c2_5,bins=b)[0]"
      ],
      "execution_count": null,
      "outputs": [
        {
          "output_type": "display_data",
          "data": {
            "image/png": "[encoded data removed]",
            "text/plain": [
              "<Figure size 432x288 with 1 Axes>"
            ]
          },
          "metadata": {
            "tags": [],
            "needs_background": "light"
          }
        }
      ]
    },
    {
      "cell_type": "code",
      "metadata": {
        "id": "r7MJ09OK10_t",
        "colab": {
          "base_uri": "https://localhost:8080/",
          "height": 235
        },
        "outputId": "b4263708-3280-4582-ac76-a45a119f5c52"
      },
      "source": [
        "df"
      ],
      "execution_count": null,
      "outputs": [
        {
          "output_type": "execute_result",
          "data": {
            "text/html": [
              "<div>\n",
              "<style scoped>\n",
              "    .dataframe tbody tr th:only-of-type {\n",
              "        vertical-align: middle;\n",
              "    }\n",
              "\n",
              "    .dataframe tbody tr th {\n",
              "        vertical-align: top;\n",
              "    }\n",
              "\n",
              "    .dataframe thead th {\n",
              "        text-align: right;\n",
              "    }\n",
              "</style>\n",
              "<table border=\"1\" class=\"dataframe\">\n",
              "  <thead>\n",
              "    <tr style=\"text-align: right;\">\n",
              "      <th></th>\n",
              "      <th>(1) P(x_a&lt;=x&lt;=x_b)</th>\n",
              "      <th>(2) n_0</th>\n",
              "      <th>(3) n</th>\n",
              "      <th>(4) n</th>\n",
              "      <th>(5) n</th>\n",
              "      <th>(6) nh</th>\n",
              "      <th>(7) sig_nh</th>\n",
              "      <th>(8) s_n</th>\n",
              "    </tr>\n",
              "    <tr>\n",
              "      <th>[x_a,x_b[</th>\n",
              "      <th></th>\n",
              "      <th></th>\n",
              "      <th></th>\n",
              "      <th></th>\n",
              "      <th></th>\n",
              "      <th></th>\n",
              "      <th></th>\n",
              "      <th></th>\n",
              "    </tr>\n",
              "  </thead>\n",
              "  <tbody>\n",
              "    <tr>\n",
              "      <th>[0, 1[</th>\n",
              "      <td>0.008</td>\n",
              "      <td>1.6</td>\n",
              "      <td>3.0</td>\n",
              "      <td>1.0</td>\n",
              "      <td>0.0</td>\n",
              "      <td>NaN</td>\n",
              "      <td>NaN</td>\n",
              "      <td>NaN</td>\n",
              "    </tr>\n",
              "    <tr>\n",
              "      <th>[1, 2[</th>\n",
              "      <td>0.056</td>\n",
              "      <td>11.2</td>\n",
              "      <td>15.0</td>\n",
              "      <td>10.0</td>\n",
              "      <td>10.0</td>\n",
              "      <td>NaN</td>\n",
              "      <td>NaN</td>\n",
              "      <td>NaN</td>\n",
              "    </tr>\n",
              "    <tr>\n",
              "      <th>[2, 3[</th>\n",
              "      <td>0.152</td>\n",
              "      <td>30.4</td>\n",
              "      <td>31.0</td>\n",
              "      <td>34.0</td>\n",
              "      <td>28.0</td>\n",
              "      <td>NaN</td>\n",
              "      <td>NaN</td>\n",
              "      <td>NaN</td>\n",
              "    </tr>\n",
              "    <tr>\n",
              "      <th>[3, 4[</th>\n",
              "      <td>0.296</td>\n",
              "      <td>59.2</td>\n",
              "      <td>55.0</td>\n",
              "      <td>55.0</td>\n",
              "      <td>55.0</td>\n",
              "      <td>NaN</td>\n",
              "      <td>NaN</td>\n",
              "      <td>NaN</td>\n",
              "    </tr>\n",
              "    <tr>\n",
              "      <th>[4, 5[</th>\n",
              "      <td>0.488</td>\n",
              "      <td>97.6</td>\n",
              "      <td>96.0</td>\n",
              "      <td>100.0</td>\n",
              "      <td>107.0</td>\n",
              "      <td>NaN</td>\n",
              "      <td>NaN</td>\n",
              "      <td>NaN</td>\n",
              "    </tr>\n",
              "  </tbody>\n",
              "</table>\n",
              "</div>"
            ],
            "text/plain": [
              "           (1) P(x_a<=x<=x_b)  (2) n_0  (3) n  ...  (6) nh  (7) sig_nh (8) s_n\n",
              "[x_a,x_b[                                      ...                            \n",
              "[0, 1[                  0.008      1.6    3.0  ...     NaN         NaN     NaN\n",
              "[1, 2[                  0.056     11.2   15.0  ...     NaN         NaN     NaN\n",
              "[2, 3[                  0.152     30.4   31.0  ...     NaN         NaN     NaN\n",
              "[3, 4[                  0.296     59.2   55.0  ...     NaN         NaN     NaN\n",
              "[4, 5[                  0.488     97.6   96.0  ...     NaN         NaN     NaN\n",
              "\n",
              "[5 rows x 8 columns]"
            ]
          },
          "metadata": {
            "tags": []
          },
          "execution_count": 31
        }
      ]
    },
    {
      "cell_type": "markdown",
      "metadata": {
        "id": "_s81TZD15WO4"
      },
      "source": [
        "## d)\n",
        "\n",
        "Gere $n_{REP} = 10^4$ conjuntos de $N=200$ dados e preencha as colunas (6) e (7) do quadro com o valor médio do número de ocorrências em cada intervalo, ñ, e sua respectiva incerteza(escreva esses valores com o número correto de algarismossignificativos)"
      ]
    },
    {
      "cell_type": "code",
      "metadata": {
        "id": "7sT5kBUu9BvR"
      },
      "source": [
        "def binarize(a): return np.histogram(a, bins=b)[0]"
      ],
      "execution_count": null,
      "outputs": []
    },
    {
      "cell_type": "code",
      "metadata": {
        "id": "Ur34yCQ313x8",
        "colab": {
          "base_uri": "https://localhost:8080/",
          "height": 34
        },
        "outputId": "4b893787-cea9-4270-a946-543829bbdf5c"
      },
      "source": [
        "n_rep = 10000\n",
        "\n",
        "x = (125 * rng.random((n_rep,N)))**(1/3)\n",
        "d = np.apply_along_axis(binarize, axis=1, arr=x)\n",
        "d.shape"
      ],
      "execution_count": null,
      "outputs": [
        {
          "output_type": "execute_result",
          "data": {
            "text/plain": [
              "(10000, 5)"
            ]
          },
          "metadata": {
            "tags": []
          },
          "execution_count": 37
        }
      ]
    },
    {
      "cell_type": "code",
      "metadata": {
        "id": "S_MRFm8L73DB",
        "colab": {
          "base_uri": "https://localhost:8080/",
          "height": 235
        },
        "outputId": "da9849bf-300c-4986-f7ad-6667daa1d6ce"
      },
      "source": [
        "df['(6) nh'] = d.mean(axis=0)\n",
        "d_std = d.std(axis=0, ddof=1)\n",
        "df['(7) sig_nh'] = d_std/(d.shape[0]**(1/2))\n",
        "df"
      ],
      "execution_count": null,
      "outputs": [
        {
          "output_type": "execute_result",
          "data": {
            "text/html": [
              "<div>\n",
              "<style scoped>\n",
              "    .dataframe tbody tr th:only-of-type {\n",
              "        vertical-align: middle;\n",
              "    }\n",
              "\n",
              "    .dataframe tbody tr th {\n",
              "        vertical-align: top;\n",
              "    }\n",
              "\n",
              "    .dataframe thead th {\n",
              "        text-align: right;\n",
              "    }\n",
              "</style>\n",
              "<table border=\"1\" class=\"dataframe\">\n",
              "  <thead>\n",
              "    <tr style=\"text-align: right;\">\n",
              "      <th></th>\n",
              "      <th>(1) P(x_a&lt;=x&lt;=x_b)</th>\n",
              "      <th>(2) n_0</th>\n",
              "      <th>(3) n</th>\n",
              "      <th>(4) n</th>\n",
              "      <th>(5) n</th>\n",
              "      <th>(6) nh</th>\n",
              "      <th>(7) sig_nh</th>\n",
              "      <th>(8) s_n</th>\n",
              "    </tr>\n",
              "    <tr>\n",
              "      <th>[x_a,x_b[</th>\n",
              "      <th></th>\n",
              "      <th></th>\n",
              "      <th></th>\n",
              "      <th></th>\n",
              "      <th></th>\n",
              "      <th></th>\n",
              "      <th></th>\n",
              "      <th></th>\n",
              "    </tr>\n",
              "  </thead>\n",
              "  <tbody>\n",
              "    <tr>\n",
              "      <th>[0, 1[</th>\n",
              "      <td>0.008</td>\n",
              "      <td>1.6</td>\n",
              "      <td>3.0</td>\n",
              "      <td>1.0</td>\n",
              "      <td>0.0</td>\n",
              "      <td>1.6201</td>\n",
              "      <td>0.012727</td>\n",
              "      <td>NaN</td>\n",
              "    </tr>\n",
              "    <tr>\n",
              "      <th>[1, 2[</th>\n",
              "      <td>0.056</td>\n",
              "      <td>11.2</td>\n",
              "      <td>15.0</td>\n",
              "      <td>10.0</td>\n",
              "      <td>10.0</td>\n",
              "      <td>11.2303</td>\n",
              "      <td>0.032799</td>\n",
              "      <td>NaN</td>\n",
              "    </tr>\n",
              "    <tr>\n",
              "      <th>[2, 3[</th>\n",
              "      <td>0.152</td>\n",
              "      <td>30.4</td>\n",
              "      <td>31.0</td>\n",
              "      <td>34.0</td>\n",
              "      <td>28.0</td>\n",
              "      <td>30.3722</td>\n",
              "      <td>0.051138</td>\n",
              "      <td>NaN</td>\n",
              "    </tr>\n",
              "    <tr>\n",
              "      <th>[3, 4[</th>\n",
              "      <td>0.296</td>\n",
              "      <td>59.2</td>\n",
              "      <td>55.0</td>\n",
              "      <td>55.0</td>\n",
              "      <td>55.0</td>\n",
              "      <td>59.2612</td>\n",
              "      <td>0.063852</td>\n",
              "      <td>NaN</td>\n",
              "    </tr>\n",
              "    <tr>\n",
              "      <th>[4, 5[</th>\n",
              "      <td>0.488</td>\n",
              "      <td>97.6</td>\n",
              "      <td>96.0</td>\n",
              "      <td>100.0</td>\n",
              "      <td>107.0</td>\n",
              "      <td>97.5162</td>\n",
              "      <td>0.071187</td>\n",
              "      <td>NaN</td>\n",
              "    </tr>\n",
              "  </tbody>\n",
              "</table>\n",
              "</div>"
            ],
            "text/plain": [
              "           (1) P(x_a<=x<=x_b)  (2) n_0  (3) n  ...   (6) nh  (7) sig_nh  (8) s_n\n",
              "[x_a,x_b[                                      ...                              \n",
              "[0, 1[                  0.008      1.6    3.0  ...   1.6201    0.012727      NaN\n",
              "[1, 2[                  0.056     11.2   15.0  ...  11.2303    0.032799      NaN\n",
              "[2, 3[                  0.152     30.4   31.0  ...  30.3722    0.051138      NaN\n",
              "[3, 4[                  0.296     59.2   55.0  ...  59.2612    0.063852      NaN\n",
              "[4, 5[                  0.488     97.6   96.0  ...  97.5162    0.071187      NaN\n",
              "\n",
              "[5 rows x 8 columns]"
            ]
          },
          "metadata": {
            "tags": []
          },
          "execution_count": 44
        }
      ]
    },
    {
      "cell_type": "markdown",
      "metadata": {
        "id": "SBwUXoe8Vaus"
      },
      "source": [
        "## e)\n",
        "\n",
        "Calcule o desvio-padrão amostral do número de ocorrências em cada intervalo, $s_n$ (isto é a dispersão no número de casos em cada intervalo observados nas 10.000 simulações) e preencha a coluna (8) do quadro. Escreva esses desvios-padrões amostrais com o mesmo número de casas decimais usados para escrever os correspondentes valores médios[coluna (6)]."
      ]
    },
    {
      "cell_type": "code",
      "metadata": {
        "id": "6CsLsOKCA7Ep",
        "colab": {
          "base_uri": "https://localhost:8080/",
          "height": 235
        },
        "outputId": "b6ac0b1b-80b5-4b2e-caa8-5269b947a53c"
      },
      "source": [
        "df['(8) s_n'] = d_std\n",
        "df"
      ],
      "execution_count": null,
      "outputs": [
        {
          "output_type": "execute_result",
          "data": {
            "text/html": [
              "<div>\n",
              "<style scoped>\n",
              "    .dataframe tbody tr th:only-of-type {\n",
              "        vertical-align: middle;\n",
              "    }\n",
              "\n",
              "    .dataframe tbody tr th {\n",
              "        vertical-align: top;\n",
              "    }\n",
              "\n",
              "    .dataframe thead th {\n",
              "        text-align: right;\n",
              "    }\n",
              "</style>\n",
              "<table border=\"1\" class=\"dataframe\">\n",
              "  <thead>\n",
              "    <tr style=\"text-align: right;\">\n",
              "      <th></th>\n",
              "      <th>(1) P(x_a&lt;=x&lt;=x_b)</th>\n",
              "      <th>(2) n_0</th>\n",
              "      <th>(3) n</th>\n",
              "      <th>(4) n</th>\n",
              "      <th>(5) n</th>\n",
              "      <th>(6) nh</th>\n",
              "      <th>(7) sig_nh</th>\n",
              "      <th>(8) s_n</th>\n",
              "    </tr>\n",
              "    <tr>\n",
              "      <th>[x_a,x_b[</th>\n",
              "      <th></th>\n",
              "      <th></th>\n",
              "      <th></th>\n",
              "      <th></th>\n",
              "      <th></th>\n",
              "      <th></th>\n",
              "      <th></th>\n",
              "      <th></th>\n",
              "    </tr>\n",
              "  </thead>\n",
              "  <tbody>\n",
              "    <tr>\n",
              "      <th>[0, 1[</th>\n",
              "      <td>0.008</td>\n",
              "      <td>1.6</td>\n",
              "      <td>3.0</td>\n",
              "      <td>1.0</td>\n",
              "      <td>0.0</td>\n",
              "      <td>1.6201</td>\n",
              "      <td>0.012727</td>\n",
              "      <td>1.272689</td>\n",
              "    </tr>\n",
              "    <tr>\n",
              "      <th>[1, 2[</th>\n",
              "      <td>0.056</td>\n",
              "      <td>11.2</td>\n",
              "      <td>15.0</td>\n",
              "      <td>10.0</td>\n",
              "      <td>10.0</td>\n",
              "      <td>11.2303</td>\n",
              "      <td>0.032799</td>\n",
              "      <td>3.279930</td>\n",
              "    </tr>\n",
              "    <tr>\n",
              "      <th>[2, 3[</th>\n",
              "      <td>0.152</td>\n",
              "      <td>30.4</td>\n",
              "      <td>31.0</td>\n",
              "      <td>34.0</td>\n",
              "      <td>28.0</td>\n",
              "      <td>30.3722</td>\n",
              "      <td>0.051138</td>\n",
              "      <td>5.113793</td>\n",
              "    </tr>\n",
              "    <tr>\n",
              "      <th>[3, 4[</th>\n",
              "      <td>0.296</td>\n",
              "      <td>59.2</td>\n",
              "      <td>55.0</td>\n",
              "      <td>55.0</td>\n",
              "      <td>55.0</td>\n",
              "      <td>59.2612</td>\n",
              "      <td>0.063852</td>\n",
              "      <td>6.385237</td>\n",
              "    </tr>\n",
              "    <tr>\n",
              "      <th>[4, 5[</th>\n",
              "      <td>0.488</td>\n",
              "      <td>97.6</td>\n",
              "      <td>96.0</td>\n",
              "      <td>100.0</td>\n",
              "      <td>107.0</td>\n",
              "      <td>97.5162</td>\n",
              "      <td>0.071187</td>\n",
              "      <td>7.118694</td>\n",
              "    </tr>\n",
              "  </tbody>\n",
              "</table>\n",
              "</div>"
            ],
            "text/plain": [
              "           (1) P(x_a<=x<=x_b)  (2) n_0  (3) n  ...   (6) nh  (7) sig_nh   (8) s_n\n",
              "[x_a,x_b[                                      ...                               \n",
              "[0, 1[                  0.008      1.6    3.0  ...   1.6201    0.012727  1.272689\n",
              "[1, 2[                  0.056     11.2   15.0  ...  11.2303    0.032799  3.279930\n",
              "[2, 3[                  0.152     30.4   31.0  ...  30.3722    0.051138  5.113793\n",
              "[3, 4[                  0.296     59.2   55.0  ...  59.2612    0.063852  6.385237\n",
              "[4, 5[                  0.488     97.6   96.0  ...  97.5162    0.071187  7.118694\n",
              "\n",
              "[5 rows x 8 columns]"
            ]
          },
          "metadata": {
            "tags": []
          },
          "execution_count": 45
        }
      ]
    },
    {
      "cell_type": "code",
      "metadata": {
        "id": "TZs5CtNsV4Fj"
      },
      "source": [
        "df.to_csv('TEFE 2020 - Atividade 11.csv')"
      ],
      "execution_count": null,
      "outputs": []
    }
  ]
}