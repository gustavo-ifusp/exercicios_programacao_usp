{
  "nbformat": 4,
  "nbformat_minor": 0,
  "metadata": {
    "colab": {
      "name": "Ep3-MAC115-gustavo-de-andrade-8669592.ipynb",
      "provenance": [],
      "collapsed_sections": [],
      "authorship_tag": "ABX9TyMQPm2bas/GJeLMqLsfvp+H",
      "include_colab_link": true
    },
    "kernelspec": {
      "name": "python3",
      "display_name": "Python 3"
    },
    "language_info": {
      "name": "python"
    }
  },
  "cells": [
    {
      "cell_type": "markdown",
      "metadata": {
        "id": "view-in-github",
        "colab_type": "text"
      },
      "source": [
        "<a href=\"https://colab.research.google.com/github/gustavo-ifusp/exercicios_programacao_usp/blob/main/Ep3_MAC115_gustavo_de_andrade_8669592.ipynb\" target=\"_parent\"><img src=\"https://colab.research.google.com/assets/colab-badge.svg\" alt=\"Open In Colab\"/></a>"
      ]
    },
    {
      "cell_type": "markdown",
      "metadata": {
        "id": "pkmmJrfdNfPx"
      },
      "source": [
        "#**EP3 - MAC115**<br>\n",
        "[link do Enunciado](http://www.vision.ime.usp.br/~pmiranda/mac0115_2s21/EP2/ep2.pdf)<br><br>\n",
        "**Gustavo de Andrade - 8669592**|<br>\n",
        " - este EP só será publicado posteriormente a data de entrega e a nota publicada, não havendo facilitação de plágio. <br>\n",
        " Avaliado - Nota: 10"
      ]
    },
    {
      "cell_type": "markdown",
      "source": [
        "Versão da entrega:"
      ],
      "metadata": {
        "id": "tMipPV63LWPL"
      }
    },
    {
      "cell_type": "code",
      "source": [
        "\"\"\"\n",
        "  AO PREENCHER ESSE CABEÇALHO COM O MEU NOME E O MEU NÚMERO USP, \n",
        "  DECLARO QUE SOU O ÚNICO AUTOR E RESPONSÁVEL POR ESSE PROGRAMA. \n",
        "  TODAS AS PARTES ORIGINAIS DESSE EXERCÍCIO PROGRAMA (EP) FORAM \n",
        "  DESENVOLVIDAS E IMPLEMENTADAS POR MIM SEGUINDO AS INSTRUÇÕES\n",
        "  DESSE EP E QUE PORTANTO NÃO CONSTITUEM DESONESTIDADE ACADÊMICA\n",
        "  OU PLÁGIO.  \n",
        "  DECLARO TAMBÉM QUE SOU RESPONSÁVEL POR TODAS AS CÓPIAS\n",
        "  DESSE PROGRAMA E QUE EU NÃO DISTRIBUI OU FACILITEI A\n",
        "  SUA DISTRIBUIÇÃO. ESTOU CIENTE QUE OS CASOS DE PLÁGIO E\n",
        "  DESONESTIDADE ACADÊMICA SERÃO TRATADOS SEGUNDO OS CRITÉRIOS\n",
        "  DIVULGADOS NA PÁGINA DA DISCIPLINA.\n",
        "  ENTENDO QUE EPS SEM ASSINATURA NÃO SERÃO CORRIGIDOS E,\n",
        "  AINDA ASSIM, PODERÃO SER PUNIDOS POR DESONESTIDADE ACADÊMICA.\n",
        "\n",
        "  Nome : Gustavo de Andrade\n",
        "  NUSP : 8669592\n",
        "\n",
        "  Referências: Com exceção das rotinas fornecidas no enunciado\n",
        "  e em sala de aula, caso você tenha utilizado alguma refência,\n",
        "  liste-as abaixo para que o seu programa não seja considerado\n",
        "  plágio ou irregular.\n",
        "  \n",
        "  Exemplo:\n",
        "  - O algoritmo Quicksort foi baseado em\n",
        "  http://wiki.python.org.br/QuickSort\n",
        "\"\"\"\n",
        "\n",
        "def criaTabuleiroInicial(nlinhas, ncolunas):\n",
        "    A = []\n",
        "    for i in range(nlinhas):\n",
        "        A.append([\"O\"]*ncolunas)\n",
        "    return A\n",
        "\n",
        "def inverteCor(coordenadas, tabuleiro):\n",
        "    n = len(coordenadas)\n",
        "    m = 0\n",
        "    while m < n:        \n",
        "        lin = coordenadas[m][0]\n",
        "        col = coordenadas[m][1]\n",
        "        if tabuleiro[lin][col] == 'X':\n",
        "            tabuleiro[lin][col] = 'O'\n",
        "        elif tabuleiro[lin][col] == 'O':\n",
        "            tabuleiro[lin][col] = 'X'\n",
        "        m += 1\n",
        "    return tabuleiro\n",
        "\t\n",
        "def devolveVizinhos(lin, col, nlinhas, ncolunas):\n",
        "    vizinhos = []\n",
        "    i = lin-1\n",
        "    while i <= lin+1:\n",
        "        j = col-1\n",
        "        while j <= col+1:\n",
        "            if i>=0 and j>=0 and i<nlinhas and j<ncolunas: \n",
        "                if i != lin or j != col:\n",
        "                    if not (lin-i) == (col-j):\n",
        "                        if not (lin-i) == (j-col):\n",
        "                            lista = [i,j]\n",
        "                            vizinhos.append(lista)\n",
        "            j += 1\n",
        "        i += 1\n",
        "    return vizinhos\n",
        "\n",
        "def atualizaTabuleiro(lin, col, tabuleiro):\n",
        "    nlinhas = len(tabuleiro)\n",
        "    ncolunas = len(tabuleiro[0])\n",
        "    vizinhos = devolveVizinhos(lin, col, nlinhas, ncolunas)\n",
        "    if tabuleiro[lin][col] == \"X\":\n",
        "        tabuleiro[lin][col] = \"O\"\n",
        "    elif tabuleiro[lin][col] == \"O\":\n",
        "        tabuleiro[lin][col] = \"X\"\n",
        "    tabuleiro = inverteCor(vizinhos, tabuleiro)\n",
        "    return tabuleiro\n",
        "\n",
        "def verificaFimJogo(tabuleiro):\n",
        "    verifica = True\n",
        "    i = 0\n",
        "    while i < len(tabuleiro):\n",
        "        j = 0\n",
        "        while j < len(tabuleiro[0]):\n",
        "            if tabuleiro[i][j] != \"X\":\n",
        "                verifica = False\n",
        "            j += 1\n",
        "        i += 1\n",
        "    return verifica\n",
        "\n",
        "def imprimeTabuleiro(tabuleiro):\n",
        "    for i in range(len(tabuleiro)):\n",
        "        for j in range(len(tabuleiro[i])):\n",
        "            print(tabuleiro[i][j],end=\" \")\n",
        "        print()\n",
        "\n",
        "def jogo(nlinhas, ncolunas):\n",
        "    print()\n",
        "    tabuleiro = criaTabuleiroInicial(nlinhas, ncolunas)\n",
        "    imprimeTabuleiro(tabuleiro)\n",
        "    verifica = False\n",
        "    jogada = 1\n",
        "    while verifica == False:\n",
        "        pos = str(input(\"Digite a posição (lin, col): \"))\n",
        "        posi = pos.split(sep=' ')\n",
        "        lin = int(posi[0])\n",
        "        col = int(posi[1])\n",
        "        if lin == -1 and col == -1:\n",
        "            jogada = -1\n",
        "            break\n",
        "        elif lin<0 or col<0 or lin>=nlinhas or col>=nlinhas:\n",
        "            print()\n",
        "            print(\"Posição Inválida.\")\n",
        "            imprimeTabuleiro(tabuleiro)\n",
        "        else:\n",
        "            tabuleiro = atualizaTabuleiro(lin, col, tabuleiro)\n",
        "            verifica = verificaFimJogo(tabuleiro)\n",
        "            if verifica == True:\n",
        "                break\n",
        "            else:\n",
        "                print()\n",
        "                imprimeTabuleiro(tabuleiro)\n",
        "                jogada += 1\n",
        "    return jogada \n",
        "\n",
        "def main():\n",
        "    nlinhas = int(input(\"Número de linhas: \"))\n",
        "    ncolunas = int(input(\"Número de colunas: \"))\n",
        "\t\n",
        "    njogadas = jogo(nlinhas, ncolunas)\n",
        "\t\n",
        "    if njogadas != -1:\n",
        "        print(\"Parabéns! Você conseguiu inverter o tabuleiro em %d passos!\"%njogadas)\n",
        "\t\n",
        "if __name__ == \"__main__\":\n",
        "    main()"
      ],
      "metadata": {
        "id": "W2Sqmx9zOhwH"
      },
      "execution_count": null,
      "outputs": []
    },
    {
      "cell_type": "markdown",
      "source": [
        "**Desenvolvimento:**"
      ],
      "metadata": {
        "id": "LNHqMDCJq6GY"
      }
    },
    {
      "cell_type": "code",
      "source": [
        "nlinhas = int(input(\"Digite o número de linhas: \"))\n",
        "ncolunas = int(input(\"Digite o número de colunas: \"))"
      ],
      "metadata": {
        "colab": {
          "base_uri": "https://localhost:8080/"
        },
        "id": "mPwmVvnV6ZIr",
        "outputId": "2209b429-de56-4208-85a8-da53d6fefa9b"
      },
      "execution_count": null,
      "outputs": [
        {
          "name": "stdout",
          "output_type": "stream",
          "text": [
            "Digite o número de linhas: 3\n",
            "Digite o número de colunas: 3\n"
          ]
        }
      ]
    },
    {
      "cell_type": "markdown",
      "source": [
        "#**Função Cria Tabuleiro** <br>\n",
        "Retorna uma matriz do tabuleiro com dimensões de nlinhas e ncolunas.\n"
      ],
      "metadata": {
        "id": "tvfYyewJ8x1d"
      }
    },
    {
      "cell_type": "code",
      "source": [
        "def criaTabuleiroInicial(nlinhas, ncolunas):\n",
        "    A = []\n",
        "    for i in range(nlinhas):\n",
        "        A.append([\"O\"]*ncolunas)\n",
        "    return A"
      ],
      "metadata": {
        "id": "QGDMjXrDoIfE"
      },
      "execution_count": null,
      "outputs": []
    },
    {
      "cell_type": "code",
      "source": [
        "tabuleiro = criaTabuleiroInicial(nlinhas, ncolunas)"
      ],
      "metadata": {
        "id": "L1rDmCXSscCu"
      },
      "execution_count": null,
      "outputs": []
    },
    {
      "cell_type": "code",
      "source": [
        "tabuleiro"
      ],
      "metadata": {
        "colab": {
          "base_uri": "https://localhost:8080/"
        },
        "id": "k_Ls96t4siAy",
        "outputId": "0ab3b5cd-1600-43d5-b190-a2de09bf7383"
      },
      "execution_count": null,
      "outputs": [
        {
          "output_type": "execute_result",
          "data": {
            "text/plain": [
              "[['O', 'O', 'O'], ['X', 'O', 'X'], ['O', 'O', 'O']]"
            ]
          },
          "metadata": {},
          "execution_count": 14
        }
      ]
    },
    {
      "cell_type": "code",
      "source": [
        "tabuleiro[0][1] = 'X'"
      ],
      "metadata": {
        "id": "ugZY3z88BY4j"
      },
      "execution_count": null,
      "outputs": []
    },
    {
      "cell_type": "markdown",
      "source": [
        "#**Função Inverte Cor:**<br>\n",
        "Recebe uma lista de coordenadas e inverte a cor das coordenadas especificadas no\n",
        "tabuleiro."
      ],
      "metadata": {
        "id": "Qf6WhnSMpxAs"
      }
    },
    {
      "cell_type": "markdown",
      "source": [
        "**def inverteCor(coordenadas, tabuleiro):**<br>\n",
        "\t'''(lista de coordenadas, tabuleiro) -> None\n",
        "\t\n",
        "\tRecebe:\n",
        "\t\t- uma lista de coordenadas válidas\n",
        "\t\t[[lin1,col1], [lin2,col2], ...] que devem \n",
        "\t\tter a cores invertidas e atualiza o tabuleiro.\n",
        "\t\tCada coordenada é uma lista do tipo [lin,col].\n",
        "\t'''\n",
        "\treturn None"
      ],
      "metadata": {
        "id": "fYhDkd7SqQsi"
      }
    },
    {
      "cell_type": "code",
      "source": [
        "coordenadas = [[0,1],[1,0],[1,2]]"
      ],
      "metadata": {
        "id": "LuK8eZ2ds685"
      },
      "execution_count": null,
      "outputs": []
    },
    {
      "cell_type": "code",
      "source": [
        "def inverteCor(coordenadas, tabuleiro):\n",
        "    n = len(coordenadas)\n",
        "    m = 0\n",
        "    while m < n:        \n",
        "        lin = coordenadas[m][0]\n",
        "        col = coordenadas[m][1]\n",
        "        if tabuleiro[lin][col] == 'X':\n",
        "            tabuleiro[lin][col] = 'O'\n",
        "        elif tabuleiro[lin][col] == 'O':\n",
        "            tabuleiro[lin][col] = 'X'\n",
        "        m += 1\n",
        "    return tabuleiro"
      ],
      "metadata": {
        "id": "kuZFRJ48qRYw"
      },
      "execution_count": null,
      "outputs": []
    },
    {
      "cell_type": "code",
      "source": [
        "inverteCor(coordenadas, tabuleiro)"
      ],
      "metadata": {
        "colab": {
          "base_uri": "https://localhost:8080/"
        },
        "id": "0O2ElqJguC9W",
        "outputId": "df101ebf-534a-49ef-d242-63769b3ada3b"
      },
      "execution_count": null,
      "outputs": [
        {
          "output_type": "execute_result",
          "data": {
            "text/plain": [
              "[['O', 'O', 'O'], ['X', 'O', 'X'], ['O', 'O', 'O']]"
            ]
          },
          "metadata": {},
          "execution_count": 9
        }
      ]
    },
    {
      "cell_type": "code",
      "source": [
        "coordenadas[0][1]"
      ],
      "metadata": {
        "colab": {
          "base_uri": "https://localhost:8080/"
        },
        "id": "FQMldMZ50Osk",
        "outputId": "397ef9e7-e74e-4a8c-8b1b-772f3b96111d"
      },
      "execution_count": null,
      "outputs": [
        {
          "output_type": "execute_result",
          "data": {
            "text/plain": [
              "1"
            ]
          },
          "metadata": {},
          "execution_count": 10
        }
      ]
    },
    {
      "cell_type": "code",
      "source": [
        "for coordenada in coordenadas:\n",
        "    print(\"[\",coordenada[0],\",\",coordenada[1],\"]\", end=\" \")"
      ],
      "metadata": {
        "colab": {
          "base_uri": "https://localhost:8080/"
        },
        "id": "gS-17oZawnDG",
        "outputId": "f013dec8-3614-439a-d64e-6b7a594b696f"
      },
      "execution_count": null,
      "outputs": [
        {
          "output_type": "stream",
          "name": "stdout",
          "text": [
            "[ 0 , 1 ] [ 1 , 0 ] [ 1 , 2 ] "
          ]
        }
      ]
    },
    {
      "cell_type": "code",
      "source": [
        "tabuleiro"
      ],
      "metadata": {
        "colab": {
          "base_uri": "https://localhost:8080/"
        },
        "id": "CzuTxRTGxQ1G",
        "outputId": "5e95e931-e737-4d27-988c-240f0e2932b6"
      },
      "execution_count": null,
      "outputs": [
        {
          "output_type": "execute_result",
          "data": {
            "text/plain": [
              "[['O', 'O', 'O'], ['X', 'O', 'X'], ['O', 'O', 'O']]"
            ]
          },
          "metadata": {},
          "execution_count": 12
        }
      ]
    },
    {
      "cell_type": "code",
      "source": [
        "tabuleiro[2]"
      ],
      "metadata": {
        "colab": {
          "base_uri": "https://localhost:8080/"
        },
        "id": "-BLH-lpQyPny",
        "outputId": "87755718-e999-4666-ffd6-8add53b24285"
      },
      "execution_count": null,
      "outputs": [
        {
          "output_type": "execute_result",
          "data": {
            "text/plain": [
              "['O', 'O', 'O']"
            ]
          },
          "metadata": {},
          "execution_count": 16
        }
      ]
    },
    {
      "cell_type": "code",
      "source": [
        "len(coordenadas)"
      ],
      "metadata": {
        "colab": {
          "base_uri": "https://localhost:8080/"
        },
        "id": "PxIqHqtR3AGp",
        "outputId": "141a7aea-9696-4fdf-c2a4-93508da0c835"
      },
      "execution_count": null,
      "outputs": [
        {
          "output_type": "execute_result",
          "data": {
            "text/plain": [
              "3"
            ]
          },
          "metadata": {},
          "execution_count": 17
        }
      ]
    },
    {
      "cell_type": "markdown",
      "source": [
        "#**Função Devolve Vizinhos:**<br>\n",
        "def devolveVizinhos(lin, col, nlinhas, ncolunas):\n",
        "<br><br>\n",
        "Recebe uma posição no tabuleiro (lin, col) e as dimensões da matriz (número de\n",
        "linhas - nlinhas, e número de colunas - ncolunas) e retorna uma lista com as\n",
        "posições dos vizinhos."
      ],
      "metadata": {
        "id": "mPbDyRUaDQ4O"
      }
    },
    {
      "cell_type": "markdown",
      "source": [
        "def devolveVizinhos(lin, col, nlinhas, ncolunas):<br>\n",
        "\t'''(inteiro, inteiro, tabuleiro) -> Lista de coordenadas\n",
        "<br>\n",
        "\tRecebe:<br>\n",
        "\t\t- as coordenadas (lin, col) e devolve uma lista com as \n",
        "\t\tcoordenadas das posições adjacentes que são válidas.\n",
        "<br>\n",
        "\tPré-condição: <br>\n",
        "\t\tA função supõe que a posição de coordenadas (lin, col) é válida.\n",
        "<br><br>\n",
        "        Exemplos:<br>\n",
        "        >>> devolveVizinhos(1,2,4,4)<br>\n",
        "        [[0, 2], [2, 2], [1, 1], [1, 3]]<br>\n",
        "        >>> devolveVizinhos(0,2,4,4)<br>\n",
        "        [[1, 2], [0, 1], [0, 3]]    <br>    \n",
        "\t'''\n",
        "\treturn [ ]\n"
      ],
      "metadata": {
        "id": "lG-y7zucDj21"
      }
    },
    {
      "cell_type": "markdown",
      "source": [
        "        for linha in tabuleiro:\n",
        "            for elemento in range(len(linha)):"
      ],
      "metadata": {
        "id": "hZW3dDCqBOIk"
      }
    },
    {
      "cell_type": "code",
      "source": [
        "lin = coordenadas[0][0]\n",
        "col = coordenadas[0][1]\n",
        "print(lin,col)"
      ],
      "metadata": {
        "colab": {
          "base_uri": "https://localhost:8080/"
        },
        "id": "0GCkUNPJEixM",
        "outputId": "7a559d52-bcae-4176-8b48-143fee9466c7"
      },
      "execution_count": null,
      "outputs": [
        {
          "output_type": "stream",
          "name": "stdout",
          "text": [
            "0 1\n"
          ]
        }
      ]
    },
    {
      "cell_type": "code",
      "source": [
        "def devolveVizinhos(lin, col, nlinhas, ncolunas):\n",
        "    vizinhos = []\n",
        "    i = lin-1\n",
        "    while i <= lin+1:\n",
        "        j = col-1\n",
        "        while j <= col+1:\n",
        "            if i>=0 and j>=0 and i<nlinhas and j<ncolunas: \n",
        "                if i != lin or j != col:\n",
        "                    if not (lin-i) == (col-j):\n",
        "                        if not (lin-i) == (j-col):\n",
        "                            lista = [i,j]\n",
        "                            vizinhos.append(lista)\n",
        "            j += 1\n",
        "        i += 1\n",
        "    return vizinhos\n"
      ],
      "metadata": {
        "id": "I1sLq6qrDlZd"
      },
      "execution_count": null,
      "outputs": []
    },
    {
      "cell_type": "code",
      "source": [
        "devolveVizinhos(1, 1, 3, 3)"
      ],
      "metadata": {
        "colab": {
          "base_uri": "https://localhost:8080/"
        },
        "id": "eRxxt4RiKN7v",
        "outputId": "9c5958a6-12fc-425d-811e-94f34bd32cae"
      },
      "execution_count": null,
      "outputs": [
        {
          "output_type": "execute_result",
          "data": {
            "text/plain": [
              "[[0, 1], [1, 0], [1, 2], [2, 1]]"
            ]
          },
          "metadata": {},
          "execution_count": 20
        }
      ]
    },
    {
      "cell_type": "code",
      "source": [
        "devolveVizinhos(lin, col, nlinhas, ncolunas)"
      ],
      "metadata": {
        "colab": {
          "base_uri": "https://localhost:8080/"
        },
        "id": "bgPw0G9gJWBL",
        "outputId": "70556c49-b56f-46b9-f82a-0125afa03a44"
      },
      "execution_count": null,
      "outputs": [
        {
          "output_type": "execute_result",
          "data": {
            "text/plain": [
              "[[0, 0], [0, 2], [1, 1]]"
            ]
          },
          "metadata": {},
          "execution_count": 21
        }
      ]
    },
    {
      "cell_type": "code",
      "source": [
        "print(lin, col, nlinhas, ncolunas)"
      ],
      "metadata": {
        "colab": {
          "base_uri": "https://localhost:8080/"
        },
        "id": "NNpIZBefJtzh",
        "outputId": "82d7adc0-4a3f-4e17-a2e9-3b481284e434"
      },
      "execution_count": null,
      "outputs": [
        {
          "output_type": "stream",
          "name": "stdout",
          "text": [
            "0 1 3 3\n"
          ]
        }
      ]
    },
    {
      "cell_type": "code",
      "source": [
        "tabuleiro"
      ],
      "metadata": {
        "colab": {
          "base_uri": "https://localhost:8080/"
        },
        "id": "hnP59eavDliD",
        "outputId": "34141200-9500-439b-fcc8-b9a54e0bc15d"
      },
      "execution_count": null,
      "outputs": [
        {
          "output_type": "execute_result",
          "data": {
            "text/plain": [
              "[['O', 'O', 'O'], ['O', 'O', 'O'], ['O', 'O', 'O']]"
            ]
          },
          "metadata": {},
          "execution_count": 27
        }
      ]
    },
    {
      "cell_type": "markdown",
      "source": [
        "#**Atualiza Tabuleiro** <br>\n",
        "\n",
        "def atualizaTabuleiro(lin, col, tabuleiro):<br>\n",
        "Recebe uma posição no tabuleiro (lin, col) e atualiza o tabuleiro com a jogada\n",
        "desejada.\n"
      ],
      "metadata": {
        "id": "rX19YTrXebvz"
      }
    },
    {
      "cell_type": "markdown",
      "source": [
        "def atualizaTabuleiro(lin, col, tabuleiro):<br>\n",
        "\t'''(inteiro, inteiro, tabuleiro) -> None<br>\n",
        "\n",
        "\tRecebe:<br>\n",
        "\t\t- as coordenadas (lin, col) escolhida pelo usuário\n",
        "\t\te atualiza o tabuleiro.\n",
        "<br>\n",
        "\tPré-condição: <br>\n",
        "\t\tA função supõe que a posição de coordenadas (lin, col) é válida.<br>\n",
        "\n",
        "\t\tEsta função DEVE usar a função 'devolveVizinhos' e 'inverteCor' \n",
        "\t'''\n",
        "\treturn None"
      ],
      "metadata": {
        "id": "AVhRc5u8epGi"
      }
    },
    {
      "cell_type": "code",
      "source": [
        "tabuleiro"
      ],
      "metadata": {
        "colab": {
          "base_uri": "https://localhost:8080/"
        },
        "id": "cNhowh_Of-Fg",
        "outputId": "00529ba4-d965-4c33-b8b9-9245b7988a26"
      },
      "execution_count": null,
      "outputs": [
        {
          "output_type": "execute_result",
          "data": {
            "text/plain": [
              "[['O', 'O', 'O'], ['O', 'O', 'O'], ['O', 'O', 'O']]"
            ]
          },
          "metadata": {},
          "execution_count": 23
        }
      ]
    },
    {
      "cell_type": "code",
      "source": [
        "def atualizaTabuleiro(lin, col, tabuleiro):\n",
        "    nlinhas = len(tabuleiro)\n",
        "    ncolunas = len(tabuleiro[0])\n",
        "    vizinhos = devolveVizinhos(lin, col, nlinhas, ncolunas)\n",
        "    tabuleiro[lin][col] = \"X\"\n",
        "    n = 0\n",
        "    while n<(len(vizinhos)):\n",
        "        i,j = vizinhos[n][0],vizinhos[n][1]\n",
        "        inverteCor(coordenadas, tabuleiro)\n",
        "        n+=1"
      ],
      "metadata": {
        "id": "r66LpOuIDlk6"
      },
      "execution_count": null,
      "outputs": []
    },
    {
      "cell_type": "code",
      "source": [
        "def atualizaTabuleiro(lin, col, tabuleiro):\n",
        "    nlinhas = len(tabuleiro)\n",
        "    ncolunas = len(tabuleiro[0])\n",
        "    vizinhos = devolveVizinhos(lin, col, nlinhas, ncolunas)\n",
        "    if tabuleiro[lin][col] == \"X\":\n",
        "        tabuleiro[lin][col] = \"O\"\n",
        "    elif tabuleiro[lin][col] == \"O\":\n",
        "        tabuleiro[lin][col] = \"X\"\n",
        "    tabuleiro = inverteCor(vizinhos, tabuleiro)\n",
        "    return tabuleiro"
      ],
      "metadata": {
        "id": "oaO42rSMiN3B"
      },
      "execution_count": null,
      "outputs": []
    },
    {
      "cell_type": "code",
      "source": [
        "atualizaTabuleiro(0, 1, [['X', 'X', 'O'], ['X', 'O', 'O'], ['O', 'O', 'O']])"
      ],
      "metadata": {
        "colab": {
          "base_uri": "https://localhost:8080/"
        },
        "id": "ez4wfKkskwGL",
        "outputId": "8687cd6b-ea19-49b1-cba2-6236a55a9f6a"
      },
      "execution_count": null,
      "outputs": [
        {
          "output_type": "execute_result",
          "data": {
            "text/plain": [
              "[['O', 'O', 'X'], ['X', 'X', 'O'], ['O', 'O', 'O']]"
            ]
          },
          "metadata": {},
          "execution_count": 26
        }
      ]
    },
    {
      "cell_type": "markdown",
      "source": [
        "ERRO: Retorno incorreto na chamada atualizaTabuleiro(0, 1, [['X', 'X', 'O'], ['X', 'O', 'O'], ['O', 'O', 'O']])<br>\n",
        "Valor devolvido:[0, 1, [['O', 'X', 'X'], ['X', 'X', 'O'], ['O', 'O', 'O']]])<br>\n",
        "Valor esperado: [0, 1, [['O', 'O', 'X'], ['X', 'X', 'O'], ['O', 'O', 'O']]]"
      ],
      "metadata": {
        "id": "y559PJScksu9"
      }
    },
    {
      "cell_type": "markdown",
      "source": [
        "#**Função Verifica Fim de Jogo**<br>\n",
        "def verificaFimJogo(tabuleiro):<br>\n",
        "Retorna True se todas as posições do tabuleiro são pretas ou False, caso contrário.\n"
      ],
      "metadata": {
        "id": "dlP1PIWvmKac"
      }
    },
    {
      "cell_type": "markdown",
      "source": [
        "def verificaFimJogo(tabuleiro):<br>\n",
        "(matriz tabuleiro) -> bool<br>\n",
        "<br>\n",
        "\tRecebe: \n",
        "\t\t- uma matriz que representa o tabuleiro\n",
        "\n",
        "\tDevolve: \n",
        "\t\t- True se todas as posições do tabuleiro são pretas (\"X\"),\n",
        "\t\tcaso contrário a função retorna False.<br>\n",
        "\n",
        "\treturn None"
      ],
      "metadata": {
        "id": "0ZFGllBomX6j"
      }
    },
    {
      "cell_type": "code",
      "source": [
        "tabuleiro"
      ],
      "metadata": {
        "colab": {
          "base_uri": "https://localhost:8080/"
        },
        "id": "NUwBG4SEmrtC",
        "outputId": "7370587b-1d9f-49df-bf05-19d063c52bcf"
      },
      "execution_count": null,
      "outputs": [
        {
          "output_type": "execute_result",
          "data": {
            "text/plain": [
              "[['O', 'O', 'O'], ['O', 'O', 'O'], ['O', 'O', 'O']]"
            ]
          },
          "metadata": {},
          "execution_count": 28
        }
      ]
    },
    {
      "cell_type": "code",
      "source": [
        "def verificaFimJogo(tabuleiro):\n",
        "    verifica = True\n",
        "    i = 0\n",
        "    while i < len(tabuleiro):\n",
        "        j = 0\n",
        "        while j < len(tabuleiro[0]):\n",
        "            if tabuleiro[i][j] != \"X\":\n",
        "                verifica = False\n",
        "            j += 1\n",
        "        i += 1\n",
        "    return verifica"
      ],
      "metadata": {
        "id": "qiUZ_v3UDlnn"
      },
      "execution_count": null,
      "outputs": []
    },
    {
      "cell_type": "code",
      "source": [
        "verificaFimJogo([['X', 'X', 'X', 'X', 'X'], ['X', 'X', 'X', 'X', 'X'], ['X', 'X', 'X', 'X', 'X']])"
      ],
      "metadata": {
        "colab": {
          "base_uri": "https://localhost:8080/"
        },
        "id": "FNSpREyToYHI",
        "outputId": "12958b93-1a28-4ad9-e726-6427b9cb7893"
      },
      "execution_count": null,
      "outputs": [
        {
          "output_type": "execute_result",
          "data": {
            "text/plain": [
              "True"
            ]
          },
          "metadata": {},
          "execution_count": 30
        }
      ]
    },
    {
      "cell_type": "markdown",
      "source": [
        "#**Função imprime tabuleiro** <br>\n",
        "\n",
        "def imprimeTabuleiro(tabuleiro):<br>\n",
        "Imprime o tabuleiro.<br>"
      ],
      "metadata": {
        "id": "i3ag9-tVp-m6"
      }
    },
    {
      "cell_type": "code",
      "source": [
        "def imprimeTabuleiro(tabuleiro):\n",
        "    for i in range(len(tabuleiro)):\n",
        "        for j in range(len(tabuleiro[i])):\n",
        "            print(tabuleiro[i][j],end=\" \")\n",
        "        print()"
      ],
      "metadata": {
        "id": "Gl2p0sYiqL7A"
      },
      "execution_count": null,
      "outputs": []
    },
    {
      "cell_type": "code",
      "source": [
        "tabuleiro"
      ],
      "metadata": {
        "colab": {
          "base_uri": "https://localhost:8080/"
        },
        "id": "sGnt5tComlXR",
        "outputId": "d820058d-721d-42a5-81b7-be323335b7d2"
      },
      "execution_count": null,
      "outputs": [
        {
          "output_type": "execute_result",
          "data": {
            "text/plain": [
              "[['O', 'O', 'O'], ['O', 'O', 'O'], ['O', 'O', 'O']]"
            ]
          },
          "metadata": {},
          "execution_count": 32
        }
      ]
    },
    {
      "cell_type": "code",
      "source": [
        "imprimeTabuleiro(tabuleiro)"
      ],
      "metadata": {
        "colab": {
          "base_uri": "https://localhost:8080/"
        },
        "id": "x6cqbZ6yDlqb",
        "outputId": "231847e7-5ef9-4331-fcb3-5ce1b2234b24"
      },
      "execution_count": null,
      "outputs": [
        {
          "output_type": "stream",
          "name": "stdout",
          "text": [
            "O O O \n",
            "O O O \n",
            "O O O \n"
          ]
        }
      ]
    },
    {
      "cell_type": "code",
      "source": [
        "tabuleiro = ['X', 'X', 'X', 'X', 'X'], ['X', 'X', 'X', 'X', 'X'], ['X', 'X', 'X', 'X', 'X']"
      ],
      "metadata": {
        "id": "FamwirtCsBiG"
      },
      "execution_count": null,
      "outputs": []
    },
    {
      "cell_type": "code",
      "source": [
        "tabuleiro"
      ],
      "metadata": {
        "colab": {
          "base_uri": "https://localhost:8080/"
        },
        "id": "0k9DYvrusECq",
        "outputId": "a9151d2f-f69c-4863-cdb7-453bd0d83373"
      },
      "execution_count": null,
      "outputs": [
        {
          "output_type": "execute_result",
          "data": {
            "text/plain": [
              "(['X', 'X', 'X', 'X', 'X'],\n",
              " ['X', 'X', 'X', 'X', 'X'],\n",
              " ['X', 'X', 'X', 'X', 'X'])"
            ]
          },
          "metadata": {},
          "execution_count": 35
        }
      ]
    },
    {
      "cell_type": "code",
      "source": [
        "imprimeTabuleiro(tabuleiro)"
      ],
      "metadata": {
        "colab": {
          "base_uri": "https://localhost:8080/"
        },
        "id": "mOXxv88csGlK",
        "outputId": "51730381-0bd4-4d46-98bc-44f6cc8b44f2"
      },
      "execution_count": null,
      "outputs": [
        {
          "output_type": "stream",
          "name": "stdout",
          "text": [
            "X X X X X \n",
            "X X X X X \n",
            "X X X X X \n"
          ]
        }
      ]
    },
    {
      "cell_type": "markdown",
      "source": [
        "#**Função Principal JOGO:** <br>\n",
        "\n",
        "def jogo(nlinhas, ncolunas):<br>\n",
        "Recebe as dimensões de um tabuleiro, solicita as jogadas e retorna a quantidade de\n",
        "jogadas realizadas.<br><br>\n",
        "\n",
        "def jogo(nlinhas, ncolunas):<br>\n",
        "\t'''(número, número) -> quantidade de jogadas\n",
        "\n",
        "\tRecebe:\n",
        "\t\t- as dimensões do tabuleiro\n",
        "\n",
        "\tRetorna:\n",
        "\t\t- quantidade de jogadas feitas, \n",
        "\t\tse retorno -1, então jogador desistiu da partida\n",
        "\t'''\n",
        "\treturn -1"
      ],
      "metadata": {
        "id": "GHARzLiKsNBq"
      }
    },
    {
      "cell_type": "code",
      "source": [
        "def jogo(nlinhas, ncolunas):\n",
        "    print()\n",
        "    tabuleiro = criaTabuleiroInicial(nlinhas, ncolunas)\n",
        "    imprimeTabuleiro(tabuleiro)\n",
        "    verifica = False\n",
        "    jogada = 1\n",
        "    while verifica == False:\n",
        "        pos = str(input(\"Digite a posição (lin, col): \"))\n",
        "        posi = pos.split(sep=' ')\n",
        "        lin = int(posi[0])\n",
        "        col = int(posi[1])\n",
        "        if lin == -1 and col == -1:\n",
        "            jogada = -1\n",
        "            break\n",
        "        elif lin<0 or col<0 or lin>=nlinhas or col>=nlinhas:\n",
        "            print()\n",
        "            print(\"Posição Inválida.\")\n",
        "            imprimeTabuleiro(tabuleiro)\n",
        "        else:\n",
        "            tabuleiro = atualizaTabuleiro(lin, col, tabuleiro)\n",
        "            verifica = verificaFimJogo(tabuleiro)\n",
        "            if verifica == True:\n",
        "                break\n",
        "            else:\n",
        "                print()\n",
        "                imprimeTabuleiro(tabuleiro)\n",
        "                jogada += 1\n",
        "    return jogada \n",
        "\n"
      ],
      "metadata": {
        "id": "8KTpGmbssoLw"
      },
      "execution_count": null,
      "outputs": []
    },
    {
      "cell_type": "code",
      "source": [
        "pos = str(\"2,3\")"
      ],
      "metadata": {
        "id": "L6wNulIpFf_j"
      },
      "execution_count": null,
      "outputs": []
    },
    {
      "cell_type": "code",
      "source": [
        "poi = str(input(\"Digite a posição (lin, col): \"))"
      ],
      "metadata": {
        "colab": {
          "base_uri": "https://localhost:8080/"
        },
        "id": "BmzhB5YLFmic",
        "outputId": "aca5982a-0304-4ccb-f4aa-91f3e6623f40"
      },
      "execution_count": null,
      "outputs": [
        {
          "name": "stdout",
          "output_type": "stream",
          "text": [
            "Digite a posição (lin, col): 2 3\n"
          ]
        }
      ]
    },
    {
      "cell_type": "code",
      "source": [
        "poi.split(sep=' ')"
      ],
      "metadata": {
        "colab": {
          "base_uri": "https://localhost:8080/"
        },
        "id": "39nP04shFkqz",
        "outputId": "53806ec8-1115-4557-a9f9-1918f752c8f8"
      },
      "execution_count": null,
      "outputs": [
        {
          "output_type": "execute_result",
          "data": {
            "text/plain": [
              "['2', '3']"
            ]
          },
          "metadata": {},
          "execution_count": 57
        }
      ]
    },
    {
      "cell_type": "markdown",
      "source": [
        "#**Def main**"
      ],
      "metadata": {
        "id": "KazM_ZU2stga"
      }
    },
    {
      "cell_type": "code",
      "source": [
        "def main():\n",
        "    nlinhas = int(input(\"Número de linhas: \"))\n",
        "    ncolunas = int(input(\"Número de colunas: \"))\n",
        "\t\n",
        "    njogadas = jogo(nlinhas, ncolunas)\n",
        "\t\n",
        "    if njogadas != -1:\n",
        "        print(\"Parabéns! Você conseguiu inverter o tabuleiro em %d passos!\"%njogadas)"
      ],
      "metadata": {
        "id": "sT7Ohjzuswuw"
      },
      "execution_count": null,
      "outputs": []
    }
  ]
}